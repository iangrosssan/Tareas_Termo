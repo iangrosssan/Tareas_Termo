{
 "cells": [
  {
   "cell_type": "markdown",
   "metadata": {},
   "source": [
    "# Tarea 2: Piping y Bombas\n",
    "### Pablo Correa e Ian Gross"
   ]
  },
  {
   "cell_type": "markdown",
   "metadata": {},
   "source": [
    "## Librerías"
   ]
  },
  {
   "cell_type": "code",
   "execution_count": 13,
   "metadata": {},
   "outputs": [],
   "source": [
    "import CoolProp.CoolProp as cp\n",
    "import fluids as fld\n",
    "import numpy as np\n",
    "import scipy.constants as cte\n",
    "import matplotlib.pyplot as plt\n",
    "\n",
    "from fluids.units import *"
   ]
  },
  {
   "cell_type": "code",
   "execution_count": 14,
   "metadata": {},
   "outputs": [],
   "source": [
    "g = cte.g*u.m/u.s**2"
   ]
  },
  {
   "cell_type": "markdown",
   "metadata": {},
   "source": [
    "## Problema 1\n",
    "\n",
    "Considere el sistema de distribución de agua en la figura, donde la presión en A es 150 psig.\n",
    "\n",
    "Considerando las tuberías de entrada y salida 1 y 2 respectivamente, y las tuberías paralelas A, B y C desde arriba hacia abajo, se tiene que:"
   ]
  },
  {
   "cell_type": "code",
   "execution_count": 23,
   "metadata": {},
   "outputs": [],
   "source": [
    "# datos\n",
    "z_A = (100*u.ft).to(u.m)\n",
    "z_B = (120*u.ft).to(u.m)\n",
    "\n",
    "L_1 = (2000*u.ft).to(u.m)\n",
    "L_2 = (4000*u.ft).to(u.m)\n",
    "L_A = (3000*u.ft).to(u.m)\n",
    "L_B = (2000*u.ft).to(u.m)\n",
    "L_C = (3000*u.ft).to(u.m)\n",
    "\n",
    "D_1 = (24*u.inch).to(u.m)\n",
    "D_2 = (30*u.inch).to(u.m)\n",
    "D_A = (14*u.inch).to(u.m)\n",
    "D_B = (12*u.inch).to(u.m)\n",
    "D_C = (16*u.inch).to(u.m)\n",
    "\n",
    "A_1 = np.pi * D_1**2 / 4\n",
    "A_2 = np.pi * D_2**2 / 4\n",
    "A_A = np.pi * D_A**2 / 4\n",
    "A_B = np.pi * D_B**2 / 4\n",
    "A_C = np.pi * D_C**2 / 4\n",
    "\n",
    "Q = (20*u.cubic_feet/u.s).to(u.m**3/u.s)\n",
    "P_1 = ((150 + 14.7)*u.psi).to(u.Pa) # psig = psi + 14.7\n",
    "T = 300*u.K # Asumiendo temperatura ambiente\n",
    "epsilon = (0.0015*u.mm).to(u.m) # Asumiendo tubería de PVC [1]\n",
    "\n",
    "rho = cp.PropsSI('D', 'P', P_1.magnitude, 'T', T.magnitude, 'Water')*u.kg/u.m**3\n",
    "mu = cp.PropsSI('V', 'P', P_1.magnitude, 'T', T.magnitude, 'Water')*u.Pa*u.s"
   ]
  },
  {
   "cell_type": "markdown",
   "metadata": {},
   "source": [
    "a. La pérdida de carga desde A a B, si es que solo la tubería A es utilizada.\n",
    "\n",
    "Considerando que solo se usa la tubería A, los caudales serían:\n",
    "\n",
    "$$\\dot{\\forall} = \\dot{\\forall}_1 = \\dot{\\forall}_2 = \\dot{\\forall}_A$$\n",
    "$$\\dot{\\forall}_B = \\dot{\\forall}_C = 0$$\n",
    "\n",
    "Además, se sabe que las pérdidas de carga corresponderían a las pérdidas por fricción en los tramos y no hay singularidades, por lo tanto:\n",
    "\n",
    "$$\\Delta P = \\Delta P_1 + \\Delta P_2 + \\Delta P_A$$\n",
    "$$\\Delta P_i = f_i \\rho \\frac{L_i}{D_i} \\frac{V_i^2}{2}$$\n",
    "\n",
    "Siendo $V_i$ la velocidad promedio en el tramo. Suponiendo que el caudal es constante a lo largo del tramo, y que las tuberías tienen perfil circular, se puede estimar que las velocidades serían:\n",
    "\n",
    "$$V_i = \\frac{\\dot{\\forall}_i}{A_i} = \\frac{4 \\dot{\\forall}}{\\pi D_i^2}$$\n",
    "\n",
    "Con esta expresión, la pérdida total sería\n",
    "\n",
    "$$\\Delta P = \\frac{\\rho}{2} (f_1 \\frac{L_1}{D_1} V_1^2 + f_2 \\frac{L_2}{D_2} V_2^2 + f_A \\frac{L_A}{D_A} V_A^2)$$"
   ]
  },
  {
   "cell_type": "code",
   "execution_count": 24,
   "metadata": {},
   "outputs": [
    {
     "name": "stdout",
     "output_type": "stream",
     "text": [
      "La pérdida de carga total es 492.57903720404875 kilopascal\n"
     ]
    }
   ],
   "source": [
    "v_1 = Q / A_1\n",
    "v_2 = Q / A_2\n",
    "v_A = Q / A_A\n",
    "\n",
    "Re_1 = fld.Reynolds(D=D_1, rho=rho, mu=mu, V=v_1)\n",
    "Re_2 = fld.Reynolds(D=D_2, rho=rho, mu=mu, V=v_2)\n",
    "Re_A = fld.Reynolds(D=D_A, rho=rho, mu=mu, V=v_A)\n",
    "\n",
    "f_1 = fld.friction.friction_factor(Re_1, eD=epsilon/D_1)\n",
    "f_2 = fld.friction.friction_factor(Re_2, eD=epsilon/D_2)\n",
    "f_A = fld.friction.friction_factor(Re_A, eD=epsilon/D_A)\n",
    "\n",
    "DP_1 = rho/2*(f_1*L_1/D_1*v_1**2 + f_A*L_A/D_A*v_A**2 + f_2*L_2/D_2*v_2**2 + g*(z_B - z_A))\n",
    "print(f\"La pérdida de carga total es {DP_1.to(u.kPa)}\")"
   ]
  },
  {
   "cell_type": "markdown",
   "metadata": {},
   "source": [
    "b. La pérdida de carga desde A a B, si es que las tuberías A y B son utilizadas.\n",
    "\n",
    "Considerando que se usan las tuberías A y B, se puede suponer que los caudales tienen las siguientes relaciones:\n",
    "\n",
    "$$\\dot{\\forall} = \\dot{\\forall}_A + \\dot{\\forall}_B$$\n",
    "$$\\dot{\\forall}_C = 0$$\n",
    "\n",
    "Por otro lado, como las tuberías se encuentran paralelas se sabe que:\n",
    "\n",
    "$$\\Delta P_A = \\Delta P_B$$\n",
    "$$\\Delta P_A - \\Delta P_B = 0$$\n",
    "\n",
    "Reemplazando las expresiones de velocidad y presión de la parte (a.) se tiene que:\n",
    "\n",
    "$$A_A V_A + A_B V_B = \\dot{\\forall}$$\n",
    "$$f_A \\frac{\\rho}{2} \\frac{L_A}{D_A} V_A^2 - f_B \\frac{\\rho}{2} \\frac{L_B}{D_B} V_B^2 = 0$$\n",
    "\n",
    "Se da un ansatz de la distribución inicial de caudales. Luego, se itera sobre estos valores hasta llegar a un resultado parejo."
   ]
  },
  {
   "cell_type": "code",
   "execution_count": 25,
   "metadata": {},
   "outputs": [
    {
     "name": "stdout",
     "output_type": "stream",
     "text": [
      "La pérdida de carga en A es 140123.58084382655 pascal\n",
      "La pérdida de carga en B es 140123.42375500116 pascal\n",
      "La diferencia de presiones es 0.15708882539183833 pascal\n"
     ]
    }
   ],
   "source": [
    "# Ansatz e iteración manual. Asegurando la conservación del caudal.\n",
    "x = 0.546366\n",
    "Q_A = x*Q\n",
    "Q_B = (1-x)*Q\n",
    "\n",
    "v_1 = Q / A_1\n",
    "v_2 = Q / A_2\n",
    "v_A = Q_A / A_A\n",
    "v_B = Q_B / A_B\n",
    "\n",
    "Re_1 = fld.Reynolds(D=D_1, rho=rho, mu=mu, V=v_1)\n",
    "Re_2 = fld.Reynolds(D=D_2, rho=rho, mu=mu, V=v_2)\n",
    "Re_A = fld.Reynolds(D=D_A, rho=rho, mu=mu, V=v_A)\n",
    "Re_B = fld.Reynolds(D=D_B, rho=rho, mu=mu, V=v_B)\n",
    "\n",
    "f_1 = fld.friction.friction_factor(Re_1, eD=epsilon/D_1)\n",
    "f_2 = fld.friction.friction_factor(Re_2, eD=epsilon/D_2)\n",
    "f_A = fld.friction.friction_factor(Re_A, eD=epsilon/D_A)\n",
    "f_B = fld.friction.friction_factor(Re_B, eD=epsilon/D_B)\n",
    "\n",
    "# Se debe dar igualdad de presiones para A y B\n",
    "P_A = rho*f_A*L_A/D_A*v_A**2/2\n",
    "P_B = rho*f_B*L_B/D_B*v_B**2/2\n",
    "\n",
    "print(f\"La pérdida de carga en A es {P_A.to(u.Pa)}\")\n",
    "print(f\"La pérdida de carga en B es {P_B.to(u.Pa)}\")\n",
    "print(f\"La diferencia de presiones es {(P_A - P_B).to(u.Pa)}\")"
   ]
  },
  {
   "cell_type": "code",
   "execution_count": 26,
   "metadata": {},
   "outputs": [
    {
     "name": "stdout",
     "output_type": "stream",
     "text": [
      "La pérdida de carga total es 204.89246654202438 kilopascal\n"
     ]
    }
   ],
   "source": [
    "# Sumando las pérdidas de carga 1 y 2 y la diferencia de alturas\n",
    "DP_2 = rho/2*(f_1*L_1/D_1*v_1**2 + f_A*L_A/D_A*v_A**2 + f_2*L_2/D_2*v_2**2 + g*(z_B - z_A))\n",
    "print(f\"La pérdida de carga total es {DP_2.to(u.kPa)}\")"
   ]
  },
  {
   "cell_type": "markdown",
   "metadata": {},
   "source": [
    "c. La pérdida de carga desde A a B, si es que las 3 tuberías son utilizadas.\n",
    "\n",
    "Considerando ahora todas las tuberías, se tiene que:\n",
    "\n",
    "$$\\dot{\\forall} = \\dot{\\forall}_A + \\dot{\\forall}_B + \\dot{\\forall}_C$$\n",
    "$$\\Delta P_A = \\Delta P_B = \\Delta P_C$$\n",
    "\n",
    "Por lo tanto:\n",
    "\n",
    "$$\\dot{\\forall}_A + \\dot{\\forall}_B + \\dot{\\forall}_C = \\dot{\\forall}$$\n",
    "$$\\Delta P_A - \\Delta P_B = 0$$\n",
    "$$\\Delta P_A - \\Delta P_C = 0$$\n",
    "\n",
    "Reemplazando las expresiones, se tiene que:\n",
    "\n",
    "$$A_A V_A + A_B V_B + A_C V_C = \\dot{\\forall}$$\n",
    "$$f_A \\frac{\\rho}{2} \\frac{L_A}{D_A} V_A^2 - f_B \\frac{\\rho}{2} \\frac{L_B}{D_B} V_B^2 = 0$$\n",
    "$$f_A \\frac{\\rho}{2} \\frac{L_A}{D_A} V_A^2 - f_C \\frac{\\rho}{2} \\frac{L_C}{D_C} V_B^2 = 0$$"
   ]
  },
  {
   "cell_type": "code",
   "execution_count": 28,
   "metadata": {},
   "outputs": [
    {
     "name": "stdout",
     "output_type": "stream",
     "text": [
      "La presión en A es 48.76796414776605 kilopascal\n",
      "La presión en B es 48.76769734585945 kilopascal\n",
      "La presión en C es 48.76797488749972 kilopascal\n",
      "\n",
      "La diferencia de presiones A-B es 0.266801906596811 pascal\n",
      "La diferencia de presiones A-C es -0.010739733668742701 pascal\n",
      "La diferencia de presiones B-C es -0.2775416402655537 pascal\n"
     ]
    }
   ],
   "source": [
    "# Ansatz e iteración manual. Asegurando la conservación del caudal.\n",
    "x = 0.3073715\n",
    "y = 0.255237\n",
    "Q_A = x*Q\n",
    "Q_B = y*Q\n",
    "Q_C = (1-x-y)*Q\n",
    "\n",
    "v_1 = Q / A_1\n",
    "v_2 = Q / A_2\n",
    "v_A = Q_A / A_A\n",
    "v_B = Q_B / A_B\n",
    "v_C = Q_C / A_C\n",
    "\n",
    "\n",
    "Re_1 = fld.Reynolds(D=D_1, rho=rho, mu=mu, V=v_1)\n",
    "Re_2 = fld.Reynolds(D=D_2, rho=rho, mu=mu, V=v_2)\n",
    "Re_A = fld.Reynolds(D=D_A, rho=rho, mu=mu, V=v_A)\n",
    "Re_B = fld.Reynolds(D=D_B, rho=rho, mu=mu, V=v_B)\n",
    "Re_C = fld.Reynolds(D=D_C, rho=rho, mu=mu, V=v_C)\n",
    "\n",
    "f_1 = fld.friction.friction_factor(Re_1, eD=epsilon/D_1)\n",
    "f_2 = fld.friction.friction_factor(Re_2, eD=epsilon/D_2)\n",
    "f_A = fld.friction.friction_factor(Re_A, eD=epsilon/D_A)\n",
    "f_B = fld.friction.friction_factor(Re_B, eD=epsilon/D_B)\n",
    "f_C = fld.friction.friction_factor(Re_C, eD=epsilon/D_C)\n",
    "\n",
    "# Se debe dar igualdad de presiones para A y B\n",
    "P_A = rho*f_A*L_A/D_A*v_A**2/2\n",
    "P_B = rho*f_B*L_B/D_B*v_B**2/2\n",
    "P_C = rho*f_C*L_C/D_C*v_C**2/2\n",
    "\n",
    "print(f\"La presión en A es {P_A.to(u.kPa)}\")\n",
    "print(f\"La presión en B es {P_B.to(u.kPa)}\")\n",
    "print(f\"La presión en C es {P_C.to(u.kPa)}\\n\")\n",
    "\n",
    "print(f\"La diferencia de presiones A-B es {(P_A - P_B).to(u.Pa)}\")\n",
    "print(f\"La diferencia de presiones A-C es {(P_A - P_C).to(u.Pa)}\")\n",
    "print(f\"La diferencia de presiones B-C es {(P_B - P_C).to(u.Pa)}\")"
   ]
  },
  {
   "cell_type": "code",
   "execution_count": 29,
   "metadata": {},
   "outputs": [
    {
     "name": "stdout",
     "output_type": "stream",
     "text": [
      "La pérdida de carga total es 113.53684984596386 kilopascal\n"
     ]
    }
   ],
   "source": [
    "# Sumando las pérdidas de carga 1 y 2 y la diferencia de alturas\n",
    "DP_3 = rho/2*(f_1*L_1/D_1*v_1**2 + f_A*L_A/D_A*v_A**2 + f_2*L_2/D_2*v_2**2 + g*(z_B - z_A))\n",
    "print(f\"La pérdida de carga total es {DP_3.to(u.kPa)}\")"
   ]
  },
  {
   "cell_type": "markdown",
   "metadata": {},
   "source": [
    "d. Determine la potencia requerida (en caballos de fuerza) para hacer la presión en B sea igual\n",
    "a A, en los 3 ítems anteriores."
   ]
  },
  {
   "cell_type": "code",
   "execution_count": 30,
   "metadata": {},
   "outputs": [
    {
     "name": "stdout",
     "output_type": "stream",
     "text": [
      "La presión en B calculada con el primer método es -443811.07305628265 kilogram / meter / second ** 2\n",
      "La presión en B calculada con el segundo método es -156124.50239425834 kilogram / meter / second ** 2\n",
      "La presión en B calculada con el tercer método es -64768.8856981978 kilogram / meter / second ** 2\n",
      "\n",
      "Caballos de potencia requeridos con el primer método es -337.0613446640282 horsepower\n",
      "Caballos de potencia requeridos con el segundo método es -118.57192825231168 horsepower\n",
      "Caballos de potencia requeridos con el tercer método es -49.19004736742283 horsepower\n"
     ]
    }
   ],
   "source": [
    "P_B_1 = P_A - DP_1\n",
    "P_B_2 = P_A - DP_2\n",
    "P_B_3 = P_A - DP_3\n",
    "\n",
    "hp_1 = P_B_1*Q\n",
    "hp_2 = P_B_2*Q\n",
    "hp_3 = P_B_3*Q\n",
    "\n",
    "print(f\"La presión en B calculada con el primer método es {P_B_1}\")\n",
    "print(f\"La presión en B calculada con el segundo método es {P_B_2}\")\n",
    "print(f\"La presión en B calculada con el tercer método es {P_B_3}\\n\")\n",
    "\n",
    "print(f\"Caballos de potencia requeridos con el primer método es {hp_1.to(u.hp)}\")\n",
    "print(f\"Caballos de potencia requeridos con el segundo método es {hp_2.to(u.hp)}\")\n",
    "print(f\"Caballos de potencia requeridos con el tercer método es {hp_3.to(u.hp)}\")"
   ]
  },
  {
   "cell_type": "markdown",
   "metadata": {},
   "source": [
    "e. A partir de los resultados obtenidos en (d.) ¿Que puede concluir a partir de a utilización de\n",
    "tubería sen paralelos para sistemas de bombeo?"
   ]
  },
  {
   "cell_type": "markdown",
   "metadata": {},
   "source": [
    "Las tuberías en paralelo implican que cada tramo de tubería tendrá un menor caudal y, por lo tanto, una menor pérdida por fricción.\n",
    "\n",
    "**Tiene que haber una desventaja. La falta de presión en las tuberías individuales puede hacer que el flujo deje de correr??**"
   ]
  },
  {
   "cell_type": "markdown",
   "metadata": {},
   "source": [
    "f. Considerando una bomba modelo B3Z-M en el tramo 1 (L=2000ft y D=24in), con un\n",
    "rodete de 8,438” (Página 45 del catálogo Berkeley). Determinar el caudal de operación en cada\n",
    "tramo de tubería."
   ]
  },
  {
   "cell_type": "markdown",
   "metadata": {},
   "source": [
    "g. Considerando la misma bomba usada en (f) pero instalada en el tramo central (L=2000ft y\n",
    "D=24in). Determinar la distriubución del caudal de operación."
   ]
  },
  {
   "cell_type": "markdown",
   "metadata": {},
   "source": [
    "## Problema 2\n",
    "\n",
    "A Bell & Gossett Series e-1531 end-suction pump is to be selected for the system\n",
    "shown in Figure P4.42. The system is designed to move water at 60°F from the\n",
    "lower tank to the upper tank. The system must deliver a minimum of 500 gpm of\n",
    "water from the lower tank to the upper tank when the pump is operating. A tilting\n",
    "disc check valve (α = 5°) is used to prevent the water from flowing backward\n",
    "when the pump is shut off. The total length of straight pipe in this system is\n",
    "150 ft. The pipe is 4-nom sch 40 commercial steel."
   ]
  },
  {
   "cell_type": "code",
   "execution_count": 91,
   "metadata": {},
   "outputs": [],
   "source": [
    "T = (60*u.fahrenheit).to(u.K)\n",
    "P = (1*u.atm).to(u.Pa) # asumimos presion sobre agua en estanque de 1 atm\n",
    "Q = (500*u.gallon/u.min).to(u.m**3/u.s) # caudal\n",
    "\n",
    "rho = cp.PropsSI('D', 'P', P.magnitude, 'T', T.magnitude, 'Water')*u.kg/u.m**3\n",
    "mu = cp.PropsSI('V', 'P', P.magnitude, 'T', T.magnitude, 'Water')*u.Pa*u.s\n",
    "\n",
    "z1 = (6*u.ft).to(u.m)\n",
    "z2 = (30*u.ft).to(u.m)\n",
    "\n",
    "L = (150*u.ft).to(u.m)\n",
    "D = (4*u.inch).to(u.m)\n",
    "epsilon = fld.material_roughness(\"commercial steel\")*u.m\n",
    "\n",
    "A = np.pi * D**2 / 4"
   ]
  },
  {
   "cell_type": "markdown",
   "metadata": {},
   "source": [
    "a. Plot the system curve up to 800 gpm.\n",
    "\n",
    "Dado el sistema de dos reservorios, por ecuación modificada de Bernoulli se tiene que:\n",
    "\n",
    "$$\\frac{P_1}{\\gamma} + \\frac{V_1^2}{2g} + z_1 + H_p = \\frac{P_2}{\\gamma} + \\frac{V_2^2}{2g} + z_2 + (f \\frac{L}{D} + \\sum{K}) \\frac{V^2}{2g}$$\n",
    "\n",
    "Suponiendo que los estanques están ambos abiertos a la atmosfera (por lo que $P_1 = P_2$) y suponiendo que los niveles de esto se mantienen constantes y con la misma velocidad en ambos estanques ($V_1 = V_2$), se puede reducir la ecuación de sistema a:\n",
    "\n",
    "$$H_p = z_2 - z_1 + (f \\frac{L}{D} + \\sum{K}) \\frac{V^2}{2g}$$\n",
    "\n",
    "Luego, dada la definición del cadual y sabiendo que la tubería tiene perfil circular se tiene que la velocidad es\n",
    "\n",
    "$$V = \\frac{\\dot{\\forall}}{A} = \\frac{4}{\\pi D^2} \\dot{\\forall}$$\n",
    "\n",
    "Por lo tanto la curva se reduce a\n",
    "\n",
    "$$H_p = z_2 - z_1 + (f \\frac{L}{D} + \\sum{K}) \\frac{8}{g\\pi D^2}\\dot{\\forall}^2$$\n",
    "\n",
    "Para las singularidades, se considera que se presentan 3 codos de 90° y una \"tilting disk check valve\". El gráfico se genera desde 500 gpm (el mínimo requerido por el sistema) y 800 gpm.\n",
    "\n",
    "Siendo que el flujo es turbulento, simplemente se utiliza el método de Crane a través de fluids para calcular los K-factor."
   ]
  },
  {
   "cell_type": "code",
   "execution_count": 92,
   "metadata": {},
   "outputs": [
    {
     "name": "stdout",
     "output_type": "stream",
     "text": [
      "Número de Reynolds: 352292.142546646\n"
     ]
    },
    {
     "data": {
      "image/png": "[encoded data removed]",
      "text/plain": [
       "<Figure size 432x288 with 1 Axes>"
      ]
     },
     "metadata": {
      "needs_background": "light"
     },
     "output_type": "display_data"
    }
   ],
   "source": [
    "dz = z2 - z1\n",
    "\n",
    "v = Q/A\n",
    "\n",
    "Re = (fld.Reynolds(D=D, rho=rho, mu=mu, V=v)).to(u.dimensionless)\n",
    "\n",
    "print(f\"Número de Reynolds: {Re.magnitude}\")\n",
    "\n",
    "f = fld.friction.friction_factor(Re, eD=epsilon/D)\n",
    "\n",
    "K_90_elbow = fld.fittings.bend_rounded_Crane(Di=D.magnitude, angle=90)\n",
    "K_valve = fld.K_tilting_disk_check_valve_Crane(D=D.magnitude, angle = 5)\n",
    "\n",
    "flow_rates = np.linspace(500, 800, 100)\n",
    "velocities = (flow_rates*u.gallon/u.min).to(u.m**3/u.s) / A\n",
    "\n",
    "total_head = dz + (f*L/D + 3*K_90_elbow + K_valve) * velocities**2 /(2*g)\n",
    "total_head = (total_head).to(u.ft).magnitude\n",
    "\n",
    "# plot curva de sistema\n",
    "plt.plot(flow_rates, total_head, label='Curva de sistema')  # Convert flow rates to L/s for plot\n",
    "\n",
    "# aspectos visuales\n",
    "plt.xlabel('Caudal (gpm)')\n",
    "plt.ylabel('Cabezal (ft)')\n",
    "plt.title('Curva de Sistema')\n",
    "plt.legend()\n",
    "plt.grid(True)\n",
    "plt.show()"
   ]
  },
  {
   "cell_type": "markdown",
   "metadata": {},
   "source": [
    "b. Select a Series e-1531 Bell & Gossett pump for this system."
   ]
  },
  {
   "cell_type": "markdown",
   "metadata": {},
   "source": [
    "c. What is the operating point of the pump/pipe system based on the pump you\n",
    "selected in (b)? Specify the capacity (gpm), head (ft), brake horsepower input\n",
    "to the pump (hp), and efficiency of the pump."
   ]
  },
  {
   "cell_type": "markdown",
   "metadata": {},
   "source": [
    "## Problema 3\n",
    "\n",
    "A two-tank pump/pipe system has a head requirement of 23.4 ft at a flow rate of\n",
    "100 gpm. The elevation difference between the fluid surfaces in the tanks is 10 ft.\n",
    "The pump is a Bell & Gossett Series e-80 Model 2.5x2.5x9C operating at 1170 rpm\n",
    "with a 7.5-inch impeller."
   ]
  },
  {
   "cell_type": "code",
   "execution_count": 95,
   "metadata": {},
   "outputs": [],
   "source": [
    "Hp_1 = 23.4*u.ft\n",
    "Q_1 = 100*u.gallon/u.min\n",
    "\n",
    "dz = 10*u.ft"
   ]
  },
  {
   "cell_type": "markdown",
   "metadata": {},
   "source": [
    "a. Develop an equation for the system curve.\n",
    "\n",
    "Dados los datos iniciales del problema, se sabe que:\n",
    "\n",
    "$$\\Delta z = z_2 - z_1 = 10 \\text{ ft}$$\n",
    "$$H_p (\\dot{\\forall} = 100 \\text{ gpm}) = 23.4 \\text{ ft}$$\n",
    "\n",
    "Dada la ecuación modificada de Bernoulli, se sabe que la curva del sistema será de la forma:\n",
    "\n",
    "$$H_p(\\dot{\\forall}) = \\Delta z + C \\dot{\\forall}^2$$\n",
    "\n",
    "Resolviendo, se tiene que:\n",
    "\n",
    "$$23.4 = 10 + C \\times 100^2$$"
   ]
  },
  {
   "cell_type": "code",
   "execution_count": 98,
   "metadata": {},
   "outputs": [
    {
     "name": "stdout",
     "output_type": "stream",
     "text": [
      "0.0013399999999999998\n"
     ]
    }
   ],
   "source": [
    "C = (Hp_1 - dz)/Q_1**2\n",
    "print(C.magnitude)"
   ]
  },
  {
   "cell_type": "markdown",
   "metadata": {},
   "source": [
    "Por lo tanto, se tiene que la ecuación sería finalmente:\n",
    "\n",
    "$$H_p (\\dot{\\forall}) = 0.00134 \\dot{\\forall}^2 + 10 \\text{ ft}$$"
   ]
  },
  {
   "cell_type": "markdown",
   "metadata": {},
   "source": [
    "b. Use a computer program to develop an equation for the 7.5-inch impeller\n",
    "using data read from the pump performance curve."
   ]
  },
  {
   "cell_type": "markdown",
   "metadata": {},
   "source": [
    "c. Determine the capacity (gpm) and head (ft) of the pump/pipe system by\n",
    "simultaneously solving the pump curve and system equations."
   ]
  },
  {
   "cell_type": "markdown",
   "metadata": {},
   "source": [
    "d. Use the pump performance curve to determine the power draw (hp) and efficiency\n",
    "of the pump."
   ]
  },
  {
   "cell_type": "markdown",
   "metadata": {},
   "source": [
    "## Problema 4\n",
    "\n",
    "Considere el plano hidráulico de la localidad de Hualañé. Establezca un código computracional que\n",
    "permita optimizar lls diámetros de tuberñia de la red hidráulica considerada en la Tarea 1. El objetivo de la optimización es que la diferencia de presiones enre las acometidas de las casas sea lo menor posible,\n",
    "siempre considerando que la presión debe ser mayor a lo establecido por la nomrma de sistemas sanitarios. \n",
    "\n",
    "Considerando el caso extremo, cuando todas las casas tienen una llave de lavamanos abierta, determine el cabezal que debería sumiinistrar el sistema de bombreo."
   ]
  },
  {
   "cell_type": "markdown",
   "metadata": {},
   "source": [
    "## Referencias\n",
    "[1] https://www.pipeflow.com/pipe-pressure-drop-calculations/pipe-roughness\n"
   ]
  },
  {
   "cell_type": "markdown",
   "metadata": {},
   "source": []
  }
 ],
 "metadata": {
  "kernelspec": {
   "display_name": "Python 3",
   "language": "python",
   "name": "python3"
  },
  "language_info": {
   "codemirror_mode": {
    "name": "ipython",
    "version": 3
   },
   "file_extension": ".py",
   "mimetype": "text/x-python",
   "name": "python",
   "nbconvert_exporter": "python",
   "pygments_lexer": "ipython3",
   "version": "3.9.0"
  }
 },
 "nbformat": 4,
 "nbformat_minor": 2
}
