{
 "cells": [
  {
   "cell_type": "markdown",
   "metadata": {},
   "source": [
    "# Tarea 1: Piping\n",
    "### Pablo Correa e Ian Gross"
   ]
  },
  {
   "cell_type": "markdown",
   "metadata": {},
   "source": [
    "## Librerías"
   ]
  },
  {
   "cell_type": "code",
   "execution_count": 1,
   "metadata": {},
   "outputs": [],
   "source": [
    "import CoolProp.CoolProp as cp\n",
    "import fluids as fld\n",
    "import numpy as np\n",
    "import scipy.constants as cte\n",
    "import matplotlib.pyplot as plt\n",
    "\n",
    "from fluids.units import *"
   ]
  },
  {
   "cell_type": "code",
   "execution_count": 2,
   "metadata": {},
   "outputs": [],
   "source": [
    "g = cte.g*u.m/u.s**2"
   ]
  },
  {
   "cell_type": "markdown",
   "metadata": {},
   "source": [
    "## Problema 1\n",
    "\n",
    "Considere el sistema de distribución de agua en la figura, donde la presión en A es 150 psig.\n",
    "\n",
    "Considerando las tuberías de entrada y salida 1 y 2 respectivamente, y las tuberías paralelas A, B y C desde arriba hacia abajo, se tiene que:"
   ]
  },
  {
   "cell_type": "code",
   "execution_count": 10,
   "metadata": {},
   "outputs": [],
   "source": [
    "# datos\n",
    "z_A = (100*u.ft).to(u.m)\n",
    "z_B = (120*u.ft).to(u.m)\n",
    "\n",
    "L_1 = (2000*u.ft).to(u.m)\n",
    "L_2 = (4000*u.ft).to(u.m)\n",
    "L_A = (3000*u.ft).to(u.m)\n",
    "L_B = (2000*u.ft).to(u.m)\n",
    "L_C = (3000*u.ft).to(u.m)\n",
    "\n",
    "D_1 = (24*u.inch).to(u.m)\n",
    "D_2 = (30*u.inch).to(u.m)\n",
    "D_A = (14*u.inch).to(u.m)\n",
    "D_B = (12*u.inch).to(u.m)\n",
    "D_C = (16*u.inch).to(u.m)\n",
    "\n",
    "caudal = (20*u.cubic_feet/u.s)\n",
    "P_A = ((150 + 14.7)*u.psi).to(u.Pa)"
   ]
  },
  {
   "cell_type": "markdown",
   "metadata": {},
   "source": [
    "a. La pérdida de carga desde A a B, si es que solo la tubería A es utilizada."
   ]
  },
  {
   "cell_type": "markdown",
   "metadata": {},
   "source": [
    "b. La pérdida de carga desde A a B, si es que las tuberías A y B son utilizadas."
   ]
  },
  {
   "cell_type": "markdown",
   "metadata": {},
   "source": [
    "c. La pérdida de carga desde A a B, si es que las 3 tuberías son utilizadas."
   ]
  },
  {
   "cell_type": "markdown",
   "metadata": {},
   "source": [
    "d. Determine la potencia requerida (en caballos de fuerza) para hacer la presión en B sea igual\n",
    "a A, en los 3 ítems anteriores."
   ]
  },
  {
   "cell_type": "markdown",
   "metadata": {},
   "source": [
    "e. A partir de los resultados obtenidos en (d.) ¿Que puede concluir a partir de a utilización de\n",
    "tubería sen paralelos para sistemas de bombeo?"
   ]
  },
  {
   "cell_type": "markdown",
   "metadata": {},
   "source": [
    "f. Considerando una bomba modelo B3Z-M en el tramo 1 (L=2000ft y D=24in), con un\n",
    "rodete de 8,438” (Página 45 del catálogo Berkeley). Determinar el caudal de operación en cada\n",
    "tramo de tubería."
   ]
  },
  {
   "cell_type": "markdown",
   "metadata": {},
   "source": [
    "g. Considerando la misma bomba usada en (f) pero instalada en el tramo central (L=2000ft y\n",
    "D=24in). Determinar la distriubución del caudal de operación."
   ]
  },
  {
   "cell_type": "markdown",
   "metadata": {},
   "source": [
    "## Problema 2\n",
    "\n",
    "A Bell & Gossett Series e-1531 end-suction pump is to be selected for the system\n",
    "shown in Figure P4.42. The system is designed to move water at 60°F from the\n",
    "lower tank to the upper tank. The system must deliver a minimum of 500 gpm of\n",
    "water from the lower tank to the upper tank when the pump is operating. A tilting\n",
    "disc check valve (α = 5°) is used to prevent the water from flowing backward\n",
    "when the pump is shut off. The total length of straight pipe in this system is\n",
    "150 ft. The pipe is 4-nom sch 40 commercial steel."
   ]
  },
  {
   "cell_type": "markdown",
   "metadata": {},
   "source": [
    "a. Plot the system curve up to 800 gpm."
   ]
  },
  {
   "cell_type": "markdown",
   "metadata": {},
   "source": [
    "b. Select a Series e-1531 Bell & Gossett pump for this system."
   ]
  },
  {
   "cell_type": "markdown",
   "metadata": {},
   "source": [
    "c. What is the operating point of the pump/pipe system based on the pump you\n",
    "selected in (b)? Specify the capacity (gpm), head (ft), brake horsepower input\n",
    "to the pump (hp), and efficiency of the pump."
   ]
  },
  {
   "cell_type": "markdown",
   "metadata": {},
   "source": [
    "## Problema 3\n",
    "\n",
    "A two-tank pump/pipe system has a head requirement of 23.4 ft at a flow rate of\n",
    "100 gpm. The elevation difference between the fluid surfaces in the tanks is 10 ft.\n",
    "The pump is a Bell & Gossett Series e-80 Model 2.5x2.5x9C operating at 1170 rpm\n",
    "with a 7.5-inch impeller."
   ]
  },
  {
   "cell_type": "markdown",
   "metadata": {},
   "source": [
    "a. Develop an equation for the system curve."
   ]
  },
  {
   "cell_type": "markdown",
   "metadata": {},
   "source": [
    "b. Use a computer program to develop an equation for the 7.5-inch impeller\n",
    "using data read from the pump performance curve."
   ]
  },
  {
   "cell_type": "markdown",
   "metadata": {},
   "source": [
    "c. Determine the capacity (gpm) and head (ft) of the pump/pipe system by\n",
    "simultaneously solving the pump curve and system equations."
   ]
  },
  {
   "cell_type": "markdown",
   "metadata": {},
   "source": [
    "d. Use the pump performance curve to determine the power draw (hp) and efficiency\n",
    "of the pump."
   ]
  },
  {
   "cell_type": "markdown",
   "metadata": {},
   "source": [
    "## Problema 4\n",
    "\n",
    "Considere el plano hidráulico de la localidad de Hualañé. Establezca un código computracional que\n",
    "permita optimizar lls diámetros de tuberñia de la red hidráulica considerada en la Tarea 1. El objetivo de la optimización es que la diferencia de presiones enre las acometidas de las casas sea lo menor posible,\n",
    "siempre considerando que la presión debe ser mayor a lo establecido por la nomrma de sistemas sanitarios. \n",
    "\n",
    "Considerando el caso extremo, cuando todas las casas tienen una llave de lavamanos abierta, determine el cabezal que debería sumiinistrar el sistema de bombreo."
   ]
  }
 ],
 "metadata": {
  "kernelspec": {
   "display_name": "Python 3",
   "language": "python",
   "name": "python3"
  },
  "language_info": {
   "codemirror_mode": {
    "name": "ipython",
    "version": 3
   },
   "file_extension": ".py",
   "mimetype": "text/x-python",
   "name": "python",
   "nbconvert_exporter": "python",
   "pygments_lexer": "ipython3",
   "version": "3.9.0"
  }
 },
 "nbformat": 4,
 "nbformat_minor": 2
}
