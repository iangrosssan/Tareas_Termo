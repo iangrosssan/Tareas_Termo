{
 "cells": [
  {
   "cell_type": "markdown",
   "metadata": {},
   "source": [
    "# Tarea 4: Psicrometría\n",
    "### Pablo Correa e Ian Gross"
   ]
  },
  {
   "cell_type": "markdown",
   "metadata": {},
   "source": [
    "## Librerías"
   ]
  },
  {
   "cell_type": "code",
   "execution_count": 1,
   "metadata": {},
   "outputs": [],
   "source": [
    "import CoolProp.CoolProp as cp\n",
    "import fluids as fld\n",
    "import numpy as np\n",
    "import scipy.constants as cte\n",
    "import scipy.optimize as opt\n",
    "import matplotlib.pyplot as plt\n",
    "import pandas as pd\n",
    "from scipy.optimize import minimize\n",
    "\n",
    "from fluids.units import *\n",
    "\n",
    "from PIL import Image"
   ]
  },
  {
   "cell_type": "code",
   "execution_count": 2,
   "metadata": {},
   "outputs": [],
   "source": [
    "g = cte.g*u.m/u.s**2\n",
    "Patm = (1*u.atm).to(u.Pa)"
   ]
  },
  {
   "cell_type": "markdown",
   "metadata": {},
   "source": [
    "# Pregunta 1\n",
    "Un flujo de aire (corriente 1) a 60°F , 1 atm y 30 % de humedad relativa se mezcla adiabáticamente\n",
    "con un flujo de aire (corriente 2) a 90°F , 1 atm y 80 % de humedad relativa. Una sola corriente (corriente\n",
    "3) sale de la cámara de mezcla a una temperatura T3 y 1 atm. Suponga un estado estacionario e ignore\n",
    "los efectos de energía cinética y potencial. Sea r la relación de los caudales másicos de aire seco  ̇$\\dot{m}_{a,1}/\\dot{m}_{a,2}$:\n",
    "\n",
    "(a) (3 pts) Determine T3, en ◦C, para r = 2.\n",
    "\n",
    "(b) (3 pts) Ilustre el proceso de mezcla en un diagrama psicrométrico.\n",
    "\n",
    "(c) (3 pts) Construya un gráfico de T3 versus r, variando r de 0 a 10."
   ]
  },
  {
   "cell_type": "code",
   "execution_count": null,
   "metadata": {},
   "outputs": [],
   "source": []
  },
  {
   "cell_type": "markdown",
   "metadata": {},
   "source": [
    "# Pregunta 2\n",
    "Se debe suministrar, en estado estacionario, aire húmedo a una sala de clases a una tasa de flujo\n",
    "volumétrico y temperatura T especificadas. El aire es retirado de la sala en una corriente diferente que\n",
    "se encuentra a una temperatura de 27°C y 50 % de humedad relativa. Se agrega humedad al aire en\n",
    "la habitación desde los ocupantes a una tasa de 4,5 kg/h. La humedad puede considerarse como vapor\n",
    "saturado a 33°C. La transferencia de calor al espacio ocupado desde todas las fuentes se estima en\n",
    "34,000 kJ/h. La presión permanece uniforme en 1 atm.\n",
    "\n",
    "(a) (3 pts) Para una tasa de flujo volumétrico de aire suministrado de 40 m3/min, determine la\n",
    "temperatura del aire suministrado T , en °C, y la humedad relativa.\n",
    "\n",
    "(b) (3 pts) Ilustre el proceso de mezcla en un diagrama psicrométrico.\n",
    "\n",
    "(c) (3 pts) Construya un gráfico de la temperatura del aire suministrado, en °C , y la humedad\n",
    "relativa,ambas vs la tasa de flujo volumétrico de aire suministrado, variando esta última de 35 a\n",
    "90 m3/min."
   ]
  },
  {
   "cell_type": "code",
   "execution_count": null,
   "metadata": {},
   "outputs": [],
   "source": []
  },
  {
   "cell_type": "markdown",
   "metadata": {},
   "source": [
    "# Pregunta 3\n",
    "Considere los datos de la instalación de APR en Hualañé, incluyendo la distribución de diámetros y\n",
    "la bomba seleccionada en las entregas anteriores.\n",
    "\n",
    "a) (3pts) Verique el pñunto de operación y si se cumple la jnormativa, en el escenario que 3 nuevas\n",
    "vivuiendas sean construídas en el sector más alto de Hualañé.\n",
    "\n",
    "b) (3pts) Sugiera una solución a la situación anteior, para asegurar el suministro bajo las normas de\n",
    "servicios sanitarios."
   ]
  },
  {
   "cell_type": "code",
   "execution_count": null,
   "metadata": {},
   "outputs": [],
   "source": []
  },
  {
   "cell_type": "markdown",
   "metadata": {},
   "source": [
    "# Bibliografía\n",
    "\n",
    "[1] https://www.stainless-structurals.com/blog/comparing-the-thermal-conductivity-of-stainless-steel-to-other-metals/"
   ]
  },
  {
   "cell_type": "markdown",
   "metadata": {},
   "source": []
  }
 ],
 "metadata": {
  "kernelspec": {
   "display_name": "Python 3",
   "language": "python",
   "name": "python3"
  },
  "language_info": {
   "codemirror_mode": {
    "name": "ipython",
    "version": 3
   },
   "file_extension": ".py",
   "mimetype": "text/x-python",
   "name": "python",
   "nbconvert_exporter": "python",
   "pygments_lexer": "ipython3",
   "version": "3.9.0"
  }
 },
 "nbformat": 4,
 "nbformat_minor": 2
}
