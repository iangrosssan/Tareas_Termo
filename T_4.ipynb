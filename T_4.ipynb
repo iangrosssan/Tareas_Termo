{
 "cells": [
  {
   "cell_type": "markdown",
   "metadata": {},
   "source": [
    "# Tarea 4: Psicrometría\n",
    "### Pablo Correa e Ian Gross"
   ]
  },
  {
   "cell_type": "markdown",
   "metadata": {},
   "source": [
    "## Librerías"
   ]
  },
  {
   "cell_type": "code",
   "execution_count": 2,
   "metadata": {},
   "outputs": [],
   "source": [
    "import CoolProp.CoolProp as cp\n",
    "import fluids as fld\n",
    "import numpy as np\n",
    "import scipy.constants as cte\n",
    "import scipy.optimize as opt\n",
    "import matplotlib.pyplot as plt\n",
    "\n",
    "from fluids.units import *\n",
    "\n",
    "from PIL import Image"
   ]
  },
  {
   "cell_type": "code",
   "execution_count": 3,
   "metadata": {},
   "outputs": [],
   "source": [
    "g = cte.g*u.m/u.s**2\n",
    "Patm = (1*u.atm).to(u.Pa)"
   ]
  },
  {
   "cell_type": "markdown",
   "metadata": {},
   "source": [
    "# Pregunta 1\n",
    "Un flujo de aire (corriente 1) a 60°F , 1 atm y 30 % de humedad relativa se mezcla adiabáticamente\n",
    "con un flujo de aire (corriente 2) a 90°F , 1 atm y 80 % de humedad relativa. Una sola corriente (corriente\n",
    "3) sale de la cámara de mezcla a una temperatura T3 y 1 atm. Suponga un estado estacionario e ignore\n",
    "los efectos de energía cinética y potencial. Sea r la relación de los caudales másicos de aire seco  ̇$\\dot{m}_{a,1}/\\dot{m}_{a,2}$:\n",
    "\n",
    "(a) (3 pts) Determine T3, en ◦C, para r = 2.\n",
    "\n",
    "(b) (3 pts) Ilustre el proceso de mezcla en un diagrama psicrométrico.\n",
    "\n",
    "(c) (3 pts) Construya un gráfico de T3 versus r, variando r de 0 a 10."
   ]
  },
  {
   "cell_type": "markdown",
   "metadata": {},
   "source": [
    "## Parte A"
   ]
  },
  {
   "cell_type": "code",
   "execution_count": 4,
   "metadata": {},
   "outputs": [],
   "source": [
    "T_1 = (60*u.fahrenheit).to(u.kelvin)\n",
    "T_2 = (90*u.fahrenheit).to(u.kelvin)\n",
    "HR_1 = 0.3\n",
    "HR_2 = 0.8\n",
    "\n",
    "P = Patm\n",
    "r = 2"
   ]
  },
  {
   "cell_type": "markdown",
   "metadata": {},
   "source": [
    "Utilizando la humedad relativa, se obtiene la humedad absoluta y la entalpía específica para las corrientes de entrada (1 y 2)"
   ]
  },
  {
   "cell_type": "code",
   "execution_count": 5,
   "metadata": {},
   "outputs": [],
   "source": [
    "w_1 = cp.HAPropsSI('W', 'T', T_1.magnitude, 'R', HR_1, 'P', P.magnitude)\n",
    "h_1 = cp.HAPropsSI('H', 'T', T_1.magnitude, 'R', HR_1, 'P', P.magnitude)*u.joule/u.kilogram\n",
    "\n",
    "w_2 = cp.HAPropsSI('W', 'T', T_2.magnitude, 'R', HR_2, 'P', P.magnitude)\n",
    "h_2 = cp.HAPropsSI('H', 'T', T_2.magnitude, 'R', HR_2, 'P', P.magnitude)*u.joule/u.kilogram"
   ]
  },
  {
   "cell_type": "markdown",
   "metadata": {},
   "source": [
    "Las ecuaciones de balance de masa, masa humeda y energía para el caso de mezcla adiabática son\n",
    "\n",
    "$$\\dot{m}_1 + \\dot{m}_2 = \\dot{m}_3$$\n",
    "\n",
    "$$\\dot{m}_1 \\omega_1 + \\dot{m}_2 \\omega_2 = \\dot{m}_3 \\omega_3$$\n",
    "\n",
    "$$\\dot{m}_1 h_1 + \\dot{m}_2 h_2 = \\dot{m}_3 h_3$$\n",
    "\n",
    "Dada la definición de $r$ y el balance de masas se tiene que\n",
    "\n",
    "$$\\dot{m}_1 = r \\dot{m}_2$$\n",
    "\n",
    "$$\\dot{m}_3 = (1 + r)\\dot{m}_2$$\n",
    "\n",
    "Con estos resultados se tiene que la humedad absoluta y entalpía específica de salida serían\n",
    "\n",
    "$$\\omega_3 = \\frac{r \\omega_1 + \\omega_2}{r + 1}$$\n",
    "\n",
    "$$h_3 = \\frac{r h_1 + h_2}{r + 1}$$"
   ]
  },
  {
   "cell_type": "code",
   "execution_count": 6,
   "metadata": {},
   "outputs": [],
   "source": [
    "def corriente_3(corriente_1, corriente_2, r):\n",
    "    value = (r*corriente_1 + corriente_2)/(r+1)\n",
    "    return value\n",
    "\n",
    "w_3 = corriente_3(w_1, w_2, r)\n",
    "h_3 = corriente_3(h_1, h_2, r)"
   ]
  },
  {
   "cell_type": "markdown",
   "metadata": {},
   "source": [
    "Luego, utilizando la humedad específica y la entalpía específica en la corriente 3, se puede utilizar CoolProp para obtener la temperatura correspondiente en la corriente 3."
   ]
  },
  {
   "cell_type": "code",
   "execution_count": 12,
   "metadata": {},
   "outputs": [
    {
     "data": {
      "text/html": [
       "21.252768065219698 degree_Celsius"
      ],
      "text/latex": [
       "$21.252768065219698\\ \\mathrm{degree\\_Celsius}$"
      ],
      "text/plain": [
       "<Quantity(21.2527681, 'degree_Celsius')>"
      ]
     },
     "execution_count": 12,
     "metadata": {},
     "output_type": "execute_result"
    }
   ],
   "source": [
    "T_3 = cp.HAPropsSI('T', 'W', w_3, 'H', h_3.magnitude, 'P', P.magnitude)\n",
    "\n",
    "T_3 = (T_3*u.kelvin).to(u.celsius)\n",
    "T_3"
   ]
  },
  {
   "cell_type": "markdown",
   "metadata": {},
   "source": [
    "## Parte B"
   ]
  },
  {
   "cell_type": "code",
   "execution_count": null,
   "metadata": {},
   "outputs": [],
   "source": []
  },
  {
   "cell_type": "markdown",
   "metadata": {},
   "source": [
    "## Parte C\n",
    "\n",
    "Aplicando la solución para la parte (a), se resuelve y se grafica la temperatura en la corriente 3 en relación a la razón $r$."
   ]
  },
  {
   "cell_type": "code",
   "execution_count": 22,
   "metadata": {},
   "outputs": [
    {
     "data": {
      "image/png": "[encoded data removed]",
      "text/plain": [
       "<Figure size 432x288 with 1 Axes>"
      ]
     },
     "metadata": {
      "needs_background": "light"
     },
     "output_type": "display_data"
    }
   ],
   "source": [
    "def Temp_3(w_1, w_2, h_1, h_2, r):\n",
    "    w_3 = corriente_3(w_1, w_2, r)\n",
    "    h_3 = corriente_3(h_1, h_2, r)\n",
    "    T_3 = cp.HAPropsSI('T', 'W', w_3, 'H', h_3.magnitude, 'P', P.magnitude)*u.kelvin\n",
    "\n",
    "    return T_3.to(u.celsius)\n",
    "\n",
    "r_range = np.linspace(0,10,100)\n",
    "\n",
    "T_3_range = [Temp_3(w_1, w_2, h_1, h_2, r_range[i]).magnitude for i in range(100)]\n",
    "\n",
    "# plot curva de sistema\n",
    "plt.plot(r_range, T_3_range, label='Curva de Temperatura de Salida')\n",
    "\n",
    "# aspectos visuales\n",
    "plt.xlabel('r (adimensional)')\n",
    "plt.ylabel('Temperatura 3 (°C)')\n",
    "plt.title('Temperatura de Salida vs r')\n",
    "plt.legend()\n",
    "plt.grid(True)\n",
    "plt.show()"
   ]
  },
  {
   "cell_type": "markdown",
   "metadata": {},
   "source": [
    "# Pregunta 2\n",
    "Se debe suministrar, en estado estacionario, aire húmedo a una sala de clases a una tasa de flujo\n",
    "volumétrico y temperatura T especificadas. El aire es retirado de la sala en una corriente diferente que\n",
    "se encuentra a una temperatura de 27°C y 50 % de humedad relativa. Se agrega humedad al aire en\n",
    "la habitación desde los ocupantes a una tasa de 4,5 kg/h. La humedad puede considerarse como vapor\n",
    "saturado a 33°C. La transferencia de calor al espacio ocupado desde todas las fuentes se estima en\n",
    "34,000 kJ/h. La presión permanece uniforme en 1 atm.\n",
    "\n",
    "(a) (3 pts) Para una tasa de flujo volumétrico de aire suministrado de 40 m3/min, determine la\n",
    "temperatura del aire suministrado T , en °C, y la humedad relativa.\n",
    "\n",
    "(b) (3 pts) Ilustre el proceso de mezcla en un diagrama psicrométrico.\n",
    "\n",
    "(c) (3 pts) Construya un gráfico de la temperatura del aire suministrado, en °C , y la humedad\n",
    "relativa,ambas vs la tasa de flujo volumétrico de aire suministrado, variando esta última de 35 a\n",
    "90 m3/min."
   ]
  },
  {
   "cell_type": "markdown",
   "metadata": {},
   "source": [
    "## Parte A"
   ]
  },
  {
   "cell_type": "code",
   "execution_count": 22,
   "metadata": {},
   "outputs": [],
   "source": [
    "T_out = 27*u.celsius\n",
    "HR_out = 0.5\n",
    "\n",
    "m_v_in = (4.5*u.kg/u.hour).to(u.kg/u.s)\n",
    "T_v = 33*u.celsius\n",
    "q_in = (34000*u.kJ/u.h).to(u.W)\n",
    "\n",
    "P = Patm\n",
    "flow_rates_in = 40*u.m**3/u.min"
   ]
  },
  {
   "cell_type": "markdown",
   "metadata": {},
   "source": [
    "## Parte B"
   ]
  },
  {
   "cell_type": "code",
   "execution_count": null,
   "metadata": {},
   "outputs": [],
   "source": []
  },
  {
   "cell_type": "markdown",
   "metadata": {},
   "source": [
    "## Parte C"
   ]
  },
  {
   "cell_type": "code",
   "execution_count": 9,
   "metadata": {},
   "outputs": [
    {
     "data": {
      "image/png": "[encoded data removed]",
      "text/plain": [
       "<Figure size 432x288 with 1 Axes>"
      ]
     },
     "metadata": {
      "needs_background": "light"
     },
     "output_type": "display_data"
    }
   ],
   "source": [
    "flow_rates = np.linspace(35,90,100)\n",
    "\n",
    "# plot curva de sistema\n",
    "plt.plot(flow_rates, flow_rates, label='Curva de Temperatura')\n",
    "\n",
    "# aspectos visuales\n",
    "plt.xlabel('Caudal (m3/min)')\n",
    "plt.ylabel('Temperatura (°C)')\n",
    "plt.title('Temperatura vs Caudal')\n",
    "plt.legend()\n",
    "plt.grid(True)\n",
    "plt.show()"
   ]
  },
  {
   "cell_type": "code",
   "execution_count": 10,
   "metadata": {},
   "outputs": [
    {
     "data": {
      "image/png": "[encoded data removed]",
      "text/plain": [
       "<Figure size 432x288 with 1 Axes>"
      ]
     },
     "metadata": {
      "needs_background": "light"
     },
     "output_type": "display_data"
    }
   ],
   "source": [
    "flow_rates = np.linspace(35,90,100)\n",
    "\n",
    "# plot curva de sistema\n",
    "plt.plot(flow_rates, flow_rates, label='Curva de Humedad Relativa')\n",
    "\n",
    "# aspectos visuales\n",
    "plt.xlabel('Caudal (m3/min)')\n",
    "plt.ylabel('Humedad Relativa (adimensional)')\n",
    "plt.title('Humedad Relativa vs Caudal')\n",
    "plt.legend()\n",
    "plt.grid(True)\n",
    "plt.show()"
   ]
  },
  {
   "cell_type": "markdown",
   "metadata": {},
   "source": [
    "# Pregunta 3\n",
    "Considere los datos de la instalación de APR en Hualañé, incluyendo la distribución de diámetros y\n",
    "la bomba seleccionada en las entregas anteriores.\n",
    "\n",
    "a) (3pts) Verique el pñunto de operación y si se cumple la jnormativa, en el escenario que 3 nuevas\n",
    "vivuiendas sean construídas en el sector más alto de Hualañé.\n",
    "\n",
    "b) (3pts) Sugiera una solución a la situación anteior, para asegurar el suministro bajo las normas de\n",
    "servicios sanitarios."
   ]
  },
  {
   "cell_type": "code",
   "execution_count": null,
   "metadata": {},
   "outputs": [],
   "source": []
  },
  {
   "cell_type": "markdown",
   "metadata": {},
   "source": [
    "# Bibliografía\n",
    "\n",
    "[1] https://www.stainless-structurals.com/blog/comparing-the-thermal-conductivity-of-stainless-steel-to-other-metals/"
   ]
  },
  {
   "cell_type": "markdown",
   "metadata": {},
   "source": []
  }
 ],
 "metadata": {
  "kernelspec": {
   "display_name": "Python 3",
   "language": "python",
   "name": "python3"
  },
  "language_info": {
   "codemirror_mode": {
    "name": "ipython",
    "version": 3
   },
   "file_extension": ".py",
   "mimetype": "text/x-python",
   "name": "python",
   "nbconvert_exporter": "python",
   "pygments_lexer": "ipython3",
   "version": "3.9.0"
  }
 },
 "nbformat": 4,
 "nbformat_minor": 2
}
