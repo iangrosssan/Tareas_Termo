{
 "cells": [
  {
   "cell_type": "markdown",
   "metadata": {},
   "source": [
    "# Tarea 1: Piping\n",
    "### Pablo Correa e Ian Gross"
   ]
  },
  {
   "cell_type": "markdown",
   "metadata": {},
   "source": [
    "## Librerías"
   ]
  },
  {
   "cell_type": "code",
   "execution_count": 1,
   "metadata": {},
   "outputs": [],
   "source": [
    "import CoolProp.CoolProp as cp\n",
    "import fluids as fld\n",
    "import numpy as np\n",
    "import scipy.constants as cte\n",
    "\n",
    "from fluids.units import *\n",
    "\n",
    "g = cte.g*u.m/u.s**2"
   ]
  },
  {
   "cell_type": "markdown",
   "metadata": {},
   "source": [
    "## Problema 1\n",
    "En un sistema de refrigeración, el refrigerante R134a fluye a través de un tubo de cobre estándar tipo\n",
    "L de 3/4 de pulgada. En este sistema, se utiliza un desuperheter para calentar agua, como se muestra en\n",
    "la Figura P4.3. El R134a ingresa al desuperheter a 200 psia y 225 ºF. El desuperheter extrae suficiente\n",
    "energía, $Q_{DSH}$, de manera que el R134a ingresa al condensador como un vapor saturado a una presión\n",
    "levemente inferior. En el condensador, se transfiere energía desde el refrigerante a una tasa de 60000\n",
    "Btu/h. Esto hace que el R134a salga del condensador como un líquido saturado con una caída de presión\n",
    "despreciable."
   ]
  },
  {
   "cell_type": "markdown",
   "metadata": {},
   "source": [
    "a. Determine la pérdida de carga en el desuperheater."
   ]
  },
  {
   "cell_type": "code",
   "execution_count": 2,
   "metadata": {},
   "outputs": [],
   "source": [
    "# Datos\n",
    "D = (0.75*u.inch).to(u.m)\n",
    "P1 = (200*u.psi).to(u.Pa) # psia = psi\n",
    "T1 = (225*u.fahrenheit).to(u.K)\n",
    "perdida_condensador = (6E4*u.Btu*u.hr**(-1)).to(u.W)"
   ]
  },
  {
   "cell_type": "code",
   "execution_count": 3,
   "metadata": {},
   "outputs": [
    {
     "name": "stdout",
     "output_type": "stream",
     "text": [
      "Entalpía Inicial: 486.5574355995059 kilojoule / kilogram\n",
      "Entalpía de Saturación: 424.0838375481175 kilojoule / kilogram\n",
      "qdsh = 62.47359805138834 kilojoule / kilogram\n"
     ]
    }
   ],
   "source": [
    "# Propiedades\n",
    "fluid = \"R134a\"\n",
    "epsilon = fld.material_roughness('Copper')\n",
    "\n",
    "rho = cp.PropsSI('D','Q', 1, 'P', P1.magnitude, fluid)*u.kg/u.m**3\n",
    "\n",
    "# Calor Qdsh extraido\n",
    "hi = cp.PropsSI('H','T', T1.magnitude, 'P', P1.magnitude, fluid)*u.J/u.kg\n",
    "hdsh = cp.PropsSI('H','P', P1.magnitude, 'Q', 1, fluid)*u.J/u.kg\n",
    "qdsh = hi-hdsh\n",
    "print(f\"Entalpía Inicial: {hi.to(u.kJ/u.kg)}\")\n",
    "print(f\"Entalpía de Saturación: {hdsh.to(u.kJ/u.kg)}\")\n",
    "print(f\"qdsh = {qdsh.to(u.kJ/u.kg)}\")"
   ]
  },
  {
   "cell_type": "code",
   "execution_count": 4,
   "metadata": {},
   "outputs": [
    {
     "name": "stdout",
     "output_type": "stream",
     "text": [
      "4353.343467661183 kilopascal\n"
     ]
    }
   ],
   "source": [
    "# Pérdida de carga\n",
    "DP = qdsh*rho\n",
    "print(DP.to(u.kPa))"
   ]
  },
  {
   "cell_type": "markdown",
   "metadata": {},
   "source": [
    "b. Determine la velocidad (m/s) del R134a al ingresar al condensador."
   ]
  },
  {
   "cell_type": "markdown",
   "metadata": {},
   "source": [
    "Considerando la variaciones de estado entre la entrada al desuperheater (1) y su salida (2), se sabe que el flujo másico es constante en el desuperheater por lo tanto se cumple que:\n",
    "$$m = \\rho_1Av_1 = \\rho_2Av_2$$\n",
    "$$v_1 = \\frac{\\rho_2}{\\rho_1}v_2$$\n",
    "\n",
    "Despreciando el efecto de la conexión entre el desuperheater y el condensador, entonces se puede considerar que la velocidad en la salida del desuperheater es igual a la velocidad en la entrada del condensador."
   ]
  },
  {
   "cell_type": "code",
   "execution_count": 31,
   "metadata": {},
   "outputs": [
    {
     "name": "stdout",
     "output_type": "stream",
     "text": [
      "2.4919849641588514 dimensionless\n"
     ]
    }
   ],
   "source": [
    "rho1 = cp.PropsSI('D','T', T1.magnitude, 'P',P1.magnitude, fluid) * u.kg/(u.m)**3\n",
    "rho2 = cp.PropsSI('D','P', P1.magnitude, 'Q',1, fluid) * u.kg/(u.m)**3\n",
    "\n",
    "r_rho = rho2/rho1\n",
    "\n",
    "print(r_rho)"
   ]
  },
  {
   "cell_type": "markdown",
   "metadata": {},
   "source": [
    "Por Bernoulli y considerando que:\n",
    "$$\\frac{P_1}{\\gamma_1} + \\frac{V_1^2}{2g} + \\cancel{z_1} = \\frac{P_2}{\\gamma_2} + \\frac{V_2^2}{2g} + \\cancel{z_2}$$\n",
    "$$\\frac{P_1}{\\gamma_1} + \\frac{P_2}{\\gamma_2} = \\frac{V_2^2}{2g} - \\frac{V_1^2}{2g}$$\n",
    "$$\\frac{P_1}{\\gamma_1} - \\frac{P_2}{\\gamma_2} = \\frac{V_2^2}{2g}(1 - (\\frac{\\rho_2}{\\rho_1})^2)$$"
   ]
  },
  {
   "cell_type": "code",
   "execution_count": 27,
   "metadata": {},
   "outputs": [
    {
     "name": "stdout",
     "output_type": "stream",
     "text": [
      "1.0261181147065843 meter ** 3 / kilogram\n",
      "-5.209989061593792 dimensionless\n"
     ]
    }
   ],
   "source": [
    "v2 = np.sqrt(P1*(1/rho1 - 1/rho2)*(1-(rho2/rho1)**2)/2)\n",
    "print(1/rho1 - 1/rho2)\n",
    "print(1 - (rho2/rho1)**2)"
   ]
  },
  {
   "cell_type": "markdown",
   "metadata": {},
   "source": [
    "c. Determine la velocidad (m/s) del R134a al salir del condensador."
   ]
  },
  {
   "cell_type": "code",
   "execution_count": null,
   "metadata": {},
   "outputs": [],
   "source": []
  },
  {
   "cell_type": "markdown",
   "metadata": {},
   "source": [
    "d. Investigue sobre correlaciones de pérdida de carga en tuberías con flujo bigfásico. Proponga\n",
    "una expresión para estimar la pérdida de carga en el condensador. ¿qué información sería necesaria?"
   ]
  },
  {
   "cell_type": "markdown",
   "metadata": {},
   "source": [
    "e. Cuál es la diferencia entre una tubería tipo L y una tipo M\n",
    "\n",
    "Las tuberías tipo L tienen un espesor proporcional mayor al de la tuberías tipo M. Esto les permite soportar mayores presiones y, por lo tanto, se utilizan en aplicaciones industriales o de transporte de gas licuado o gas natural. A motivo del mayor requerimiento de material, las tuberías L tienen un costo más elevado. Además, el mayor espesor de la tubería L le da una durabilidad notablemente mayor frente al mismo uso. [1,2]"
   ]
  },
  {
   "cell_type": "markdown",
   "metadata": {},
   "source": [
    "## Problema 2\n",
    "Gas Natural fluye con una velocidad promedio de 100 ft/s por una tubería de cobre de 300 m y $1\\frac{1}{4}$\n",
    "inch de diámetro. La temperatura del gas es 20 ◦C y la presión inicial es de 1 psig."
   ]
  },
  {
   "cell_type": "markdown",
   "metadata": {},
   "source": [
    "a. Asumiendo que el flujo es incompresible, determine la variación de la presión (pérdida de\n",
    "carga) en la tubería."
   ]
  },
  {
   "cell_type": "markdown",
   "metadata": {},
   "source": [
    "Bernoulli:\n",
    "$$\\frac{P_1}{\\gamma} + \\cancel{\\frac{V_1^2}{2g}} + \\cancel{z_1} = \\frac{P_2}{\\gamma} + \\cancel{\\frac{V_2^2}{2g}} + \\cancel{z_2} + f\\frac{L}{D}\\frac{V_2^2}{2g}$$\n",
    "$$\\frac{P_1}{\\gamma} = \\frac{P_2}{\\gamma} + f\\frac{L}{D}\\frac{V^2}{2g}$$\n",
    "$$P_2 = P_1 - f\\frac{L}{D}\\frac{\\rho V^2}{2}$$"
   ]
  },
  {
   "cell_type": "code",
   "execution_count": 5,
   "metadata": {},
   "outputs": [],
   "source": [
    "# Datos\n",
    "V = (100*u.ft*u.s**(-1)).to(u.m*u.s**(-1))\n",
    "L = 300 * u.m\n",
    "D = (1.25 * u.inch).to(u.m)\n",
    "T = (20 * u.celsius).to(u.K)\n",
    "P1 = ((1+14.7)*u.psi).to(u.Pa) # Está en psiG"
   ]
  },
  {
   "cell_type": "markdown",
   "metadata": {},
   "source": [
    "Para calcular las propiedades del gas natural, es necesario crear una mezcla. Utilizando los datos de Enel [3], se normalizan los tres componentes más relevantes para obtener:\n",
    "\n",
    "0.931677% Metano, 0.0660455% Etano, 0.00227743% Propano"
   ]
  },
  {
   "cell_type": "code",
   "execution_count": 6,
   "metadata": {},
   "outputs": [
    {
     "name": "stdout",
     "output_type": "stream",
     "text": [
      "rho: 0.758210578030446 kilogram / meter ** 3, mu: 1.089867026972943e-05 pascal * second\n"
     ]
    }
   ],
   "source": [
    "# Propiedades\n",
    "fluid = \"Methane[0.931677]&Ethane[0.0660455]&Propane[0.00227743]\"\n",
    "rho1 = cp.PropsSI('D','T', T.magnitude, 'P',P1.magnitude, fluid)*u.kg/u.m**3\n",
    "mu = cp.PropsSI('V','T', T.magnitude, 'P',P1.magnitude, fluid)*u.Pa*u.s\n",
    "print(f\"rho: {rho1}, mu: {mu}\")"
   ]
  },
  {
   "cell_type": "code",
   "execution_count": 7,
   "metadata": {},
   "outputs": [
    {
     "name": "stdout",
     "output_type": "stream",
     "text": [
      "Re = 67324.79161436268 dimensionless, f = 0.0987876126689345 dimensionless\n"
     ]
    }
   ],
   "source": [
    "# Fricción\n",
    "Re = (fld.Reynolds(D=D, rho=rho1, V=V, mu=mu)).to('dimensionless')\n",
    "epsilon = (fld.material_roughness('Copper'))*u.m\n",
    "f = fld.friction.friction_factor(Re, eD=epsilon/D)\n",
    "print(f\"Re = {Re}, f = {f}\")\n"
   ]
  },
  {
   "cell_type": "code",
   "execution_count": 8,
   "metadata": {},
   "outputs": [
    {
     "name": "stdout",
     "output_type": "stream",
     "text": [
      "P2: -220505.35555028834 pascal\n"
     ]
    }
   ],
   "source": [
    "# Bernoulli\n",
    "P2 = P1 - (f*rho1*V**2*L)/(2*D)\n",
    "print(f\"P2: {P2}\")"
   ]
  },
  {
   "cell_type": "markdown",
   "metadata": {},
   "source": [
    "b. Determine el grado de error introducido por el supuesto."
   ]
  },
  {
   "cell_type": "markdown",
   "metadata": {},
   "source": [
    "$$\\frac{P_1}{g\\rho_1} = \\frac{P_2}{g\\rho_2} + f\\frac{L}{D}\\frac{V^2}{2g}$$\n"
   ]
  },
  {
   "cell_type": "code",
   "execution_count": 9,
   "metadata": {},
   "outputs": [
    {
     "ename": "ValueError",
     "evalue": "Brent's method f(b) is NAN for b = 1, other input was a = 0 : PropsSI(\"D\",\"T\",293.15,\"P\",-220505.3556,\"Methane[0.931677]&Ethane[0.0660455]&Propane[0.00227743]\")",
     "output_type": "error",
     "traceback": [
      "\u001b[1;31m---------------------------------------------------------------------------\u001b[0m",
      "\u001b[1;31mValueError\u001b[0m                                Traceback (most recent call last)",
      "\u001b[1;32m<ipython-input-9-798e93eac528>\u001b[0m in \u001b[0;36m<module>\u001b[1;34m\u001b[0m\n\u001b[1;32m----> 1\u001b[1;33m \u001b[0mrho2\u001b[0m \u001b[1;33m=\u001b[0m \u001b[0mcp\u001b[0m\u001b[1;33m.\u001b[0m\u001b[0mPropsSI\u001b[0m\u001b[1;33m(\u001b[0m\u001b[1;34m'D'\u001b[0m\u001b[1;33m,\u001b[0m\u001b[1;34m'T'\u001b[0m\u001b[1;33m,\u001b[0m \u001b[0mT\u001b[0m\u001b[1;33m.\u001b[0m\u001b[0mmagnitude\u001b[0m\u001b[1;33m,\u001b[0m \u001b[1;34m'P'\u001b[0m\u001b[1;33m,\u001b[0m\u001b[0mP2\u001b[0m\u001b[1;33m.\u001b[0m\u001b[0mmagnitude\u001b[0m\u001b[1;33m,\u001b[0m \u001b[0mfluid\u001b[0m\u001b[1;33m)\u001b[0m\u001b[1;33m*\u001b[0m\u001b[0mu\u001b[0m\u001b[1;33m.\u001b[0m\u001b[0mkg\u001b[0m\u001b[1;33m/\u001b[0m\u001b[0mu\u001b[0m\u001b[1;33m.\u001b[0m\u001b[0mm\u001b[0m\u001b[1;33m**\u001b[0m\u001b[1;36m3\u001b[0m\u001b[1;33m\u001b[0m\u001b[1;33m\u001b[0m\u001b[0m\n\u001b[0m\u001b[0;32m      2\u001b[0m \u001b[0ml_izq\u001b[0m \u001b[1;33m=\u001b[0m \u001b[1;33m(\u001b[0m\u001b[0mP1\u001b[0m\u001b[1;33m/\u001b[0m\u001b[1;33m(\u001b[0m\u001b[0mrho1\u001b[0m\u001b[1;33m*\u001b[0m\u001b[0mg\u001b[0m\u001b[1;33m)\u001b[0m\u001b[1;33m)\u001b[0m\u001b[1;33m.\u001b[0m\u001b[0mto\u001b[0m\u001b[1;33m(\u001b[0m\u001b[0mu\u001b[0m\u001b[1;33m.\u001b[0m\u001b[0mm\u001b[0m\u001b[1;33m)\u001b[0m\u001b[1;33m\u001b[0m\u001b[1;33m\u001b[0m\u001b[0m\n\u001b[0;32m      3\u001b[0m \u001b[0ml_der\u001b[0m \u001b[1;33m=\u001b[0m \u001b[1;33m(\u001b[0m\u001b[0mP2\u001b[0m\u001b[1;33m/\u001b[0m\u001b[1;33m(\u001b[0m\u001b[0mrho2\u001b[0m\u001b[1;33m*\u001b[0m\u001b[0mg\u001b[0m\u001b[1;33m)\u001b[0m\u001b[1;33m)\u001b[0m\u001b[1;33m.\u001b[0m\u001b[0mto\u001b[0m\u001b[1;33m(\u001b[0m\u001b[0mu\u001b[0m\u001b[1;33m.\u001b[0m\u001b[0mm\u001b[0m\u001b[1;33m)\u001b[0m\u001b[1;33m\u001b[0m\u001b[1;33m\u001b[0m\u001b[0m\n\u001b[0;32m      4\u001b[0m \u001b[1;33m\u001b[0m\u001b[0m\n\u001b[0;32m      5\u001b[0m \u001b[0mprint\u001b[0m\u001b[1;33m(\u001b[0m\u001b[1;34mf\"l_izq: {l_izq}, l_der: {l_der}\"\u001b[0m\u001b[1;33m)\u001b[0m\u001b[1;33m\u001b[0m\u001b[1;33m\u001b[0m\u001b[0m\n",
      "\u001b[1;32mCoolProp\\\\CoolProp.pyx\u001b[0m in \u001b[0;36mCoolProp.CoolProp.PropsSI\u001b[1;34m()\u001b[0m\n",
      "\u001b[1;32mCoolProp\\\\CoolProp.pyx\u001b[0m in \u001b[0;36mCoolProp.CoolProp.PropsSI\u001b[1;34m()\u001b[0m\n",
      "\u001b[1;32mCoolProp\\\\CoolProp.pyx\u001b[0m in \u001b[0;36mCoolProp.CoolProp.__Props_err2\u001b[1;34m()\u001b[0m\n",
      "\u001b[1;31mValueError\u001b[0m: Brent's method f(b) is NAN for b = 1, other input was a = 0 : PropsSI(\"D\",\"T\",293.15,\"P\",-220505.3556,\"Methane[0.931677]&Ethane[0.0660455]&Propane[0.00227743]\")"
     ]
    }
   ],
   "source": [
    "rho2 = cp.PropsSI('D','T', T.magnitude, 'P',P2.magnitude, fluid)*u.kg/u.m**3\n",
    "l_izq = (P1/(rho1*g)).to(u.m)\n",
    "l_der = (P2/(rho2*g)).to(u.m)\n",
    "\n",
    "print(f\"l_izq: {l_izq}, l_der: {l_der}\")\n",
    "print(f\"diferencia: {l_izq-l_der}\")"
   ]
  },
  {
   "cell_type": "markdown",
   "metadata": {},
   "source": [
    "c. Verifique la validez del supuesto."
   ]
  },
  {
   "cell_type": "markdown",
   "metadata": {},
   "source": [
    "d. Haga una evaluación (gráfico) del error vs longitud de la tubería."
   ]
  },
  {
   "cell_type": "markdown",
   "metadata": {},
   "source": [
    "e. ¿Cuánto influencia la temperatura en la pérdida de carga? Grafique"
   ]
  },
  {
   "cell_type": "markdown",
   "metadata": {},
   "source": [
    "## Problema 3\n",
    "Se utiliza una tubería horizontal para transportar etanol (alcohol etílico) a 20 ◦C a lo largo de una\n",
    "distancia de 3 km. La tubería está hecha de acero comercial. El caudal requerido de etanol es de 40\n",
    "L/s. La bomba conectada a esta tubería puede superar una caída de presión de hasta 200 kPa en la\n",
    "tubería."
   ]
  },
  {
   "cell_type": "markdown",
   "metadata": {},
   "source": [
    "a. Especifique el tamaño apropiado (diámetro nominal) de una tubería de tipo Schedule 40 para esta tubería."
   ]
  },
  {
   "cell_type": "code",
   "execution_count": null,
   "metadata": {},
   "outputs": [],
   "source": [
    "T = (20 * u.celsius).to(u.K)\n",
    "L = 3E3 * u.m\n",
    "caudal = 40 * u.liters*u.s**(-1)\n",
    "caida_P = 200E3 * u.Pa"
   ]
  },
  {
   "cell_type": "markdown",
   "metadata": {},
   "source": [
    "b. Grafique el caudal máximo que sería entregado por diferentes diametros del schedule\n",
    "indicado."
   ]
  },
  {
   "cell_type": "markdown",
   "metadata": {},
   "source": [
    "## Problema 4\n",
    "Considere el plano hidráulico de la localidad de Hualañé."
   ]
  },
  {
   "cell_type": "markdown",
   "metadata": {},
   "source": [
    "a. Establezca un código computacional, que permita estimar la pérdida de carga máxima en el sistema, cuando todas las casas tienen una llave de\n",
    "lavamanos abierta."
   ]
  },
  {
   "cell_type": "code",
   "execution_count": null,
   "metadata": {},
   "outputs": [],
   "source": []
  },
  {
   "cell_type": "markdown",
   "metadata": {},
   "source": [
    "b. Grafique la pérdida de carga asociada a cada casa si eldiametro de todas las\n",
    "tuberías es de 1 pulgada."
   ]
  },
  {
   "cell_type": "code",
   "execution_count": null,
   "metadata": {},
   "outputs": [],
   "source": []
  },
  {
   "cell_type": "markdown",
   "metadata": {},
   "source": [
    "# Bibliografía\n",
    "\n",
    "[1] https://woolfplumbing.com.au/blog/the-differences-between-copper-pipes-type-l-and-type-m\n",
    "\n",
    "[2] https://sodimac.falabella.com/sodimac-cl/page/como-elegir-tuberias-y-fittings-de-cobre\n",
    "\n",
    "[3] https://www.enel.cl/es/inversionistas/inversionistas-enel-generacion/nuestras-centrales/gasoducto/informacion-general.html"
   ]
  },
  {
   "cell_type": "markdown",
   "metadata": {},
   "source": []
  }
 ],
 "metadata": {
  "kernelspec": {
   "display_name": "Python 3.9.12 ('Thermodynamics')",
   "language": "python",
   "name": "python3"
  },
  "language_info": {
   "codemirror_mode": {
    "name": "ipython",
    "version": 3
   },
   "file_extension": ".py",
   "mimetype": "text/x-python",
   "name": "python",
   "nbconvert_exporter": "python",
   "pygments_lexer": "ipython3",
   "version": "3.9.0"
  },
  "orig_nbformat": 4,
  "vscode": {
   "interpreter": {
    "hash": "e3e00a7bd6eae02d2ccac1eb55407bbbd95142f269ed3bd1034733c2cfa4f866"
   }
  }
 },
 "nbformat": 4,
 "nbformat_minor": 2
}
