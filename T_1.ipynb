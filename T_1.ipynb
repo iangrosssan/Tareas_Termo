{
 "cells": [
  {
   "cell_type": "markdown",
   "metadata": {},
   "source": [
    "# Tarea 1: Piping\n",
    "### Pablo Correa e Ian Gross"
   ]
  },
  {
   "cell_type": "markdown",
   "metadata": {},
   "source": [
    "## Librerías"
   ]
  },
  {
   "cell_type": "code",
   "execution_count": 10,
   "metadata": {},
   "outputs": [],
   "source": [
    "import CoolProp.CoolProp as cp\n",
    "import fluids as fld\n",
    "import numpy as np\n",
    "import scipy.constants as cte\n",
    "\n",
    "import fluids.units as units\n"
   ]
  },
  {
   "cell_type": "markdown",
   "metadata": {},
   "source": [
    "## Problema 1\n",
    "En un sistema de refrigeración, el refrigerante R134a fluye a través de un tubo de cobre estándar tipo\n",
    "L de 3/4 de pulgada. En este sistema, se utiliza un desuperheter para calentar agua, como se muestra en\n",
    "la Figura P4.3. El R134a ingresa al desuperheter a 200 psia y 225 ºF. El desuperheter extrae suficiente\n",
    "energía, QDSH, de manera que el R134a ingresa al condensador como un vapor saturado a una presión\n",
    "levemente inferior. En el condensador, se transfiere energía desde el refrigerante a una tasa de 60000\n",
    "Btu/h. Esto hace que el R134a salga del condensador como un líquido saturado con una caída de presión\n",
    "despreciable."
   ]
  },
  {
   "cell_type": "markdown",
   "metadata": {},
   "source": [
    "a. Determine la pérdida de carga en el desuperheater."
   ]
  },
  {
   "cell_type": "code",
   "execution_count": 15,
   "metadata": {},
   "outputs": [
    {
     "name": "stdout",
     "output_type": "stream",
     "text": [
      "50.80505814934574 1.5294536955578792e-05\n"
     ]
    }
   ],
   "source": [
    "g = cte.value(u'standard acceleration of gravity')\n",
    "\n",
    "# Transform inches to meter\n",
    "D = 3/4 * 0.0254 #Pulgadas a metros\n",
    "\n",
    "z = 1\n",
    "\n",
    "material = 'Copper'\n",
    "epsilon = fld.material_roughness(material)\n",
    "\n",
    "fluid = \"R134a\"\n",
    "rho = cp.PropsSI('D','T', 380, 'P',1.379e6, fluid)\n",
    "mu = cp.PropsSI('V','T', 380, 'P',1.379e6, fluid)\n",
    "print(rho, mu)"
   ]
  },
  {
   "cell_type": "markdown",
   "metadata": {},
   "source": [
    "b. Determine la velocidad (m/s) del R134a al ingresar al condensador."
   ]
  },
  {
   "cell_type": "markdown",
   "metadata": {},
   "source": [
    "c. Determine la velocidad (m/s) del R134a al salir del condensador."
   ]
  },
  {
   "cell_type": "markdown",
   "metadata": {},
   "source": [
    "d. Investigue sobre correlaciones de pérdida de carga en tuberías con flujo bigfásico. Proponga\n",
    "una expresión para estimar la pérdida de carga en el condensador. ¿qué información sería necesaria?"
   ]
  },
  {
   "cell_type": "markdown",
   "metadata": {},
   "source": [
    "e. Cuál es la diferencia entre una tubería tipo L y una tipo M\n",
    "\n",
    "Las tuberías tipo L tienen un espesor proporcional mayor al de la tuberías tipo M. Esto les permite soportar mayores presiones y, por lo tanto, se utilizan en aplicaciones industriales o de transporte de gas licuado o gas natural. A motivo del mayor requerimiento de material, las tuberías L tienen un costo más elevado. Además, el mayor espesor de la tubería L le da una durabilidad notablemente mayor frente al mismo uso.\n",
    "\n",
    "[1] https://woolfplumbing.com.au/blog/the-differences-between-copper-pipes-type-l-and-type-m\n",
    "\n",
    "[2] https://sodimac.falabella.com/sodimac-cl/page/como-elegir-tuberias-y-fittings-de-cobre"
   ]
  },
  {
   "cell_type": "markdown",
   "metadata": {},
   "source": [
    "## Problema 2\n",
    "Gas Natural fluye con una velocidad promedio de 100 ft/s por una tubería de cobre de 300 m y $1\\frac{1}{4}$\n",
    "inch de diámetro. La temperatura del gas es 20 ◦C y la presión inicial es de 1 psig."
   ]
  },
  {
   "cell_type": "markdown",
   "metadata": {},
   "source": [
    "a. Asumiendo que el flujo es incompresible, determine la variación de la presión (pérdida de\n",
    "carga) en la tubería."
   ]
  },
  {
   "cell_type": "markdown",
   "metadata": {},
   "source": [
    "b. Determine el grado de error introducido por el supuesto."
   ]
  },
  {
   "cell_type": "markdown",
   "metadata": {},
   "source": [
    "c. Verifique la validez del supuesto."
   ]
  },
  {
   "cell_type": "markdown",
   "metadata": {},
   "source": [
    "d. Haga una evaluación (gráfico) del error vs longitud de la tubería."
   ]
  },
  {
   "cell_type": "markdown",
   "metadata": {},
   "source": [
    "e. ¿Cuánto influencia la temperatura en la pérdida de carga? Grafique"
   ]
  },
  {
   "cell_type": "markdown",
   "metadata": {},
   "source": [
    "## Problema 3\n",
    "Se utiliza una tubería horizontal para transportar etanol (alcohol etílico) a 20 ◦C a lo largo de una\n",
    "distancia de 3 km. La tubería está hecha de acero comercial. El caudal requerido de etanol es de 40\n",
    "L/s. La bomba conectada a esta tubería puede superar una caída de presión de hasta 200 kPa en la\n",
    "tubería."
   ]
  },
  {
   "cell_type": "markdown",
   "metadata": {},
   "source": [
    "a. Especifique el tamaño apropiado (diámetro nominal) de una tubería de tipo Schedule 40 para esta tubería."
   ]
  },
  {
   "cell_type": "markdown",
   "metadata": {},
   "source": [
    "b. Grafique el caudal máximo que sería entregado por diferentes diametros del schedule\n",
    "indicado."
   ]
  },
  {
   "cell_type": "markdown",
   "metadata": {},
   "source": [
    "## Problema 4\n",
    "Considere el plano hidráulico de la localidad de Hualañé."
   ]
  },
  {
   "cell_type": "markdown",
   "metadata": {},
   "source": [
    "a. Establezca un código computacional, que permita estimar la pérdida de carga máxima en el sistema, cuando todas las casas tienen una llave de\n",
    "lavamanos abierta."
   ]
  },
  {
   "cell_type": "markdown",
   "metadata": {},
   "source": [
    "b. Grafique la pérdida de carga asociada a cada casa si eldiametro de todas las\n",
    "tuberías es de 1 pulgada."
   ]
  }
 ],
 "metadata": {
  "kernelspec": {
   "display_name": "Python 3.9.12 ('Thermodynamics')",
   "language": "python",
   "name": "python3"
  },
  "language_info": {
   "codemirror_mode": {
    "name": "ipython",
    "version": 3
   },
   "file_extension": ".py",
   "mimetype": "text/x-python",
   "name": "python",
   "nbconvert_exporter": "python",
   "pygments_lexer": "ipython3",
   "version": "3.12.0"
  },
  "orig_nbformat": 4,
  "vscode": {
   "interpreter": {
    "hash": "e3e00a7bd6eae02d2ccac1eb55407bbbd95142f269ed3bd1034733c2cfa4f866"
   }
  }
 },
 "nbformat": 4,
 "nbformat_minor": 2
}
