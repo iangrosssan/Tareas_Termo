{
 "cells": [
  {
   "cell_type": "markdown",
   "metadata": {},
   "source": [
    "# Tarea 1: Piping\n",
    "### Pablo Correa e Ian Gross"
   ]
  },
  {
   "cell_type": "markdown",
   "metadata": {},
   "source": [
    "## Librerías"
   ]
  },
  {
   "cell_type": "code",
   "execution_count": 105,
   "metadata": {},
   "outputs": [],
   "source": [
    "import CoolProp.CoolProp as cp\n",
    "import fluids as fld\n",
    "import numpy as np\n",
    "import scipy.constants as cte\n",
    "import matplotlib.pyplot as plt\n",
    "\n",
    "from fluids.units import *"
   ]
  },
  {
   "cell_type": "code",
   "execution_count": 106,
   "metadata": {},
   "outputs": [],
   "source": [
    "g = cte.g*u.m/u.s**2"
   ]
  },
  {
   "cell_type": "markdown",
   "metadata": {},
   "source": [
    "## Problema 1\n",
    "En un sistema de refrigeración, el refrigerante R134a fluye a través de un tubo de cobre estándar tipo\n",
    "L de 3/4 de pulgada. En este sistema, se utiliza un desuperheter para calentar agua, como se muestra en\n",
    "la Figura P4.3. El R134a ingresa al desuperheter a 200 psia y 225 ºF. El desuperheter extrae suficiente\n",
    "energía, $Q_{DSH}$, de manera que el R134a ingresa al condensador como un vapor saturado a una presión\n",
    "levemente inferior. En el condensador, se transfiere energía desde el refrigerante a una tasa de 60000\n",
    "Btu/h. Esto hace que el R134a salga del condensador como un líquido saturado con una caída de presión\n",
    "despreciable."
   ]
  },
  {
   "cell_type": "markdown",
   "metadata": {},
   "source": [
    "a. Determine la pérdida de carga en el desuperheater."
   ]
  },
  {
   "cell_type": "code",
   "execution_count": 107,
   "metadata": {},
   "outputs": [],
   "source": [
    "# Datos\n",
    "D = (0.75*u.inch).to(u.m)\n",
    "P1 = (200*u.psi).to(u.Pa) # psia = psi\n",
    "T1 = (225*u.fahrenheit).to(u.K)\n",
    "Q_c = (6E4*u.Btu*u.hr**(-1)).to(u.W)\n",
    "L = 5*u.m # Longitud del tubo asumida\n",
    "\n",
    "fluid = 'R134a'\n",
    "epsilon = fld.material_roughness('Copper')*u.mm"
   ]
  },
  {
   "cell_type": "markdown",
   "metadata": {},
   "source": [
    "La pérdida de carga en el desuperheater está dado por:\n",
    "$$\\frac{P_1}{\\rho_1} = \\frac{P_2}{\\rho_2} - f\\frac{L}{D}\\frac{V^2}{2}$$\n",
    "\n",
    "A la vez, se conocen los estados termodinámicos de entalpía en el condensador, que permiten calcular el flujo másico como sigue:\n",
    "$$\\dot{Q}_c = \\Delta h\\dot{m}$$\n",
    "\n",
    "Donde el caudal está dado por:\n",
    "$$\\dot{\\forall} = \\frac{\\dot{m}}{\\rho}$$\n",
    "\n",
    "Y la velocidad:\n",
    "$$V = \\frac{\\dot{\\forall}}{A} = \\frac{\\dot{\\forall}}{\\pi \\frac{D^2}{4}}$$\n",
    "\n",
    "Dado que no se conoce el estado de presión $P_2$, se realiza un experimento numérico, donde se determina que $\\rho_2$ presenta muy leves variaciones en el rango de presiones esperado, por lo tanto, se calcula su valor . El mismo escenario es válido para la propiedad $\\mu$."
   ]
  },
  {
   "cell_type": "code",
   "execution_count": 108,
   "metadata": {},
   "outputs": [
    {
     "name": "stdout",
     "output_type": "stream",
     "text": [
      "rho1 = 50.724300150679966 kilogram / meter ** 3\n",
      "rho2 = 69.68293172549936 kilogram / meter ** 3\n"
     ]
    }
   ],
   "source": [
    "# Propiedades\n",
    "rho1 = cp.PropsSI('D','T', T1.magnitude, 'P', P1.magnitude, fluid)*u.kg/u.m**3\n",
    "mu1 = cp.PropsSI('V','T', T1.magnitude, 'P', P1.magnitude, fluid)*u.Pa*u.s\n",
    "h1 = cp.PropsSI('H','T', T1.magnitude, 'P', P1.magnitude, fluid)*u.J/u.kg # Entrada con datos de presión y temperatura\n",
    "\n",
    "rho2 = cp.PropsSI('D','Q', 1, 'P', P1.magnitude, fluid)*u.kg/u.m**3\n",
    "mu2 = cp.PropsSI('V','Q', 1, 'P', P1.magnitude, fluid)*u.Pa*u.s\n",
    "h2 = cp.PropsSI('H', 'Q', 1, 'P', P1.magnitude, fluid)*u.J/u.kg # Salida del desuperheater (vapor saturado)\n",
    "\n",
    "rho3 = cp.PropsSI('D','Q', 0, 'P', P1.magnitude, fluid)*u.kg/u.m**3\n",
    "mu3 = cp.PropsSI('V','Q', 0, 'P', P1.magnitude, fluid)*u.Pa*u.s\n",
    "h3 = cp.PropsSI('H','Q', 0, 'P', P1.magnitude, fluid)*u.J/u.kg # Salida del condensador (líquido saturado)\n",
    "\n",
    "print('rho1 =',rho1)\n",
    "print('rho2 =', rho2)\n"
   ]
  },
  {
   "cell_type": "code",
   "execution_count": 109,
   "metadata": {},
   "outputs": [
    {
     "name": "stdout",
     "output_type": "stream",
     "text": [
      "dm = 0.11751193592570336 kilogram / second\n",
      "dV = 1.6863804810712595 liter / second\n",
      "V = 5.916647903967142 meter / second\n"
     ]
    }
   ],
   "source": [
    "# Caudal\n",
    "dm = Q_c/(h2-h3)\n",
    "dVol = dm/rho2\n",
    "V = dVol/(np.pi*D**2/4)\n",
    "print(f\"dm = {dm.to(u.kg/u.s)}\")\n",
    "print(f\"dV = {dVol.to(u.L/u.s)}\")\n",
    "print(f\"V = {V.to(u.m/u.s)}\")"
   ]
  },
  {
   "cell_type": "markdown",
   "metadata": {},
   "source": [
    "Con la velocidad, se calcula el número de Reynolds y, con este, el factor de fricción."
   ]
  },
  {
   "cell_type": "code",
   "execution_count": 110,
   "metadata": {},
   "outputs": [
    {
     "name": "stdout",
     "output_type": "stream",
     "text": [
      "Re = 373445.0962286964 dimensionless\n",
      "f = 0.015506123397328559 dimensionless\n"
     ]
    }
   ],
   "source": [
    "# Factor de fricción\n",
    "Re = (fld.Reynolds(D=D, rho=rho1, V=V, mu=mu1)).to('dimensionless')\n",
    "f = fld.friction.friction_factor(Re=Re, eD=epsilon/D)\n",
    "print(f\"Re = {Re}\")\n",
    "print(f\"f = {f}\")"
   ]
  },
  {
   "cell_type": "markdown",
   "metadata": {},
   "source": [
    "Dado que no se conoce el largo de la cañería, se calcula la pérdida de presión por unidad de largo:\n",
    "$$\\frac{\\Delta P}{L} = f\\frac{V^2}{2Dg}$$"
   ]
  },
  {
   "cell_type": "code",
   "execution_count": 111,
   "metadata": {},
   "outputs": [
    {
     "name": "stdout",
     "output_type": "stream",
     "text": [
      "0.7226795653988555 kilopascal / meter\n"
     ]
    }
   ],
   "source": [
    "# Pérdida de carga y largo de la tubería\n",
    "DP_lineal = f*rho1*V**2/(2*D)\n",
    "print(DP_lineal.to(u.kPa/u.m))"
   ]
  },
  {
   "cell_type": "markdown",
   "metadata": {},
   "source": [
    "b. Determine la velocidad (m/s) del R134a al ingresar al condensador.\n",
    "Dado que el sistema presenta una sola vía para el flujo, entonces todos los flujos másicos deben ser equivalentes."
   ]
  },
  {
   "cell_type": "code",
   "execution_count": 112,
   "metadata": {},
   "outputs": [
    {
     "name": "stdout",
     "output_type": "stream",
     "text": [
      "5.916647903967142 meter / second\n"
     ]
    }
   ],
   "source": [
    "dVol2 = dm/rho2\n",
    "V2 = dVol2/(np.pi*D**2/4)\n",
    "print((V2).to(u.m/u.s))\n"
   ]
  },
  {
   "cell_type": "markdown",
   "metadata": {},
   "source": [
    "c. Determine la velocidad (m/s) del R134a al salir del condensador.\n",
    "\n",
    "Se calcula igual que el punto anterior."
   ]
  },
  {
   "cell_type": "code",
   "execution_count": 113,
   "metadata": {},
   "outputs": [
    {
     "name": "stdout",
     "output_type": "stream",
     "text": [
      "0.37694411151712093 meter / second\n"
     ]
    }
   ],
   "source": [
    "dVol3 = dm/rho3\n",
    "V3 = dVol3/(np.pi*D**2/4)\n",
    "print((V3).to(u.m/u.s))"
   ]
  },
  {
   "cell_type": "markdown",
   "metadata": {},
   "source": [
    "d. Investigue sobre correlaciones de pérdida de carga en tuberías con flujo bifásico. Proponga\n",
    "una expresión para estimar la pérdida de carga en el condensador. ¿qué información sería necesaria?\n",
    "\n",
    "Una de estas correlaciones es la de Lockhart-Martinelli, la cual compara la caída de presión bifásica con la caída de presión esperada para un sistema con solo líquido o solo gas. Para esto, define un parámetro de calidad del gas como sigue:\n",
    "$$X^2 = \\frac{\\bigg(\\frac{dp}{dz}\\bigg)_L}{\\bigg(\\frac{dp}{dz}\\bigg)_V} = \\frac{\\phi_V^2}{\\phi_L^2}$$\n",
    "donde $\\phi$ son multiplicadores de fricción de dos fases.\n",
    "\n",
    "Cuando ambas fases son turbulentas la ecuación resultante es:\n",
    "$$X_{tt} = \\bigg(\\frac{1-x}{x}\\bigg)^{0.9}\\bigg(\\frac{\\rho_V}{\\rho_L}\\bigg)^{0.5}\\bigg(\\frac{\\mu_L}{\\mu_V}\\bigg)^{0.1}$$\n",
    "donde $L$ es el parámetro asociado al líquido y $V$ el parámetro asociado al vapor. [1]\n",
    "\n",
    "Estos multiplicadores luego se añaden al factor de pérdida por fricción común, por lo tanto, se deben conocer todos los parámetros que se requerían anteriormente. Además, se requiere conocer la calidad de vapor, que se utiliza direcramente en la ecuación, y el régimen de flujo, que tiene que ver con la forma en la que se distribuyen ambas fases dentro de la tubería."
   ]
  },
  {
   "cell_type": "markdown",
   "metadata": {},
   "source": [
    "e. Cuál es la diferencia entre una tubería tipo L y una tipo M\n",
    "\n",
    "Las tuberías tipo L tienen un espesor proporcional mayor al de la tuberías tipo M. Esto les permite soportar mayores presiones y, por lo tanto, se utilizan en aplicaciones industriales o de transporte de gas licuado o gas natural. A motivo del mayor requerimiento de material, las tuberías L tienen un costo más elevado. Además, el mayor espesor de la tubería L le da una durabilidad notablemente mayor frente al mismo uso. [2,3]"
   ]
  },
  {
   "cell_type": "markdown",
   "metadata": {},
   "source": [
    "## Problema 2\n",
    "Gas Natural fluye con una velocidad promedio de 100 ft/s por una tubería de cobre de 300 m y $1\\frac{1}{4}\"$ de diámetro. La temperatura del gas es 20 ◦C y la presión inicial es de 1000 psig."
   ]
  },
  {
   "cell_type": "markdown",
   "metadata": {},
   "source": [
    "a. Asumiendo que el flujo es incompresible, determine la variación de la presión (pérdida de\n",
    "carga) en la tubería."
   ]
  },
  {
   "cell_type": "markdown",
   "metadata": {},
   "source": [
    "Bernoulli:\n",
    "$$\\frac{P_1}{\\gamma} + \\cancel{\\frac{V_1^2}{2g}} + \\cancel{z_1} = \\frac{P_2}{\\gamma} + \\cancel{\\frac{V_2^2}{2g}} + \\cancel{z_2} + f\\frac{L}{D}\\frac{V_2^2}{2g}$$\n",
    "$$\\frac{P_1}{\\gamma} = \\frac{P_2}{\\gamma} + f\\frac{L}{D}\\frac{V^2}{2g}$$\n",
    "$$P_2 = P_1 - f\\frac{L}{D}\\frac{\\rho V^2}{2}$$"
   ]
  },
  {
   "cell_type": "code",
   "execution_count": 114,
   "metadata": {},
   "outputs": [],
   "source": [
    "# Datos\n",
    "V = (100*u.ft*u.s**(-1)).to(u.m*u.s**(-1))\n",
    "L = 300 * u.m\n",
    "D = (1.25 * u.inch).to(u.m)\n",
    "T = (20 * u.celsius).to(u.K)\n",
    "P1 = ((1000+14.7)*u.psi).to(u.Pa) # Está en psiG"
   ]
  },
  {
   "cell_type": "markdown",
   "metadata": {},
   "source": [
    "Para calcular las propiedades del gas natural, es necesario crear una mezcla. Utilizando los datos de Enel [4], se normalizan los tres componentes más relevantes para obtener:\n",
    "\n",
    "0.931677% Metano, 0.0660455% Etano, 0.00227743% Propano"
   ]
  },
  {
   "cell_type": "code",
   "execution_count": 115,
   "metadata": {},
   "outputs": [
    {
     "name": "stdout",
     "output_type": "stream",
     "text": [
      "rho: 50.724300150679966 kilogram / meter ** 3\n",
      "mu: 1.265970887616968e-05 pascal * second\n"
     ]
    }
   ],
   "source": [
    "# Propiedades\n",
    "fluid = \"Methane[0.931677]&Ethane[0.0660455]&Propane[0.00227743]\"\n",
    "rho = cp.PropsSI('D','T', T.magnitude, 'P',P1.magnitude, fluid)*u.kg/u.m**3\n",
    "mu = cp.PropsSI('V','T', T.magnitude, 'P',P1.magnitude, fluid)*u.Pa*u.s\n",
    "print(f\"rho: {rho1}\")\n",
    "print(f\"mu: {mu}\")"
   ]
  },
  {
   "cell_type": "code",
   "execution_count": 116,
   "metadata": {},
   "outputs": [
    {
     "name": "stdout",
     "output_type": "stream",
     "text": [
      "Re = 4357915.076040234 dimensionless\n",
      "f = 0.012278121652104726 dimensionless\n"
     ]
    }
   ],
   "source": [
    "# Fricción\n",
    "Re = (fld.Reynolds(D=D, rho=rho, V=V, mu=mu)).to('dimensionless')\n",
    "epsilon = (fld.material_roughness('Copper'))*u.mm\n",
    "f = fld.friction.friction_factor(Re, eD=epsilon/D)\n",
    "print(f\"Re = {Re}\")\n",
    "print(f\"f = {f}\")\n"
   ]
  },
  {
   "cell_type": "code",
   "execution_count": 117,
   "metadata": {},
   "outputs": [
    {
     "name": "stdout",
     "output_type": "stream",
     "text": [
      "P1: 6996110.225377939 pascal\n",
      "P2: 3923884.1136408392 pascal\n"
     ]
    }
   ],
   "source": [
    "# Bernoulli\n",
    "P2 = P1 - (f*rho*V**2*L)/(2*D)\n",
    "print(f\"P1: {P1}\")\n",
    "print(f\"P2: {P2}\")\n"
   ]
  },
  {
   "cell_type": "markdown",
   "metadata": {},
   "source": [
    "b. Determine el grado de error introducido por el supuesto.\n",
    "\n",
    "Partiendo de la ecuación inicial:\n",
    "$$\\frac{P_1}{\\gamma_1} = \\frac{P_2}{\\gamma_2} + f\\frac{L}{D}\\frac{V^2}{2g}$$\n",
    "Se divide en pequeños tramos para realizar una iteración:\n",
    "$$\\frac{P_i}{\\rho} = \\frac{P_{i+1}}{\\rho} + f\\frac{dL}{D}\\frac{V^2}{2}$$\n",
    "$$P_{i+1} = P_i - f\\frac{dL}{D}\\frac{\\rho V^2}{2}$$"
   ]
  },
  {
   "cell_type": "code",
   "execution_count": 118,
   "metadata": {},
   "outputs": [
    {
     "name": "stdout",
     "output_type": "stream",
     "text": [
      "rhoi: 35.19673866374126 kilogram / meter ** 3\n",
      "Pi: 4556265.803968898 pascal\n"
     ]
    }
   ],
   "source": [
    "# Condiciones iniciales\n",
    "Pi = ((1000+14.7)*u.psi).to(u.Pa)\n",
    "rhoi = cp.PropsSI('D','T', T.magnitude, 'P',Pi.magnitude, fluid)*u.kg/u.m**3\n",
    "mui = cp.PropsSI('V','T', T.magnitude, 'P',Pi.magnitude, fluid)*u.Pa*u.s\n",
    "Rei = (fld.Reynolds(D=D, rho=rhoi, V=V, mu=mui))\n",
    "fi = fld.friction.friction_factor(Rei, eD=epsilon/D)\n",
    "\n",
    "# Tramos\n",
    "n = 50\n",
    "# Largo del tramo\n",
    "dL = L/n\n",
    "\n",
    "for i in range(n):\n",
    "    Pi -= (f*rhoi*V**2*dL)/(2*D)\n",
    "    # Se actualiza la densidad con la nueva presión\n",
    "    rhoi = cp.PropsSI('D','T', T.magnitude, 'P',Pi.magnitude, fluid)*u.kg/u.m**3\n",
    "    mui = cp.PropsSI('V','T', T.magnitude, 'P',Pi.magnitude, fluid)*u.Pa*u.s\n",
    "    Rei = (fld.Reynolds(D=D, rho=rhoi, V=V, mu=mui))\n",
    "    fi = fld.friction.friction_factor(Rei, eD=epsilon/D)\n",
    "print(f\"rhoi: {rhoi}\")\n",
    "print(f\"Pi: {Pi}\")\n"
   ]
  },
  {
   "cell_type": "markdown",
   "metadata": {},
   "source": [
    "Considerando la desviación del cálculo incompresible con respecto al compresible:\n",
    "$$error = \\frac{P_i-P_2}{P_i}$$"
   ]
  },
  {
   "cell_type": "code",
   "execution_count": 119,
   "metadata": {},
   "outputs": [
    {
     "name": "stdout",
     "output_type": "stream",
     "text": [
      "Error: 0.13879385390053411 dimensionless\n"
     ]
    }
   ],
   "source": [
    "err = (Pi-P2)/Pi\n",
    "print(f\"Error: {err}\")"
   ]
  },
  {
   "cell_type": "markdown",
   "metadata": {},
   "source": [
    "Se obtiene un 13\\% de error con respecto al valor compresible. De este modo, el valor incompresible permite hacerse una idea general de la pérdida de carga del sistema para un cálculo rápido, pero no entrega valores confiables para el diseño de sistemas complejos."
   ]
  },
  {
   "cell_type": "markdown",
   "metadata": {},
   "source": [
    "c. Verifique la validez del supuesto."
   ]
  },
  {
   "cell_type": "code",
   "execution_count": 120,
   "metadata": {},
   "outputs": [
    {
     "name": "stdout",
     "output_type": "stream",
     "text": [
      "rho1: 57.00904806016102 kilogram / meter ** 3\n",
      "rho2: 29.88707315407117 kilogram / meter ** 3\n",
      "r_rho: 0.5242513981733509 dimensionless\n"
     ]
    }
   ],
   "source": [
    "rho1 = cp.PropsSI('D','T', T.magnitude, 'P', P1.magnitude, fluid) * u.kg/(u.m)**3\n",
    "rho2 = cp.PropsSI('D', 'T',T.magnitude, 'P', P2.magnitude, fluid) * u.kg/(u.m)**3\n",
    "print(f\"rho1: {rho1}\")\n",
    "print(f\"rho2: {rho2}\")\n",
    "print(f\"r_rho: {rho2/rho1}\")"
   ]
  },
  {
   "cell_type": "markdown",
   "metadata": {},
   "source": [
    "Este supuesto no es muy válido, pues la densidad del Gas Natural disminuye a alrededor de un 52\\% de su valor inicial para la baja de presión evidenciada, este efecto será más notorio a medida que la tubería se alarge, pues también será mayor la pérdida de carga."
   ]
  },
  {
   "cell_type": "markdown",
   "metadata": {},
   "source": [
    "d. Haga una evaluación (gráfico) del error vs longitud de la tubería."
   ]
  },
  {
   "cell_type": "code",
   "execution_count": 121,
   "metadata": {},
   "outputs": [],
   "source": [
    "# Puntos para graficar \n",
    "l_L = [10, 50, 100, 200, 300, 400, 500]*u.m\n",
    "l_Pi = []\n",
    "l_P2 = []\n",
    "\n",
    "# Tramos\n",
    "n = 30\n",
    "\n",
    "for j in range(len(l_L)):\n",
    "    # Condiciones iniciales\n",
    "    Pi = ((1000+14.7)*u.psi).to(u.Pa)\n",
    "    rhoi = cp.PropsSI('D','T', T.magnitude, 'P',Pi.magnitude, fluid)*u.kg/u.m**3\n",
    "    mui = cp.PropsSI('V','T', T.magnitude, 'P',Pi.magnitude, fluid)*u.Pa*u.s\n",
    "    Rei = (fld.Reynolds(D=D, rho=rhoi, V=V, mu=mui))\n",
    "    fi = fld.friction.friction_factor(Rei, eD=epsilon/D)\n",
    "    \n",
    "    P2 = Pi - (fi*rhoi*V**2*l_L[j])/(2*D)\n",
    "\n",
    "    for i in range(n):\n",
    "        dL = l_L[j]/n\n",
    "        Pi -= (fi*rhoi*V**2*dL)/(2*D)\n",
    "        # Se actualiza la densidad con la nueva presión\n",
    "        rhoi = cp.PropsSI('D','T', T.magnitude, 'P',Pi.magnitude, fluid)*u.kg/u.m**3\n",
    "        mui = cp.PropsSI('V','T', T.magnitude, 'P',Pi.magnitude, fluid)*u.Pa*u.s\n",
    "        Rei = (fld.Reynolds(D=D, rho=rhoi, V=V, mu=mui))\n",
    "        fi = fld.friction.friction_factor(Rei, eD=epsilon/D)\n",
    "\n",
    "    l_P2.append(P2.magnitude)\n",
    "    l_Pi.append(Pi.magnitude)\n",
    "l_P2 *= u.Pa\n",
    "l_Pi *= u.Pa\n"
   ]
  },
  {
   "cell_type": "code",
   "execution_count": 122,
   "metadata": {},
   "outputs": [
    {
     "name": "stderr",
     "output_type": "stream",
     "text": [
      "c:\\Users\\iangr\\AppData\\Local\\Programs\\Python\\Python312\\Lib\\site-packages\\matplotlib\\cbook.py:1398: UnitStrippedWarning: The unit of the quantity is stripped when downcasting to ndarray.\n",
      "  return np.asarray(x, float)\n"
     ]
    },
    {
     "data": {
      "image/png": "[encoded data removed]",
      "text/plain": [
       "<Figure size 640x480 with 1 Axes>"
      ]
     },
     "metadata": {},
     "output_type": "display_data"
    }
   ],
   "source": [
    "plt.plot(l_L, (l_Pi).to(u.MPa), label='Presión diferencial')\n",
    "plt.plot(l_L, (l_P2).to(u.MPa), label='Presión incompresible')\n",
    "plt.title('Presión final en función del largo')\n",
    "plt.xlabel('Largo (m)')\n",
    "plt.ylabel('Presión (MPa)')\n",
    "plt.legend()\n",
    "plt.show()"
   ]
  },
  {
   "cell_type": "code",
   "execution_count": 123,
   "metadata": {},
   "outputs": [
    {
     "name": "stdout",
     "output_type": "stream",
     "text": [
      "[0.011682527527035441, 0.30205967385447385, 1.2605407190424263, 5.4947170830695615, 13.497404656336407, 26.25056577911884, 44.97130558916112]\n"
     ]
    }
   ],
   "source": [
    "l_err = []\n",
    "for i in range(len(l_Pi)):\n",
    "    l_err.append(100*(l_Pi[i].magnitude-l_P2[i].magnitude)/l_Pi[i].magnitude)\n",
    "print(l_err)"
   ]
  },
  {
   "cell_type": "code",
   "execution_count": 124,
   "metadata": {},
   "outputs": [
    {
     "data": {
      "image/png": "[encoded data removed]",
      "text/plain": [
       "<Figure size 640x480 with 1 Axes>"
      ]
     },
     "metadata": {},
     "output_type": "display_data"
    }
   ],
   "source": [
    "plt.plot(l_L, l_err)\n",
    "plt.title('Error en función del largo')\n",
    "plt.xlabel('Largo (m)')\n",
    "plt.ylabel('Error (%)')\n",
    "plt.show()"
   ]
  },
  {
   "cell_type": "markdown",
   "metadata": {},
   "source": [
    "e. ¿Cuánto influencia la temperatura en la pérdida de carga? Grafique.\n",
    "\n",
    "Realizando el mismo procedicimiento que antes, pero esta vez variando la temperatura, se obtiene:"
   ]
  },
  {
   "cell_type": "code",
   "execution_count": 125,
   "metadata": {},
   "outputs": [],
   "source": [
    "# Puntos para graficar \n",
    "l_T = ([-10, 0, 10, 20, 30, 40, 50]*u.celsius).to(u.K)\n",
    "l_Pi = []\n",
    "l_P2 = []\n",
    "\n",
    "# Tramos\n",
    "n = 30\n",
    "dL = L/n\n",
    "\n",
    "for j in range(len(l_T)):\n",
    "    # Condiciones iniciales\n",
    "    Pi = ((1000+14.7)*u.psi).to(u.Pa)\n",
    "    rhoi = cp.PropsSI('D','T', l_T[j].magnitude, 'P',Pi.magnitude, fluid)*u.kg/u.m**3\n",
    "    mui = cp.PropsSI('V','T', l_T[j].magnitude, 'P',Pi.magnitude, fluid)*u.Pa*u.s\n",
    "    Rei = (fld.Reynolds(D=D, rho=rhoi, V=V, mu=mui))\n",
    "    fi = fld.friction.friction_factor(Rei, eD=epsilon/D)\n",
    "    \n",
    "    P2 = Pi - (fi*rhoi*V**2*L)/(2*D)\n",
    "\n",
    "    for i in range(n):\n",
    "        Pi -= (fi*rhoi*V**2*dL)/(2*D)\n",
    "        # Se actualiza la densidad con la nueva presión\n",
    "        rhoi = cp.PropsSI('D','T', l_T[j].magnitude, 'P',Pi.magnitude, fluid)*u.kg/u.m**3\n",
    "        mui = cp.PropsSI('V','T', l_T[j].magnitude, 'P',Pi.magnitude, fluid)*u.Pa*u.s\n",
    "        Rei = (fld.Reynolds(D=D, rho=rhoi, V=V, mu=mui))\n",
    "        fi = fld.friction.friction_factor(Rei, eD=epsilon/D)\n",
    "\n",
    "    l_P2.append(P2.magnitude)\n",
    "    l_Pi.append(Pi.magnitude)\n",
    "l_P2 *= u.Pa\n",
    "l_Pi *= u.Pa"
   ]
  },
  {
   "cell_type": "code",
   "execution_count": 126,
   "metadata": {},
   "outputs": [
    {
     "data": {
      "image/png": "[encoded data removed]",
      "text/plain": [
       "<Figure size 640x480 with 1 Axes>"
      ]
     },
     "metadata": {},
     "output_type": "display_data"
    }
   ],
   "source": [
    "plt.plot((l_T).to(u.celsius), (l_Pi).to(u.MPa), label='Presión diferencial')\n",
    "plt.plot((l_T).to(u.celsius), (l_P2).to(u.MPa), label='Presión incompresible')\n",
    "plt.title('Presión final en función de la temperatura')\n",
    "plt.xlabel('Temperatura (°C)')\n",
    "plt.ylabel('Presión (MPa)')\n",
    "plt.legend()\n",
    "plt.show()"
   ]
  },
  {
   "cell_type": "markdown",
   "metadata": {},
   "source": [
    "## Problema 3\n",
    "Se utiliza una tubería horizontal para transportar etanol (alcohol etílico) a 20 ◦C a lo largo de una\n",
    "distancia de 3 km. La tubería está hecha de acero comercial. El caudal requerido de etanol es de 40\n",
    "L/s. La bomba conectada a esta tubería puede superar una caída de presión de hasta 200 kPa en la\n",
    "tubería."
   ]
  },
  {
   "cell_type": "markdown",
   "metadata": {},
   "source": [
    "a. Especifique el tamaño apropiado (diámetro nominal) de una tubería de tipo Schedule 40 para esta tubería.\n",
    "Se toma el valor de epsilon de PipeFlow [5]"
   ]
  },
  {
   "cell_type": "code",
   "execution_count": 196,
   "metadata": {},
   "outputs": [],
   "source": [
    "# Datos\n",
    "T = (20 * u.celsius).to(u.K)\n",
    "L = 3E3 * u.m\n",
    "dVol = 40 * u.L*u.s**(-1)\n",
    "DP_max = 200E3 * u.Pa\n",
    "\n",
    "fluid = \"Ethanol\"\n",
    "epsilon = (0.045*u.mm).to(u.m)"
   ]
  },
  {
   "cell_type": "code",
   "execution_count": 197,
   "metadata": {},
   "outputs": [],
   "source": [
    "# Propiedades\n",
    "rho = cp.PropsSI('D','Q', 0, 'P', DP_max.magnitude, fluid)*u.kg/u.m**3\n",
    "mu = cp.PropsSI('V','Q', 0, 'P', DP_max.magnitude, fluid)*u.Pa*u.s"
   ]
  },
  {
   "cell_type": "markdown",
   "metadata": {},
   "source": [
    "Bernoulli:\n",
    "$$\\frac{P_1}{\\gamma} + \\cancel{\\frac{V_1^2}{2g}} + \\cancel{z_1} = \\frac{P_2}{\\gamma} + \\cancel{\\frac{V_2^2}{2g}} + \\cancel{z_2} + f\\frac{L}{D}\\frac{V_2^2}{2g}$$\n",
    "Se obtiene un sistema de dos ecuaciones.\n",
    "$$200kPa \\geq \\Delta P = f\\frac{L}{D}\\frac{\\rho V^2}{2} = f\\frac{8\\rho L}{D^5\\pi^2}\\dot{\\forall}^2$$\n",
    "$$40Ls^{-1} = \\dot{\\forall} = VA = V\\frac{\\pi D^2}{4}$$\n",
    "Se quiere resolver para D, por lo tanto:\n",
    "$$200kPa \\geq \\Delta P = f\\frac{8\\rho L}{D^5\\pi^2}\\dot{\\forall}^2$$\n",
    "$$V = \\frac{160Ls^{-1}}{\\pi D^2}$$\n",
    "Como existe diámetros fijos para las tuberías schedule 40, se crea una lista con valores extraídos de Wesco [6]. Además, por propósitos de simplicidad, se redondean los valores obtenidos, tratando de mantener por lo menos tres figuras significativas."
   ]
  },
  {
   "cell_type": "code",
   "execution_count": 198,
   "metadata": {},
   "outputs": [
    {
     "name": "stdout",
     "output_type": "stream",
     "text": [
      "Re = [33909193, 16954596, 11303064, 8477298, 5651532, 4238649, 3390919, 2825766, 2119324, 1695459, 1412883, 1211042, 1059662, 706441, 529831, 423864]\n",
      "f = [0.0428, 0.0339, 0.0299, 0.0274, 0.0245, 0.0227, 0.0215, 0.0206, 0.0192, 0.0183, 0.0177, 0.0172, 0.0168, 0.0159, 0.0156, 0.0155]\n"
     ]
    }
   ],
   "source": [
    "l_D = ([1/8, 1/4, 3/8, 1/2, 3/4, 1, 1.25, 1.5, 2, 2.5, 3, 3.5, 4, 6, 8, 10]*u.inch).to(u.m)\n",
    "\n",
    "V = (4*dVol/(np.pi*l_D**2)).to(u.m/u.s)\n",
    "\n",
    "l_Re = []\n",
    "l_f = []\n",
    "for i in range(len(l_D)):\n",
    "    Re = (fld.Reynolds(D=l_D[i], rho=rho, V=V[i], mu=mu)).to('dimensionless')\n",
    "    l_Re.append(int(Re.magnitude))\n",
    "    f = fld.friction.friction_factor(Re=l_Re[i], eD=epsilon/l_D[i])\n",
    "    l_f.append(f.magnitude.round(4))\n",
    "print(f\"Re = {l_Re}\")\n",
    "print(f\"f = {l_f}\")"
   ]
  },
  {
   "cell_type": "code",
   "execution_count": 199,
   "metadata": {},
   "outputs": [
    {
     "name": "stdout",
     "output_type": "stream",
     "text": [
      "DP = [370366958406874   9167231228090   1064764052956    231546953954     27264547760      5994657681      1860488225       716389902       158449101        49486823        19235590         8648220         4332592          539982          125722           40932] pascal\n"
     ]
    }
   ],
   "source": [
    "l_DP = []\n",
    "l_DP2 = []\n",
    "for i in range(len(l_D)):\n",
    "    DP = l_f[i]*rho*V[i]**2*L/(2*l_D[i])\n",
    "    l_DP.append(int(DP.magnitude))\n",
    "l_DP *= u.Pa\n",
    "print(f\"DP = {l_DP}\")"
   ]
  },
  {
   "cell_type": "code",
   "execution_count": 200,
   "metadata": {},
   "outputs": [
    {
     "name": "stdout",
     "output_type": "stream",
     "text": [
      "La menor cañería que cumple las especificaciones del problema es:\n",
      "D = 8.0 inch\n",
      "Con una caida de presión de 125722 pascal\n"
     ]
    }
   ],
   "source": [
    "for i in range(len(l_DP)):\n",
    "    if l_DP[i].magnitude < DP_max.magnitude:\n",
    "        print(f\"La menor cañería que cumple las especificaciones del problema es:\")\n",
    "        print(f\"D = {l_D[i].to(u.inch)}\")\n",
    "        print(f\"Con una caida de presión de {l_DP[i]}\")\n",
    "        break"
   ]
  },
  {
   "cell_type": "markdown",
   "metadata": {},
   "source": [
    "b. Grafique el caudal máximo que sería entregado por diferentes diametros del schedule\n",
    "indicado.\n",
    "\n",
    "Esta vez, se asume que la presión queda fija en $200kPa$ y así obtener el valor máximo:\n",
    "$$200kPa = f\\frac{L}{D}\\frac{\\rho V^2}{2}$$\n",
    "$$40Ls^{-1} = \\dot{\\forall} = VA = V\\frac{\\pi D^2}{4}$$\n",
    "Reordenando:\n",
    "$$V = \\sqrt{\\frac{2D\\times 200kPa}{fL\\rho}}$$\n",
    "$$\\dot{\\forall} = V\\frac{\\pi D^2}{4}$$\n"
   ]
  },
  {
   "cell_type": "code",
   "execution_count": 202,
   "metadata": {},
   "outputs": [
    {
     "name": "stdout",
     "output_type": "stream",
     "text": [
      "dVol = [0.0009295202846101689, 0.005908209630868708, 0.017335976069656388, 0.0371753831324785, 0.10833675921357823, 0.23104298936000328, 0.4147262513585722, 0.6683443194043839, 1.4211178631425039, 2.5429053790596297, 4.078704361282939, 6.082913084188681, 8.59411302762649, 24.343627136922926, 50.45083888283681, 88.417834595838]\n"
     ]
    }
   ],
   "source": [
    "l_dVol = []\n",
    "for i in range(len(l_D)):\n",
    "    V = np.sqrt(2*l_D[i]*DP_max/(l_f[i]*rho*L))\n",
    "    dVol = (V*np.pi*l_D[i]**2/4).to(u.L/u.s)\n",
    "    l_dVol.append(dVol.magnitude)\n",
    "print(f\"dVol = {l_dVol}\")"
   ]
  },
  {
   "cell_type": "code",
   "execution_count": 203,
   "metadata": {},
   "outputs": [
    {
     "name": "stderr",
     "output_type": "stream",
     "text": [
      "c:\\Users\\iangr\\AppData\\Local\\Programs\\Python\\Python312\\Lib\\site-packages\\matplotlib\\cbook.py:1398: UnitStrippedWarning: The unit of the quantity is stripped when downcasting to ndarray.\n",
      "  return np.asarray(x, float)\n"
     ]
    },
    {
     "data": {
      "image/png": "[encoded data removed]",
      "text/plain": [
       "<Figure size 640x480 with 1 Axes>"
      ]
     },
     "metadata": {},
     "output_type": "display_data"
    }
   ],
   "source": [
    "plt.plot(l_D.to(u.inch), l_dVol, label=\"Caudal Esperado\")\n",
    "plt.plot(l_D.to(u.inch), 40*np.ones(len(l_D)), 'r--', label = \"Caudal Mínimo Requerido\")\n",
    "plt.title(\"Caudal en función del diámetro\")\n",
    "plt.xlabel(\"Diámetro [in]\")\n",
    "plt.ylabel(\"Caudal [L/s]\")\n",
    "plt.grid()\n",
    "plt.legend()\n",
    "plt.show()"
   ]
  },
  {
   "cell_type": "markdown",
   "metadata": {},
   "source": [
    "## Problema 4\n",
    "Considere el plano hidráulico de la localidad de Hualañé."
   ]
  },
  {
   "cell_type": "markdown",
   "metadata": {},
   "source": [
    "a. Establezca un código computacional, que permita estimar la pérdida de carga máxima en el sistema, cuando todas las casas tienen una llave de\n",
    "lavamanos abierta.\n",
    "\n",
    "De acuerdo a la Superintendencia de Servicios Sanitarios, \"el Manual de Proyectos de Agua Potable Rural 2019, dicta que los servicios que fueron construidos y rehabilitados a partir del año 2020 deberán tener una presión mínima de servicio de 15 metros columna de agua (1,5 bar), y una máxima de 70 metros columna de agua (7bar)\". Además, la pérdida de carga en el arranque no debe superar los 5mca al abrir la llave [7].\n",
    "\n",
    "Con respecto al caudal, este presenta una decisión de diseño, \"el caudal recomendado para uso doméstico es entre 10 y 18 litros por minuto\" [8]. Considerando una llave abierta por cada casa, y un total de 20 casas conectadas a la red (+2 desconectadas), el caudal debe ser un mínimo de $200Lmin^{-1}$ o $220Lmin^{-1}$ considerando que las otras dos casas se puedan conectar a la red.\n",
    "\n",
    "Con respecto al diámetro de las tuberías, \"las velocidades del agua en las tuberías no deben exceder de 2,5 m/s en las tuberías exteriores y de distribución principal\" [9]. Es decir, se deben escoger considerando el siguiente criterio:\n",
    "$$V = \\frac{\\dot{\\forall}}{\\pi \\frac{D^2}{4}}$$\n",
    "$$D_{min} = \\sqrt{\\frac{4\\dot{\\forall}}{\\pi V}}$$\n",
    "Con:\n",
    "$$V = 2.5ms^{-1}$$\n",
    "\n",
    "Como en este caso, todas las casas se encuentran paralelas en el circuito, la presión sin considerar pérdidas de carga deberá ser para todas las casas igual."
   ]
  },
  {
   "cell_type": "code",
   "execution_count": 224,
   "metadata": {},
   "outputs": [
    {
     "name": "stdout",
     "output_type": "stream",
     "text": [
      "Diámetro mínimo principal requerido = 1.7013240982752162 inch\n",
      "Diámetro mínimo bifurcación requerido = 0.7254470330106781 inch\n"
     ]
    }
   ],
   "source": [
    "dVol_p = (220*u.L/u.min).to(u.L/u.s) # Caudal de agua en tuberia principal\n",
    "dVol_s = (40*u.L/u.min).to(u.L/u.s) # Caudal de agua máximo en tuberia secundaria\n",
    "Dmin_p = np.sqrt(4*dVol_p/(np.pi*2.5*u.m/u.s)) # Diámetro mínimo principal\n",
    "Dmin_s = np.sqrt(4*dVol_s/(np.pi*2.5*u.m/u.s)) # Diámetro mínimo secundario\n",
    "print(f\"Diámetro mínimo principal requerido = {Dmin_p.to(u.inch)}\")\n",
    "print(f\"Diámetro mínimo bifurcación requerido = {Dmin_s.to(u.inch)}\")"
   ]
  },
  {
   "cell_type": "markdown",
   "metadata": {},
   "source": [
    "Es decir, se requiere una tubería central de por lo menos $1\\frac{3}{4}\"$. Por otro lado, la bifurcación más grande del sistema alimenta a cuatro casas, por lo que una tubería de $1\"$ sería suficiente para el resto de la red.\n",
    "\n",
    "Luego, se establece el largo de las tuberías de la red hasta la última casa, se toman las medidas del plano, y se consideran las alturas (en algunos casos de forma aproximada). Dependiendo de la uniformidad de la pendiente, se pueden separar en tramos menores:\n",
    "$$L = \\sum_i\\sqrt{x_i^2+y_i^2+z_i^2}$$ "
   ]
  },
  {
   "cell_type": "code",
   "execution_count": 372,
   "metadata": {},
   "outputs": [
    {
     "name": "stdout",
     "output_type": "stream",
     "text": [
      "V_p = 2.3628601529567175 meter / second\n",
      "V_s = 1.3156834942599904 meter / second\n"
     ]
    }
   ],
   "source": [
    "T = (20*u.celsius).to(u.K) # Temperatura del suelo\n",
    "P = (1.51*u.MPa).to(u.Pa) # Considerando la mínima presión requerida por norma\n",
    "\n",
    "D_p = (1.75*u.inch).to(u.m) # Diámetro del tubo central\n",
    "D_s = (1*u.inch).to(u.m) # Diámetro de los tubos individuales\n",
    "V_p = dVol_p/(np.pi*D_p**2/4) # Velocidad en el tubo central\n",
    "V_s = dVol_s/(np.pi*D_s**2/4) # Velocidad en los tubos individuales\n",
    "\n",
    "epsilon = (0.0015*u.mm).to(u.m) # Rugosidad del tubo [10]\n",
    "\n",
    "fluid = \"water\"\n",
    "\n",
    "print(f\"V_p = {V_p.to(u.m/u.s)}\")\n",
    "print(f\"V_s = {V_s.to(u.m/u.s)}\")\n"
   ]
  },
  {
   "cell_type": "markdown",
   "metadata": {},
   "source": [
    "Se asume que, para el rango de operación, el agua es incompresible, y mantiene su viscocidad constante."
   ]
  },
  {
   "cell_type": "code",
   "execution_count": 373,
   "metadata": {},
   "outputs": [
    {
     "name": "stdout",
     "output_type": "stream",
     "text": [
      "f_p = 0.018001309657908367 dimensionless\n",
      "f_s = 0.023080341676288495 dimensionless\n"
     ]
    }
   ],
   "source": [
    "rho = cp.PropsSI('D','T', T.magnitude, 'P', P.magnitude, fluid)*u.kg/u.m**3\n",
    "mu = cp.PropsSI('V','T', T.magnitude, 'P', P.magnitude, fluid)*u.Pa*u.s\n",
    "\n",
    "Re_p = (fld.Reynolds(D=D_p, rho=rho, V=V_p, mu=mu))\n",
    "f_p = fld.friction.friction_factor(Re_p, eD=epsilon/D_p)\n",
    "\n",
    "Re_s = (fld.Reynolds(D=D_s, rho=rho, V=V_s, mu=mu))\n",
    "f_s = fld.friction.friction_factor(Re_s, eD=epsilon/D_s)\n",
    "\n",
    "print(f\"f_p = {f_p}\")\n",
    "print(f\"f_s = {f_s}\")\n"
   ]
  },
  {
   "cell_type": "markdown",
   "metadata": {},
   "source": [
    "Bernoulli:\n",
    "$$\\frac{P_1}{\\gamma} + z_1 = \\frac{P_2}{\\gamma} + z_2 + f\\frac{L}{D}\\frac{V_2^2}{2g}$$"
   ]
  },
  {
   "cell_type": "code",
   "execution_count": 397,
   "metadata": {},
   "outputs": [],
   "source": [
    "# Largo de la tubería principal por tramos\n",
    "Lp1 = 48.55\n",
    "Lp2 = np.sqrt(4.79**2 + 1.03**2) + np.sqrt(120**2+ (108.17-101.03)**2) + np.sqrt(20**2 + (144.79-124.79)**2) + 4\n",
    "Lp3 = 16 + np.sqrt(216**2 + 120.748**2-111.198**2)\n",
    "Lp4 = np.sqrt(40**2 + (404.79-364.79)**2)\n",
    "Lp5 = 14.28\n",
    "LpT = [Lp1, Lp2, Lp3, Lp4, Lp5]*u.m\n",
    "\n",
    "# Largo de tuberías secundarias por tramos\n",
    "Ls1 = 193.36\n",
    "Ls23 = 14.53 + np.sqrt(8**2 + 5**2) +88.35 + 153.65\n",
    "Ls4 = 12\n",
    "Ls5 = 1.84\n",
    "Ls6789 = 17.27 + np.sqrt(62**2 + (300-230)**2) + 23 + 29.37 + 110.27 + 14.08\n",
    "Ls10 = 41.89\n",
    "Ls11 = 14.31\n",
    "Ls1213 = 14.09 + np.sqrt(12**2 + 8**2) + 15 + 2\n",
    "Ls14 = 5.85\n",
    "Ls15 = 5.89\n",
    "Ls16 = 50.73 + np.sqrt(22.32**2 + 20**2)\n",
    "Ls17181920 = np.sqrt(9**2 + 9**2) + 2 + 2 + 2 + 17\n",
    "LsT = [Ls1, Ls23, Ls4, Ls5, Ls6789, Ls10, Ls11, Ls1213, Ls14, Ls15, Ls16, Ls17181920]*u.m\n"
   ]
  },
  {
   "cell_type": "markdown",
   "metadata": {},
   "source": [
    "Se considera la perdida de presión asociada a cada tramo, tal que:\n",
    "$$\\Delta P = \\sum_i \\Delta P_i$$"
   ]
  },
  {
   "cell_type": "code",
   "execution_count": 377,
   "metadata": {},
   "outputs": [
    {
     "name": "stdout",
     "output_type": "stream",
     "text": [
      "DP = 1358409.0887874314 pascal\n",
      "Pf = 151590.91121256864 pascal = 15.45899563660704 mca\n"
     ]
    }
   ],
   "source": [
    "DP = 0\n",
    "for i in LpT:\n",
    "    DP_i = f_p*rho*V_p**2*i/(2*D_p)\n",
    "    DP += DP_i\n",
    "for i in LsT:\n",
    "    DP_i = f_s*rho*V_s**2*i/(2*D_s)\n",
    "    DP += DP_i\n",
    "\n",
    "print(f\"DP = {DP.to(u.Pa)}\")\n",
    "print(f\"Pf = {(P-DP).to(u.Pa)} = {(P-DP).magnitude/9806} mca\")"
   ]
  },
  {
   "cell_type": "markdown",
   "metadata": {},
   "source": [
    "Iterando sobre el valor de la presión inicial, se busca un resultado final de $P_f$ tal que la presión operativa del sistema sea mayor a los 15 metros columna de agua requeridos por la norma de la Superintendencia de Servicios Sanitarios. De este modo, es necesario tener una bomba de por lo menos $1.51MPa$ para suministrar la presión suficiente. Dado que este estudio no considera perdidas por singularidad, ni otros posibles factores, lo recomendable sería buscar una presión más alta de operación. En ese sentido, se espera que una bomba de hasta $2.04MPa$ funcione dentro del marco normativo."
   ]
  },
  {
   "cell_type": "markdown",
   "metadata": {},
   "source": [
    "b. Grafique la pérdida de carga asociada a cada casa si el diámetro de todas las\n",
    "tuberías es de 1 pulgada."
   ]
  },
  {
   "cell_type": "code",
   "execution_count": 398,
   "metadata": {},
   "outputs": [],
   "source": [
    "D_p = (1*u.inch).to(u.m) # Diámetro del tubo central\n",
    "D_s = (1*u.inch).to(u.m) # Diámetro de los tubos individuales\n",
    "\n",
    "V_p = dVol_p/(np.pi*D_p**2/4) # Velocidad en el tubo central\n",
    "V_s = dVol_s/(np.pi*D_s**2/4) # Velocidad en los tubos individuales\n",
    "\n",
    "Re_p = (fld.Reynolds(D=D_p, rho=rho, V=V_p, mu=mu))\n",
    "f_p = fld.friction.friction_factor(Re_p, eD=epsilon/D_p)\n",
    "\n",
    "Re_s = (fld.Reynolds(D=D_s, rho=rho, V=V_s, mu=mu))\n",
    "f_s = fld.friction.friction_factor(Re_s, eD=epsilon/D_s)"
   ]
  },
  {
   "cell_type": "code",
   "execution_count": 399,
   "metadata": {},
   "outputs": [],
   "source": [
    "# Largo de camino recorrido a cada casa\n",
    "C1 = Lp1 + Lp2 + 193.36\n",
    "C2 = Lp1 + Lp2 + 0.13*Lp3 + 14.53 + np.sqrt(3**2 + 2**2) + 88.35\n",
    "C3 = Lp1 + Lp2 + 0.13*Lp3 + 14.53 + np.sqrt(5**2 + 3**2) + 153.65\n",
    "C4 = Lp1 + Lp2 + 0.15*Lp3 + 12\n",
    "C5 = Lp1 + Lp2 + 0.27*Lp3 + 1.84\n",
    "C6 = Lp1 + Lp2 + 0.48*Lp3 + 17.27 + np.sqrt(25**2 + 28**2) + 23\n",
    "C7 = Lp1 + Lp2 + 0.48*Lp3 + 17.27 + 1 + 29.37\n",
    "C8 = Lp1 + Lp2 + 0.48*Lp3 + 17.27 + np.sqrt(30**2 + 35**2) + 110.27\n",
    "C9 = Lp1 + Lp2 + 0.48*Lp3 + 17.27 + np.sqrt(37**2 + 42**2) + 14.08\n",
    "C10 = Lp1 + Lp2 + 0.59*Lp3 + 41.89\n",
    "C11 = Lp1 + Lp2 + 0.9*Lp3 + 14.31\n",
    "C12 = Lp1 + Lp2 + 0.91*Lp3 + 14.09 + np.sqrt(5**2 + 3**2) + 15\n",
    "C13 = Lp1 + Lp2 + 0.91*Lp3 + 14.09 + np.sqrt(7**2 + 4**2) + 2\n",
    "C14 = Lp1 + Lp2 + Lp3 + 5.85\n",
    "C15 = Lp1 + Lp2 + Lp3 + 0.42*Lp4 + 5.89\n",
    "C16 = Lp1 + Lp2 + Lp3 + Lp4 + Lp5 + 50.73 + np.sqrt(22.32**2 + 20**2)\n",
    "C17 = Lp1 + Lp2 + Lp3 + Lp4 + Lp5 + np.sqrt(4.5**2 + 4.5**2) + 2\n",
    "C18 = Lp1 + Lp2 + Lp3 + Lp4 + Lp5 + np.sqrt(2.3**2 + 2.3**2) + 2\n",
    "C19 = Lp1 + Lp2 + Lp3 + Lp4 + Lp5 + np.sqrt(2.3**2 + 2.3**2) + 2\n",
    "C20 = Lp1 + Lp2 + Lp3 + Lp4 + Lp5 + np.sqrt(4.5**2 + 4.5**2) + 17\n",
    "CT = [C1, C2, C3, C4, C5, C6, C7, C8, C9, C10, C11, C12, C13, C14, C15, C16, C17, C18, C19, C20]*u.m"
   ]
  },
  {
   "cell_type": "code",
   "execution_count": 400,
   "metadata": {},
   "outputs": [],
   "source": [
    "DP_C = []\n",
    "for i in CT:\n",
    "    DP_i = (f_s*rho*V_s**2*i/(2*D_s)).to(u.kPa)\n",
    "    DP_C.append(DP_i.magnitude)\n",
    "\n",
    "x = list(range(1, 21))\n"
   ]
  },
  {
   "cell_type": "code",
   "execution_count": 404,
   "metadata": {},
   "outputs": [
    {
     "data": {
      "image/png": "[encoded data removed]",
      "text/plain": [
       "<Figure size 640x480 with 1 Axes>"
      ]
     },
     "metadata": {},
     "output_type": "display_data"
    }
   ],
   "source": [
    "plt.scatter(x, DP_C)\n",
    "plt.title('Pérdida de carga hasta cada casa')\n",
    "plt.xlabel('Casa')\n",
    "plt.ylabel('Pérdida de carga [kPa]')\n",
    "plt.xticks(np.arange(min(x), max(x)+1, 1))\n",
    "y_min, y_max = min(DP_C), max(DP_C)\n",
    "yticks = np.linspace(y_min, y_max, num=15).round(0)\n",
    "plt.yticks(yticks)\n",
    "plt.grid()\n",
    "plt.show()"
   ]
  },
  {
   "cell_type": "markdown",
   "metadata": {},
   "source": [
    "Cabe recalcar que, de esta forma, existen muchos tramos cuyas pérdidas se cuentan varias veces."
   ]
  },
  {
   "cell_type": "markdown",
   "metadata": {},
   "source": [
    "# Bibliografía\n",
    "\n",
    "[1] https://www.sciencedirect.com/topics/engineering/martinelli-parameter\n",
    "\n",
    "[2] https://woolfplumbing.com.au/blog/the-differences-between-copper-pipes-type-l-and-type-m\n",
    "\n",
    "[3] https://sodimac.falabella.com/sodimac-cl/page/como-elegir-tuberias-y-fittings-de-cobre\n",
    "\n",
    "[4] https://www.enel.cl/es/inversionistas/inversionistas-enel-generacion/nuestras-centrales/gasoducto/informacion-general.html\n",
    "\n",
    "[5] https://www.pipeflow.com/pipe-pressure-drop-calculations/pipe-roughness\n",
    "\n",
    "[6] https://www.wesco.com.co/default.asp?iID=GFLJKE\n",
    "\n",
    "[7] https://www.siss.gob.cl/586/articles-19503_Man_Pre_SSR.pdf\n",
    "\n",
    "[8] https://www.junkers-bosch.es/conocimiento/agua-caliente/caudal-minimo/\n",
    "\n",
    "[9]] https://www.google.com/url?sa=t&source=web&rct=j&opi=89978449&url=https://estudiantes.cftla.cl/parciales/descargar.php%3Fidm%3D66311&ved=2ahUKEwjWtYXRu7GIAxWcCrkGHTjxGw0QFnoECBYQAQ&usg=AOvVaw2tcraPkc8wn1s3hNnku404\n",
    "\n",
    "[10] http://catarina.udlap.mx/u_dl_a/tales/documentos/mgc/osorio_e_fj/capitulo3.pdf"
   ]
  },
  {
   "cell_type": "markdown",
   "metadata": {},
   "source": []
  }
 ],
 "metadata": {
  "kernelspec": {
   "display_name": "Python 3.9.12 ('Thermodynamics')",
   "language": "python",
   "name": "python3"
  },
  "language_info": {
   "codemirror_mode": {
    "name": "ipython",
    "version": 3
   },
   "file_extension": ".py",
   "mimetype": "text/x-python",
   "name": "python",
   "nbconvert_exporter": "python",
   "pygments_lexer": "ipython3",
   "version": "3.12.0"
  },
  "orig_nbformat": 4,
  "vscode": {
   "interpreter": {
    "hash": "e3e00a7bd6eae02d2ccac1eb55407bbbd95142f269ed3bd1034733c2cfa4f866"
   }
  }
 },
 "nbformat": 4,
 "nbformat_minor": 2
}
