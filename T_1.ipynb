{
 "cells": [
  {
   "cell_type": "markdown",
   "metadata": {},
   "source": [
    "# Tarea 1: Piping\n",
    "### Pablo Correa e Ian Gross"
   ]
  },
  {
   "cell_type": "markdown",
   "metadata": {},
   "source": [
    "## Librerías"
   ]
  },
  {
   "cell_type": "code",
   "execution_count": 15,
   "metadata": {},
   "outputs": [],
   "source": [
    "import CoolProp.CoolProp as cp\n",
    "import fluids as fld\n",
    "import numpy as np\n",
    "import scipy.constants as cte\n",
    "\n",
    "from fluids.units import *"
   ]
  },
  {
   "cell_type": "code",
   "execution_count": 16,
   "metadata": {},
   "outputs": [],
   "source": [
    "g = cte.g*u.m/u.s**2"
   ]
  },
  {
   "cell_type": "markdown",
   "metadata": {},
   "source": [
    "## Problema 1\n",
    "En un sistema de refrigeración, el refrigerante R134a fluye a través de un tubo de cobre estándar tipo\n",
    "L de 3/4 de pulgada. En este sistema, se utiliza un desuperheter para calentar agua, como se muestra en\n",
    "la Figura P4.3. El R134a ingresa al desuperheter a 200 psia y 225 ºF. El desuperheter extrae suficiente\n",
    "energía, $Q_{DSH}$, de manera que el R134a ingresa al condensador como un vapor saturado a una presión\n",
    "levemente inferior. En el condensador, se transfiere energía desde el refrigerante a una tasa de 60000\n",
    "Btu/h. Esto hace que el R134a salga del condensador como un líquido saturado con una caída de presión\n",
    "despreciable."
   ]
  },
  {
   "cell_type": "markdown",
   "metadata": {},
   "source": [
    "a. Determine la pérdida de carga en el desuperheater."
   ]
  },
  {
   "cell_type": "code",
   "execution_count": 21,
   "metadata": {},
   "outputs": [
    {
     "name": "stdout",
     "output_type": "stream",
     "text": [
      "1378951.4586336727 pascal\n"
     ]
    }
   ],
   "source": [
    "# Datos\n",
    "D = (0.75*u.inch).to(u.m)\n",
    "P1 = (200*u.psi).to(u.Pa) # psia = psi\n",
    "T1 = (225*u.fahrenheit).to(u.K)\n",
    "Q_c = (6E4*u.Btu*u.hr**(-1)).to(u.W)\n",
    "print(P1)"
   ]
  },
  {
   "cell_type": "markdown",
   "metadata": {},
   "source": [
    "Realizando experimentos numéricos, se determina que el cambio de las propiedades es estable ante pequeños cambios de presión como los que se esperan entre $P_1$ y $P_2$, por lo tanto, se aproximan los datos en $P_2$ usando el valor de $P_1$."
   ]
  },
  {
   "cell_type": "code",
   "execution_count": 24,
   "metadata": {},
   "outputs": [],
   "source": [
    "# Propiedades\n",
    "fluid = 'R134a'\n",
    "\n",
    "epsilon = fld.material_roughness('Copper')*u.mm\n",
    "\n",
    "rho = cp.PropsSI('D','Q', 0, 'P', P1.magnitude, fluid)*u.kg/u.m**3\n",
    "mu = cp.PropsSI('V','Q', 0, 'P', P1.magnitude, fluid)*u.Pa*u.s\n",
    "\n",
    "h1 = cp.PropsSI('H','T', T1.magnitude, 'P', P1.magnitude, fluid)*u.J/u.kg # Entrada con datos de presión y temperatura\n",
    "h2 = cp.PropsSI('H','P', P1.magnitude, 'Q', 1, fluid)*u.J/u.kg # Salida del desuperheater (vapor saturado)\n",
    "h3 = cp.PropsSI('H','P', P1.magnitude, 'Q', 0, fluid)*u.J/u.kg # Salida del condensador (líquido saturado)"
   ]
  },
  {
   "cell_type": "markdown",
   "metadata": {},
   "source": []
  },
  {
   "cell_type": "code",
   "execution_count": 19,
   "metadata": {},
   "outputs": [
    {
     "name": "stdout",
     "output_type": "stream",
     "text": [
      "dV = 0.10743772528546108 liter / second\n",
      "V = 0.37694411151712093 meter / second\n",
      "Re = 56755.814074374866 dimensionless\n",
      "f = 0.020908030442010013 dimensionless\n"
     ]
    }
   ],
   "source": [
    "# Caudal\n",
    "dm = Q_c/(h2-h3)\n",
    "dVol = dm/rho\n",
    "V = dVol/(np.pi*D**2/4)\n",
    "print(f\"dV = {dVol.to(u.L/u.s)}\")\n",
    "print(f\"V = {V.to(u.m/u.s)}\")\n",
    "\n",
    "# Factor de fricción\n",
    "Re = (fld.Reynolds(D=D, rho=rho, V=V, mu=mu)).to('dimensionless')\n",
    "f = fld.friction.friction_factor(Re=Re, eD=epsilon/D)\n",
    "print(f\"Re = {Re}\")\n",
    "print(f\"f = {f}\")"
   ]
  },
  {
   "cell_type": "code",
   "execution_count": 20,
   "metadata": {},
   "outputs": [
    {
     "ename": "NameError",
     "evalue": "name 'L' is not defined",
     "output_type": "error",
     "traceback": [
      "\u001b[1;31m---------------------------------------------------------------------------\u001b[0m",
      "\u001b[1;31mNameError\u001b[0m                                 Traceback (most recent call last)",
      "Cell \u001b[1;32mIn[20], line 3\u001b[0m\n\u001b[0;32m      1\u001b[0m \u001b[38;5;66;03m# Pérdida de carga y largo de la tubería\u001b[39;00m\n\u001b[1;32m----> 3\u001b[0m DP \u001b[38;5;241m=\u001b[39m f\u001b[38;5;241m*\u001b[39mrho\u001b[38;5;241m*\u001b[39mV\u001b[38;5;241m*\u001b[39m\u001b[38;5;241m*\u001b[39m\u001b[38;5;241m2\u001b[39m\u001b[38;5;241m/\u001b[39m(\u001b[38;5;241m2\u001b[39m\u001b[38;5;241m*\u001b[39mD)\u001b[38;5;241m*\u001b[39m\u001b[43mL\u001b[49m\n\u001b[0;32m      4\u001b[0m \u001b[38;5;28mprint\u001b[39m(DP\u001b[38;5;241m.\u001b[39mto(u\u001b[38;5;241m.\u001b[39mkPa))\n",
      "\u001b[1;31mNameError\u001b[0m: name 'L' is not defined"
     ]
    }
   ],
   "source": [
    "# Pérdida de carga y largo de la tubería\n",
    "\n",
    "DP = f*rho*V**2/(2*D)*L\n",
    "print(DP.to(u.kPa))"
   ]
  },
  {
   "cell_type": "markdown",
   "metadata": {},
   "source": [
    "b. Determine la velocidad (m/s) del R134a al ingresar al condensador."
   ]
  },
  {
   "cell_type": "markdown",
   "metadata": {},
   "source": [
    "Considerando la variaciones de estado entre la entrada al desuperheater (1) y su salida (2), se sabe que el flujo másico es constante en el desuperheater por lo tanto se cumple que:\n",
    "$$\\dot{m} = \\rho_1Av_1 = \\rho_2Av_2$$\n",
    "$$v_1 = \\frac{\\rho_2}{\\rho_1}v_2$$\n",
    "\n",
    "Despreciando el efecto de la conexión entre el desuperheater y el condensador, entonces se puede considerar que la velocidad en la salida del desuperheater es igual a la velocidad en la entrada del condensador."
   ]
  },
  {
   "cell_type": "code",
   "execution_count": null,
   "metadata": {},
   "outputs": [
    {
     "name": "stdout",
     "output_type": "stream",
     "text": [
      "1378951.4586336727 pascal 2974392.009027511 pascal\n",
      "1.3737583666704418 dimensionless\n"
     ]
    }
   ],
   "source": [
    "rho1 = cp.PropsSI('D','T', T1.magnitude, 'P',P1.magnitude, fluid) * u.kg/(u.m)**3\n",
    "rho2 = cp.PropsSI('D','P', P1.magnitude, 'Q',1, fluid) * u.kg/(u.m)**3\n",
    "\n",
    "P2 = DP - P1\n",
    "\n",
    "r_rho = rho2/rho1\n",
    "\n",
    "print(P1, P2)\n",
    "print(r_rho)"
   ]
  },
  {
   "cell_type": "markdown",
   "metadata": {},
   "source": [
    "Por Bernoulli y considerando que:\n",
    "$$\\frac{P_1}{\\gamma_1} + \\frac{V_1^2}{2g} + \\cancel{z_1} = \\frac{P_2}{\\gamma_2} + \\frac{V_2^2}{2g} + \\cancel{z_2}$$\n",
    "$$\\frac{P_1}{\\gamma_1} + \\frac{P_2}{\\gamma_2} = \\frac{V_2^2}{2g} - \\frac{V_1^2}{2g}$$\n",
    "$$\\frac{P_1}{\\gamma_1} - \\frac{P_2}{\\gamma_2} = \\frac{V_2^2}{2g}(1 - (\\frac{\\rho_2}{\\rho_1})^2)$$\n",
    "$$V_2^2 = 2\\frac{(\\frac{P_1}{\\rho_1} - \\frac{P_2}{\\rho_2})}{1 - (\\frac{\\rho_2}{\\rho_1})^2}$$"
   ]
  },
  {
   "cell_type": "code",
   "execution_count": null,
   "metadata": {},
   "outputs": [
    {
     "name": "stdout",
     "output_type": "stream",
     "text": [
      "186.92146764339813 meter / second\n"
     ]
    }
   ],
   "source": [
    "v2 = np.sqrt(2*(P1/rho1 - P2/rho2)/(1-(rho2/rho1)**2))\n",
    "print(v2.to(u.m/u.s))"
   ]
  },
  {
   "cell_type": "markdown",
   "metadata": {},
   "source": [
    "c. Determine la velocidad (m/s) del R134a al salir del condensador."
   ]
  },
  {
   "cell_type": "markdown",
   "metadata": {},
   "source": [
    "Considerando las condiciones de estado del fluido en la entrada del condensador (2) y en la salida (3), se sabe que no hay variación de altura y la caida de presión de es despreciable. Por Bernoulli:\n",
    "$$\\frac{P_2}{\\gamma_2} + \\frac{V_2^2}{2g} + \\cancel{z_2} = \\frac{P_3}{\\gamma_3} + \\frac{V_3^2}{2g} + \\cancel{z_3}$$\n",
    "$$P2 = P3 = P$$\n",
    "$$\\frac{P}{\\gamma_2} + \\frac{V_2^2}{2g} = \\frac{P}{\\gamma_3} + \\frac{V_3^2}{2g}$$\n",
    "$$\\frac{V_3^2}{2g} = \\frac{V_2^2}{2g} + P(\\frac{1}{\\gamma_2} - \\frac{1}{\\gamma_3})$$\n",
    "$$V_3^2 = V_2^2 + 2P(\\frac{1}{\\rho_2} - \\frac{1}{\\rho_3})$$"
   ]
  },
  {
   "cell_type": "code",
   "execution_count": null,
   "metadata": {},
   "outputs": [],
   "source": []
  },
  {
   "cell_type": "markdown",
   "metadata": {},
   "source": [
    "d. Investigue sobre correlaciones de pérdida de carga en tuberías con flujo bigfásico. Proponga\n",
    "una expresión para estimar la pérdida de carga en el condensador. ¿qué información sería necesaria?"
   ]
  },
  {
   "cell_type": "markdown",
   "metadata": {},
   "source": [
    "e. Cuál es la diferencia entre una tubería tipo L y una tipo M\n",
    "\n",
    "Las tuberías tipo L tienen un espesor proporcional mayor al de la tuberías tipo M. Esto les permite soportar mayores presiones y, por lo tanto, se utilizan en aplicaciones industriales o de transporte de gas licuado o gas natural. A motivo del mayor requerimiento de material, las tuberías L tienen un costo más elevado. Además, el mayor espesor de la tubería L le da una durabilidad notablemente mayor frente al mismo uso. [1,2]"
   ]
  },
  {
   "cell_type": "markdown",
   "metadata": {},
   "source": [
    "## Problema 2\n",
    "Gas Natural fluye con una velocidad promedio de 100 ft/s por una tubería de cobre de 300 m y $1\\frac{1}{4}$\n",
    "inch de diámetro. La temperatura del gas es 20 ◦C y la presión inicial es de 1 psig."
   ]
  },
  {
   "cell_type": "markdown",
   "metadata": {},
   "source": [
    "a. Asumiendo que el flujo es incompresible, determine la variación de la presión (pérdida de\n",
    "carga) en la tubería."
   ]
  },
  {
   "cell_type": "markdown",
   "metadata": {},
   "source": [
    "Bernoulli:\n",
    "$$\\frac{P_1}{\\gamma} + \\cancel{\\frac{V_1^2}{2g}} + \\cancel{z_1} = \\frac{P_2}{\\gamma} + \\cancel{\\frac{V_2^2}{2g}} + \\cancel{z_2} + f\\frac{L}{D}\\frac{V_2^2}{2g}$$\n",
    "$$\\frac{P_1}{\\gamma} = \\frac{P_2}{\\gamma} + f\\frac{L}{D}\\frac{V^2}{2g}$$\n",
    "$$P_2 = P_1 - f\\frac{L}{D}\\frac{\\rho V^2}{2}$$"
   ]
  },
  {
   "cell_type": "code",
   "execution_count": null,
   "metadata": {},
   "outputs": [],
   "source": [
    "# Datos\n",
    "V = (100*u.ft*u.s**(-1)).to(u.m*u.s**(-1))\n",
    "L = 300 * u.m\n",
    "D = (1.25 * u.inch).to(u.m)\n",
    "T = (20 * u.celsius).to(u.K)\n",
    "P1 = ((1+14.7)*u.psi).to(u.Pa) # Está en psiG"
   ]
  },
  {
   "cell_type": "markdown",
   "metadata": {},
   "source": [
    "Para calcular las propiedades del gas natural, es necesario crear una mezcla. Utilizando los datos de Enel [3], se normalizan los tres componentes más relevantes para obtener:\n",
    "\n",
    "0.931677% Metano, 0.0660455% Etano, 0.00227743% Propano"
   ]
  },
  {
   "cell_type": "code",
   "execution_count": null,
   "metadata": {},
   "outputs": [
    {
     "name": "stdout",
     "output_type": "stream",
     "text": [
      "rho: 0.758210578030446 kilogram / meter ** 3\n",
      "mu: 1.089867026972943e-05 pascal * second\n"
     ]
    }
   ],
   "source": [
    "# Propiedades\n",
    "fluid = \"Methane[0.931677]&Ethane[0.0660455]&Propane[0.00227743]\"\n",
    "rho1 = cp.PropsSI('D','T', T.magnitude, 'P',P1.magnitude, fluid)*u.kg/u.m**3\n",
    "mu = cp.PropsSI('V','T', T.magnitude, 'P',P1.magnitude, fluid)*u.Pa*u.s\n",
    "print(f\"rho: {rho1}\")\n",
    "print(f\"mu: {mu}\")"
   ]
  },
  {
   "cell_type": "code",
   "execution_count": null,
   "metadata": {},
   "outputs": [
    {
     "name": "stdout",
     "output_type": "stream",
     "text": [
      "Re = 67324.79161436268 dimensionless\n",
      "f = 0.019966191877717015 dimensionless\n"
     ]
    }
   ],
   "source": [
    "# Fricción\n",
    "Re = (fld.Reynolds(D=D, rho=rho1, V=V, mu=mu)).to('dimensionless')\n",
    "epsilon = (fld.material_roughness('Copper'))*u.mm\n",
    "f = fld.friction.friction_factor(Re, eD=epsilon/D)\n",
    "print(f\"Re = {Re}\")\n",
    "print(f\"f = {f}\")\n"
   ]
  },
  {
   "cell_type": "code",
   "execution_count": null,
   "metadata": {},
   "outputs": [
    {
     "name": "stdout",
     "output_type": "stream",
     "text": [
      "P2: 41802.65453757784 pascal\n"
     ]
    }
   ],
   "source": [
    "# Bernoulli\n",
    "P2 = P1 - (f*rho1*V**2*L)/(2*D)\n",
    "print(f\"P2: {P2}\")"
   ]
  },
  {
   "cell_type": "markdown",
   "metadata": {},
   "source": [
    "b. Determine el grado de error introducido por el supuesto.\n",
    "\n",
    "$$\\frac{P_1}{g\\rho_1} = \\frac{P_2}{g\\rho_2} + f\\frac{L}{D}\\frac{V^2}{2g}$$\n",
    "Esto está mal"
   ]
  },
  {
   "cell_type": "code",
   "execution_count": null,
   "metadata": {},
   "outputs": [
    {
     "name": "stdout",
     "output_type": "stream",
     "text": [
      "l_izq: 14558.214723155135 meter, l_der: 14578.866462454062 meter\n",
      "diferencia: -20.65173929892626 meter\n"
     ]
    }
   ],
   "source": [
    "rho2 = cp.PropsSI('D','T', T.magnitude, 'P',P2.magnitude, fluid)*u.kg/u.m**3\n",
    "l_izq = (P1/(rho1*g)).to(u.m)\n",
    "l_der = (P2/(rho2*g)).to(u.m)\n",
    "\n",
    "print(f\"l_izq: {l_izq}, l_der: {l_der}\")\n",
    "print(f\"diferencia: {l_izq-l_der}\")"
   ]
  },
  {
   "cell_type": "markdown",
   "metadata": {},
   "source": [
    "c. Verifique la validez del supuesto."
   ]
  },
  {
   "cell_type": "markdown",
   "metadata": {},
   "source": [
    "d. Haga una evaluación (gráfico) del error vs longitud de la tubería."
   ]
  },
  {
   "cell_type": "markdown",
   "metadata": {},
   "source": [
    "e. ¿Cuánto influencia la temperatura en la pérdida de carga? Grafique"
   ]
  },
  {
   "cell_type": "markdown",
   "metadata": {},
   "source": [
    "## Problema 3\n",
    "Se utiliza una tubería horizontal para transportar etanol (alcohol etílico) a 20 ◦C a lo largo de una\n",
    "distancia de 3 km. La tubería está hecha de acero comercial. El caudal requerido de etanol es de 40\n",
    "L/s. La bomba conectada a esta tubería puede superar una caída de presión de hasta 200 kPa en la\n",
    "tubería."
   ]
  },
  {
   "cell_type": "markdown",
   "metadata": {},
   "source": [
    "a. Especifique el tamaño apropiado (diámetro nominal) de una tubería de tipo Schedule 40 para esta tubería."
   ]
  },
  {
   "cell_type": "code",
   "execution_count": null,
   "metadata": {},
   "outputs": [],
   "source": [
    "T = (20 * u.celsius).to(u.K)\n",
    "L = 3E3 * u.m\n",
    "caudal = 40 * u.liters*u.s**(-1)\n",
    "caida_P = 200E3 * u.Pa"
   ]
  },
  {
   "cell_type": "markdown",
   "metadata": {},
   "source": [
    "b. Grafique el caudal máximo que sería entregado por diferentes diametros del schedule\n",
    "indicado."
   ]
  },
  {
   "cell_type": "markdown",
   "metadata": {},
   "source": [
    "## Problema 4\n",
    "Considere el plano hidráulico de la localidad de Hualañé."
   ]
  },
  {
   "cell_type": "markdown",
   "metadata": {},
   "source": [
    "a. Establezca un código computacional, que permita estimar la pérdida de carga máxima en el sistema, cuando todas las casas tienen una llave de\n",
    "lavamanos abierta."
   ]
  },
  {
   "cell_type": "code",
   "execution_count": null,
   "metadata": {},
   "outputs": [],
   "source": []
  },
  {
   "cell_type": "markdown",
   "metadata": {},
   "source": [
    "b. Grafique la pérdida de carga asociada a cada casa si eldiametro de todas las\n",
    "tuberías es de 1 pulgada."
   ]
  },
  {
   "cell_type": "code",
   "execution_count": null,
   "metadata": {},
   "outputs": [],
   "source": []
  },
  {
   "cell_type": "markdown",
   "metadata": {},
   "source": [
    "# Bibliografía\n",
    "\n",
    "[1] https://woolfplumbing.com.au/blog/the-differences-between-copper-pipes-type-l-and-type-m\n",
    "\n",
    "[2] https://sodimac.falabella.com/sodimac-cl/page/como-elegir-tuberias-y-fittings-de-cobre\n",
    "\n",
    "[3] https://www.enel.cl/es/inversionistas/inversionistas-enel-generacion/nuestras-centrales/gasoducto/informacion-general.html"
   ]
  },
  {
   "cell_type": "markdown",
   "metadata": {},
   "source": []
  }
 ],
 "metadata": {
  "kernelspec": {
   "display_name": "Python 3.9.12 ('Thermodynamics')",
   "language": "python",
   "name": "python3"
  },
  "language_info": {
   "codemirror_mode": {
    "name": "ipython",
    "version": 3
   },
   "file_extension": ".py",
   "mimetype": "text/x-python",
   "name": "python",
   "nbconvert_exporter": "python",
   "pygments_lexer": "ipython3",
   "version": "3.12.0"
  },
  "orig_nbformat": 4,
  "vscode": {
   "interpreter": {
    "hash": "e3e00a7bd6eae02d2ccac1eb55407bbbd95142f269ed3bd1034733c2cfa4f866"
   }
  }
 },
 "nbformat": 4,
 "nbformat_minor": 2
}
