{
 "cells": [
  {
   "cell_type": "markdown",
   "metadata": {},
   "source": [
    "# Tarea 1: Piping\n",
    "### Pablo Correa e Ian Gross"
   ]
  },
  {
   "cell_type": "markdown",
   "metadata": {},
   "source": [
    "## Librerías"
   ]
  },
  {
   "cell_type": "code",
   "execution_count": 2,
   "metadata": {},
   "outputs": [],
   "source": [
    "import CoolProp.CoolProp as cp\n",
    "import fluids as fld\n",
    "import numpy as np\n",
    "import scipy.constants as cte\n",
    "import matplotlib.pyplot as plt\n",
    "\n",
    "from fluids.units import *"
   ]
  },
  {
   "cell_type": "code",
   "execution_count": 3,
   "metadata": {},
   "outputs": [],
   "source": [
    "g = cte.g*u.m/u.s**2"
   ]
  },
  {
   "cell_type": "markdown",
   "metadata": {},
   "source": [
    "## Problema 1\n",
    "En un sistema de refrigeración, el refrigerante R134a fluye a través de un tubo de cobre estándar tipo\n",
    "L de 3/4 de pulgada. En este sistema, se utiliza un desuperheter para calentar agua, como se muestra en\n",
    "la Figura P4.3. El R134a ingresa al desuperheter a 200 psia y 225 ºF. El desuperheter extrae suficiente\n",
    "energía, $Q_{DSH}$, de manera que el R134a ingresa al condensador como un vapor saturado a una presión\n",
    "levemente inferior. En el condensador, se transfiere energía desde el refrigerante a una tasa de 60000\n",
    "Btu/h. Esto hace que el R134a salga del condensador como un líquido saturado con una caída de presión\n",
    "despreciable."
   ]
  },
  {
   "cell_type": "markdown",
   "metadata": {},
   "source": [
    "a. Determine la pérdida de carga en el desuperheater."
   ]
  },
  {
   "cell_type": "code",
   "execution_count": 3,
   "metadata": {},
   "outputs": [],
   "source": [
    "# Datos\n",
    "D = (0.75*u.inch).to(u.m)\n",
    "P1 = (200*u.psi).to(u.Pa) # psia = psi\n",
    "T1 = (225*u.fahrenheit).to(u.K)\n",
    "Q_c = (6E4*u.Btu*u.hr**(-1)).to(u.W)\n",
    "\n",
    "fluid = 'R134a'\n",
    "epsilon = fld.material_roughness('Copper')*u.mm"
   ]
  },
  {
   "cell_type": "markdown",
   "metadata": {},
   "source": [
    "Realizando experimentos numéricos, se determina que el cambio de las propiedades es estable ante pequeños cambios de presión como los que se esperan entre $P_1$ y $P_2$, por lo tanto, se aproximan los datos en $P_2$ usando el valor de $P_1$."
   ]
  },
  {
   "cell_type": "code",
   "execution_count": 4,
   "metadata": {},
   "outputs": [],
   "source": [
    "# Propiedades\n",
    "rho = cp.PropsSI('D','Q', 0, 'P', P1.magnitude, fluid)*u.kg/u.m**3\n",
    "mu = cp.PropsSI('V','Q', 0, 'P', P1.magnitude, fluid)*u.Pa*u.s\n",
    "\n",
    "h1 = cp.PropsSI('H','T', T1.magnitude, 'P', P1.magnitude, fluid)*u.J/u.kg # Entrada con datos de presión y temperatura\n",
    "h2 = cp.PropsSI('H','P', P1.magnitude, 'Q', 1, fluid)*u.J/u.kg # Salida del desuperheater (vapor saturado)\n",
    "h3 = cp.PropsSI('H','P', P1.magnitude, 'Q', 0, fluid)*u.J/u.kg # Salida del condensador (líquido saturado)"
   ]
  },
  {
   "cell_type": "markdown",
   "metadata": {},
   "source": []
  },
  {
   "cell_type": "code",
   "execution_count": 5,
   "metadata": {},
   "outputs": [
    {
     "name": "stdout",
     "output_type": "stream",
     "text": [
      "dV = 0.10743772528546108 liter / second\n",
      "V = 0.37694411151712093 meter / second\n",
      "Re = 56755.814074374866 dimensionless\n",
      "f = 0.020908030442010013 dimensionless\n"
     ]
    }
   ],
   "source": [
    "# Caudal\n",
    "dm = Q_c/(h2-h3)\n",
    "dVol = dm/rho\n",
    "V = dVol/(np.pi*D**2/4)\n",
    "print(f\"dV = {dVol.to(u.L/u.s)}\")\n",
    "print(f\"V = {V.to(u.m/u.s)}\")\n",
    "\n",
    "# Factor de fricción\n",
    "Re = (fld.Reynolds(D=D, rho=rho, V=V, mu=mu)).to('dimensionless')\n",
    "f = fld.friction.friction_factor(Re=Re, eD=epsilon/D)\n",
    "print(f\"Re = {Re}\")\n",
    "print(f\"f = {f}\")"
   ]
  },
  {
   "cell_type": "code",
   "execution_count": 6,
   "metadata": {},
   "outputs": [
    {
     "ename": "NameError",
     "evalue": "name 'L' is not defined",
     "output_type": "error",
     "traceback": [
      "\u001b[1;31m---------------------------------------------------------------------------\u001b[0m",
      "\u001b[1;31mNameError\u001b[0m                                 Traceback (most recent call last)",
      "Cell \u001b[1;32mIn[6], line 2\u001b[0m\n\u001b[0;32m      1\u001b[0m \u001b[38;5;66;03m# Pérdida de carga y largo de la tubería\u001b[39;00m\n\u001b[1;32m----> 2\u001b[0m DP \u001b[38;5;241m=\u001b[39m f\u001b[38;5;241m*\u001b[39mrho\u001b[38;5;241m*\u001b[39mV\u001b[38;5;241m*\u001b[39m\u001b[38;5;241m*\u001b[39m\u001b[38;5;241m2\u001b[39m\u001b[38;5;241m/\u001b[39m(\u001b[38;5;241m2\u001b[39m\u001b[38;5;241m*\u001b[39mD)\u001b[38;5;241m*\u001b[39m\u001b[43mL\u001b[49m\n\u001b[0;32m      3\u001b[0m \u001b[38;5;28mprint\u001b[39m(DP\u001b[38;5;241m.\u001b[39mto(u\u001b[38;5;241m.\u001b[39mkPa))\n",
      "\u001b[1;31mNameError\u001b[0m: name 'L' is not defined"
     ]
    }
   ],
   "source": [
    "# Pérdida de carga y largo de la tubería\n",
    "DP = f*rho*V**2/(2*D)*L\n",
    "print(DP.to(u.kPa))"
   ]
  },
  {
   "cell_type": "markdown",
   "metadata": {},
   "source": [
    "b. Determine la velocidad (m/s) del R134a al ingresar al condensador."
   ]
  },
  {
   "cell_type": "markdown",
   "metadata": {},
   "source": [
    "Considerando la variaciones de estado entre la entrada al desuperheater (1) y su salida (2), se sabe que el flujo másico es constante en el desuperheater por lo tanto se cumple que:\n",
    "$$\\dot{m} = \\rho_1Av_1 = \\rho_2Av_2$$\n",
    "$$v_1 = \\frac{\\rho_2}{\\rho_1}v_2$$\n",
    "\n",
    "Despreciando el efecto de la conexión entre el desuperheater y el condensador, entonces se puede considerar que la velocidad en la salida del desuperheater es igual a la velocidad en la entrada del condensador."
   ]
  },
  {
   "cell_type": "code",
   "execution_count": null,
   "metadata": {},
   "outputs": [
    {
     "name": "stdout",
     "output_type": "stream",
     "text": [
      "1378951.4586336727 pascal -1353366.2769238898 kilogram * watt ** 2 / joule ** 2 / meter\n",
      "1.3737583666704418 dimensionless\n"
     ]
    }
   ],
   "source": [
    "rho1 = cp.PropsSI('D','T', T1.magnitude, 'P',P1.magnitude, fluid) * u.kg/(u.m)**3\n",
    "rho2 = cp.PropsSI('D','P', P1.magnitude, 'Q',1, fluid) * u.kg/(u.m)**3\n",
    "\n",
    "P2 = DP - P1\n",
    "\n",
    "r_rho = rho2/rho1\n",
    "\n",
    "print(P1, P2)\n",
    "print(r_rho)"
   ]
  },
  {
   "cell_type": "markdown",
   "metadata": {},
   "source": [
    "Por Bernoulli y considerando que:\n",
    "$$\\frac{P_1}{\\gamma_1} + \\frac{V_1^2}{2g} + \\cancel{z_1} = \\frac{P_2}{\\gamma_2} + \\frac{V_2^2}{2g} + \\cancel{z_2}$$\n",
    "$$\\frac{P_1}{\\gamma_1} + \\frac{P_2}{\\gamma_2} = \\frac{V_2^2}{2g} - \\frac{V_1^2}{2g}$$\n",
    "$$\\frac{P_1}{\\gamma_1} - \\frac{P_2}{\\gamma_2} = \\frac{V_2^2}{2g}(1 - (\\frac{\\rho_2}{\\rho_1})^2)$$\n",
    "$$V_2^2 = 2\\frac{(\\frac{P_1}{\\rho_1} - \\frac{P_2}{\\rho_2})}{1 - (\\frac{\\rho_2}{\\rho_1})^2}$$"
   ]
  },
  {
   "cell_type": "code",
   "execution_count": null,
   "metadata": {},
   "outputs": [
    {
     "name": "stdout",
     "output_type": "stream",
     "text": [
      "nan meter / second\n"
     ]
    },
    {
     "name": "stderr",
     "output_type": "stream",
     "text": [
      "c:\\Users\\iangr\\AppData\\Local\\Programs\\Python\\Python312\\Lib\\site-packages\\pint\\facets\\numpy\\numpy_func.py:322: RuntimeWarning: invalid value encountered in sqrt\n",
      "  result_magnitude = func(*stripped_args, **stripped_kwargs)\n"
     ]
    }
   ],
   "source": [
    "v2 = np.sqrt(2*(P1/rho1 - P2/rho2)/(1-(rho2/rho1)**2))\n",
    "print(v2.to(u.m/u.s))"
   ]
  },
  {
   "cell_type": "markdown",
   "metadata": {},
   "source": [
    "c. Determine la velocidad (m/s) del R134a al salir del condensador."
   ]
  },
  {
   "cell_type": "markdown",
   "metadata": {},
   "source": [
    "Considerando las condiciones de estado del fluido en la entrada del condensador (2) y en la salida (3), se sabe que no hay variación de altura y la caida de presión de es despreciable. Por Bernoulli:\n",
    "$$\\frac{P_2}{\\gamma_2} + \\frac{V_2^2}{2g} + \\cancel{z_2} = \\frac{P_3}{\\gamma_3} + \\frac{V_3^2}{2g} + \\cancel{z_3}$$\n",
    "$$P2 = P3 = P$$\n",
    "$$\\frac{P}{\\gamma_2} + \\frac{V_2^2}{2g} = \\frac{P}{\\gamma_3} + \\frac{V_3^2}{2g}$$\n",
    "$$\\frac{V_3^2}{2g} = \\frac{V_2^2}{2g} + P(\\frac{1}{\\gamma_2} - \\frac{1}{\\gamma_3})$$\n",
    "$$V_3^2 = V_2^2 + 2P(\\frac{1}{\\rho_2} - \\frac{1}{\\rho_3})$$"
   ]
  },
  {
   "cell_type": "code",
   "execution_count": null,
   "metadata": {},
   "outputs": [],
   "source": []
  },
  {
   "cell_type": "markdown",
   "metadata": {},
   "source": [
    "d. Investigue sobre correlaciones de pérdida de carga en tuberías con flujo bigfásico. Proponga\n",
    "una expresión para estimar la pérdida de carga en el condensador. ¿qué información sería necesaria?"
   ]
  },
  {
   "cell_type": "markdown",
   "metadata": {},
   "source": [
    "e. Cuál es la diferencia entre una tubería tipo L y una tipo M\n",
    "\n",
    "Las tuberías tipo L tienen un espesor proporcional mayor al de la tuberías tipo M. Esto les permite soportar mayores presiones y, por lo tanto, se utilizan en aplicaciones industriales o de transporte de gas licuado o gas natural. A motivo del mayor requerimiento de material, las tuberías L tienen un costo más elevado. Además, el mayor espesor de la tubería L le da una durabilidad notablemente mayor frente al mismo uso. [1,2]"
   ]
  },
  {
   "cell_type": "markdown",
   "metadata": {},
   "source": [
    "## Problema 2\n",
    "Gas Natural fluye con una velocidad promedio de 100 ft/s por una tubería de cobre de 300 m y $1\\frac{1}{4}$\n",
    "inch de diámetro. La temperatura del gas es 20 ◦C y la presión inicial es de 1000 psig."
   ]
  },
  {
   "cell_type": "markdown",
   "metadata": {},
   "source": [
    "a. Asumiendo que el flujo es incompresible, determine la variación de la presión (pérdida de\n",
    "carga) en la tubería."
   ]
  },
  {
   "cell_type": "markdown",
   "metadata": {},
   "source": [
    "Bernoulli:\n",
    "$$\\frac{P_1}{\\gamma} + \\cancel{\\frac{V_1^2}{2g}} + \\cancel{z_1} = \\frac{P_2}{\\gamma} + \\cancel{\\frac{V_2^2}{2g}} + \\cancel{z_2} + f\\frac{L}{D}\\frac{V_2^2}{2g}$$\n",
    "$$\\frac{P_1}{\\gamma} = \\frac{P_2}{\\gamma} + f\\frac{L}{D}\\frac{V^2}{2g}$$\n",
    "$$P_2 = P_1 - f\\frac{L}{D}\\frac{\\rho V^2}{2}$$"
   ]
  },
  {
   "cell_type": "code",
   "execution_count": null,
   "metadata": {},
   "outputs": [],
   "source": [
    "# Datos\n",
    "V = (100*u.ft*u.s**(-1)).to(u.m*u.s**(-1))\n",
    "L = 300 * u.m\n",
    "D = (1.25 * u.inch).to(u.m)\n",
    "T = (20 * u.celsius).to(u.K)\n",
    "P1 = ((1000+14.7)*u.psi).to(u.Pa) # Está en psiG"
   ]
  },
  {
   "cell_type": "markdown",
   "metadata": {},
   "source": [
    "Para calcular las propiedades del gas natural, es necesario crear una mezcla. Utilizando los datos de Enel [3], se normalizan los tres componentes más relevantes para obtener:\n",
    "\n",
    "0.931677% Metano, 0.0660455% Etano, 0.00227743% Propano"
   ]
  },
  {
   "cell_type": "code",
   "execution_count": null,
   "metadata": {},
   "outputs": [
    {
     "name": "stdout",
     "output_type": "stream",
     "text": [
      "rho: 57.00904806016102 kilogram / meter ** 3\n",
      "mu: 1.265970887616968e-05 pascal * second\n"
     ]
    }
   ],
   "source": [
    "# Propiedades\n",
    "fluid = \"Methane[0.931677]&Ethane[0.0660455]&Propane[0.00227743]\"\n",
    "rho1 = cp.PropsSI('D','T', T.magnitude, 'P',P1.magnitude, fluid)*u.kg/u.m**3\n",
    "mu = cp.PropsSI('V','T', T.magnitude, 'P',P1.magnitude, fluid)*u.Pa*u.s\n",
    "print(f\"rho: {rho1}\")\n",
    "print(f\"mu: {mu}\")"
   ]
  },
  {
   "cell_type": "code",
   "execution_count": null,
   "metadata": {},
   "outputs": [
    {
     "name": "stdout",
     "output_type": "stream",
     "text": [
      "Re = 4357915.076040234 dimensionless\n",
      "f = 0.012278121652104726 dimensionless\n"
     ]
    }
   ],
   "source": [
    "# Fricción\n",
    "Re = (fld.Reynolds(D=D, rho=rho1, V=V, mu=mu)).to('dimensionless')\n",
    "epsilon = (fld.material_roughness('Copper'))*u.mm\n",
    "f = fld.friction.friction_factor(Re, eD=epsilon/D)\n",
    "print(f\"Re = {Re}\")\n",
    "print(f\"f = {f}\")\n"
   ]
  },
  {
   "cell_type": "code",
   "execution_count": null,
   "metadata": {},
   "outputs": [
    {
     "name": "stdout",
     "output_type": "stream",
     "text": [
      "P1: 6996110.225377939 pascal\n",
      "P2: 3923884.1136408392 pascal\n"
     ]
    }
   ],
   "source": [
    "# Bernoulli\n",
    "P2 = P1 - (f*rho1*V**2*L)/(2*D)\n",
    "print(f\"P1: {P1}\")\n",
    "print(f\"P2: {P2}\")"
   ]
  },
  {
   "cell_type": "markdown",
   "metadata": {},
   "source": [
    "b. Determine el grado de error introducido por el supuesto.\n",
    "\n",
    "$$\\frac{P_1}{g\\rho_1} = \\frac{P_2}{g\\rho_2} + f\\frac{L}{D}\\frac{V^2}{2g}$$\n",
    "Esto está mal"
   ]
  },
  {
   "cell_type": "code",
   "execution_count": null,
   "metadata": {},
   "outputs": [
    {
     "name": "stdout",
     "output_type": "stream",
     "text": [
      "l_izq: 12513.88554509816 meter, l_der: 13387.889231907098 meter\n",
      "diferencia: -874.0036868089392 meter\n"
     ]
    }
   ],
   "source": [
    "rho2 = cp.PropsSI('D','T', T.magnitude, 'P',P2.magnitude, fluid)*u.kg/u.m**3\n",
    "l_izq = (P1/(rho1*g)).to(u.m)\n",
    "l_der = (P2/(rho2*g)).to(u.m)\n",
    "\n",
    "print(f\"l_izq: {l_izq}, l_der: {l_der}\")\n",
    "print(f\"diferencia: {l_izq-l_der}\")"
   ]
  },
  {
   "cell_type": "markdown",
   "metadata": {},
   "source": [
    "c. Verifique la validez del supuesto."
   ]
  },
  {
   "cell_type": "markdown",
   "metadata": {},
   "source": [
    "d. Haga una evaluación (gráfico) del error vs longitud de la tubería."
   ]
  },
  {
   "cell_type": "markdown",
   "metadata": {},
   "source": [
    "e. ¿Cuánto influencia la temperatura en la pérdida de carga? Grafique"
   ]
  },
  {
   "cell_type": "markdown",
   "metadata": {},
   "source": [
    "## Problema 3\n",
    "Se utiliza una tubería horizontal para transportar etanol (alcohol etílico) a 20 ◦C a lo largo de una\n",
    "distancia de 3 km. La tubería está hecha de acero comercial. El caudal requerido de etanol es de 40\n",
    "L/s. La bomba conectada a esta tubería puede superar una caída de presión de hasta 200 kPa en la\n",
    "tubería."
   ]
  },
  {
   "cell_type": "markdown",
   "metadata": {},
   "source": [
    "a. Especifique el tamaño apropiado (diámetro nominal) de una tubería de tipo Schedule 40 para esta tubería.\n",
    "Se toma el valor de epsilon de PipeFlow [4]:"
   ]
  },
  {
   "cell_type": "code",
   "execution_count": 7,
   "metadata": {},
   "outputs": [],
   "source": [
    "# Datos\n",
    "T = (20 * u.celsius).to(u.K)\n",
    "L = 3E3 * u.m\n",
    "dVol = 40 * u.L*u.s**(-1)\n",
    "DP_max = 200E3 * u.Pa\n",
    "\n",
    "fluid = \"Ethanol\"\n",
    "epsilon = (0.045*u.mm).to(u.m)"
   ]
  },
  {
   "cell_type": "code",
   "execution_count": 8,
   "metadata": {},
   "outputs": [],
   "source": [
    "# Propiedades\n",
    "rho = cp.PropsSI('D','Q', 0, 'P', DP_max.magnitude, fluid)*u.kg/u.m**3\n",
    "mu = cp.PropsSI('V','Q', 0, 'P', DP_max.magnitude, fluid)*u.Pa*u.s"
   ]
  },
  {
   "cell_type": "markdown",
   "metadata": {},
   "source": [
    "Bernoulli:\n",
    "$$\\frac{P_1}{\\gamma} + \\cancel{\\frac{V_1^2}{2g}} + \\cancel{z_1} = \\frac{P_2}{\\gamma} + \\cancel{\\frac{V_2^2}{2g}} + \\cancel{z_2} + f\\frac{L}{D}\\frac{V_2^2}{2g}$$\n",
    "Se obtiene un sistema de dos ecuaciones.\n",
    "$$200kPa \\geq \\Delta P = f\\frac{L}{D}\\frac{\\rho V^2}{2} = f\\frac{8\\rho L}{D^5\\pi^2}\\dot{\\forall}^2$$\n",
    "$$40Ls^{-1} = \\dot{\\forall} = VA = V\\frac{\\pi D^2}{4}$$\n",
    "Se quiere resolver para D, por lo tanto:\n",
    "$$200kPa \\geq \\Delta P = f\\frac{8\\rho L}{D^5\\pi^2}\\dot{\\forall}^2$$\n",
    "$$V = \\frac{160Ls^{-1}}{\\pi D^2}$$\n",
    "Como existe diámetros fijos para las tuberías schedule 40, se crea una lista con valores extraídos de Wesco [5]. Además, por propósitos de simplicidad, se redondean los valores obtenidos, tratando de mantener por lo menos tres figuras significativas."
   ]
  },
  {
   "cell_type": "code",
   "execution_count": 9,
   "metadata": {},
   "outputs": [
    {
     "name": "stdout",
     "output_type": "stream",
     "text": [
      "Re = [33909193, 16954596, 11303064, 8477298, 5651532, 4238649, 3390919, 2825766, 2119324, 1695459, 1412883, 1211042, 1059662, 706441, 529831, 423864]\n",
      "f = [0.0428, 0.0339, 0.0299, 0.0274, 0.0245, 0.0227, 0.0215, 0.0206, 0.0192, 0.0183, 0.0177, 0.0172, 0.0168, 0.0159, 0.0156, 0.0155]\n"
     ]
    }
   ],
   "source": [
    "l_D = ([1/8, 1/4, 3/8, 1/2, 3/4, 1, 1.25, 1.5, 2, 2.5, 3, 3.5, 4, 6, 8, 10]*u.inch).to(u.m)\n",
    "\n",
    "V = (4*dVol/(np.pi*l_D**2)).to(u.m/u.s)\n",
    "\n",
    "l_Re = []\n",
    "l_f = []\n",
    "for i in range(len(l_D)):\n",
    "    Re = (fld.Reynolds(D=l_D[i], rho=rho, V=V[i], mu=mu)).to('dimensionless')\n",
    "    l_Re.append(int(Re.magnitude))\n",
    "    f = fld.friction.friction_factor(Re=l_Re[i], eD=epsilon/l_D[i])\n",
    "    l_f.append(f.magnitude.round(4))\n",
    "print(f\"Re = {l_Re}\")\n",
    "print(f\"f = {l_f}\")"
   ]
  },
  {
   "cell_type": "code",
   "execution_count": 10,
   "metadata": {},
   "outputs": [
    {
     "name": "stdout",
     "output_type": "stream",
     "text": [
      "DP = [370366958406874   9167231228090   1064764052956    231546953954     27264547760      5994657681      1860488225       716389902       158449101        49486823        19235590         8648220         4332592          539982          125722           40932] pascal\n"
     ]
    }
   ],
   "source": [
    "l_DP = []\n",
    "l_DP2 = []\n",
    "for i in range(len(l_D)):\n",
    "    DP = l_f[i]*rho*V[i]**2*L/(2*l_D[i])\n",
    "    l_DP.append(int(DP.magnitude))\n",
    "l_DP *= u.Pa\n",
    "print(f\"DP = {l_DP}\")"
   ]
  },
  {
   "cell_type": "code",
   "execution_count": 11,
   "metadata": {},
   "outputs": [
    {
     "name": "stdout",
     "output_type": "stream",
     "text": [
      "La menor cañería que cumple las especificaciones del problema es:\n",
      "D = 8.0 inch\n",
      "Con una caida de presión de 125722 pascal\n"
     ]
    }
   ],
   "source": [
    "for i in range(len(l_DP)):\n",
    "    if l_DP[i].magnitude < DP_max.magnitude:\n",
    "        print(f\"La menor cañería que cumple las especificaciones del problema es:\")\n",
    "        print(f\"D = {l_D[i].to(u.inch)}\")\n",
    "        print(f\"Con una caida de presión de {l_DP[i]}\")\n",
    "        break"
   ]
  },
  {
   "cell_type": "markdown",
   "metadata": {},
   "source": [
    "b. Grafique el caudal máximo que sería entregado por diferentes diametros del schedule\n",
    "indicado.\n",
    "\n",
    "Esta vez, se asume que la presión queda fija en $200kPa$ y así obtener el valor máximo:\n",
    "$$200kPa = f\\frac{L}{D}\\frac{\\rho V^2}{2}$$\n",
    "$$40Ls^{-1} = \\dot{\\forall} = VA = V\\frac{\\pi D^2}{4}$$\n",
    "Reordenando:\n",
    "$$V = \\sqrt{\\frac{2D\\times 200kPa}{fL\\rho}}$$\n",
    "$$\\dot{\\forall} = V\\frac{\\pi D^2}{4}$$\n"
   ]
  },
  {
   "cell_type": "code",
   "execution_count": null,
   "metadata": {},
   "outputs": [
    {
     "name": "stdout",
     "output_type": "stream",
     "text": [
      "dVol = [0.0009944808764324466, 0.006330455492115281, 0.018547520652326815, 0.03977342744575406, 0.115907997960211, 0.24718969382004485, 0.44474536840530393, 0.7167942375454731, 1.5244093143647037, 2.7280832297459665, 4.388614165964519, 6.546195004583957, 9.277934333576509, 26.46433916025965, 55.416283697602815, 97.80460130880377]\n"
     ]
    }
   ],
   "source": [
    "l_dVol = []\n",
    "for i in range(len(l_D)):\n",
    "    V = np.sqrt(2*l_D[i]*DP_max/(l_f[i]*rho*L))\n",
    "    dVol = (V*np.pi*D[i]**2/4).to(u.L/u.s)\n",
    "    l_dVol.append(dVol.magnitude)\n",
    "print(f\"dVol = {l_dVol}\")"
   ]
  },
  {
   "cell_type": "code",
   "execution_count": null,
   "metadata": {},
   "outputs": [
    {
     "name": "stderr",
     "output_type": "stream",
     "text": [
      "c:\\Users\\iangr\\AppData\\Local\\Programs\\Python\\Python312\\Lib\\site-packages\\matplotlib\\cbook.py:1398: UnitStrippedWarning: The unit of the quantity is stripped when downcasting to ndarray.\n",
      "  return np.asarray(x, float)\n"
     ]
    },
    {
     "data": {
      "image/png": "[encoded data removed]",
      "text/plain": [
       "<Figure size 640x480 with 1 Axes>"
      ]
     },
     "metadata": {},
     "output_type": "display_data"
    }
   ],
   "source": [
    "plt.plot(l_D.to(u.inch), l_dVol, label=\"Caudal Esperado\")\n",
    "plt.plot(l_D.to(u.inch), 40*np.ones(len(l_D)), 'r--', label = \"Caudal Mínimo Requerido\")\n",
    "plt.title(\"Caudal en función del diámetro\")\n",
    "plt.xlabel(\"Diámetro [in]\")\n",
    "plt.ylabel(\"Caudal [L/s]\")\n",
    "plt.grid()\n",
    "plt.legend()\n",
    "plt.show()"
   ]
  },
  {
   "cell_type": "markdown",
   "metadata": {},
   "source": [
    "## Problema 4\n",
    "Considere el plano hidráulico de la localidad de Hualañé."
   ]
  },
  {
   "cell_type": "markdown",
   "metadata": {},
   "source": [
    "a. Establezca un código computacional, que permita estimar la pérdida de carga máxima en el sistema, cuando todas las casas tienen una llave de\n",
    "lavamanos abierta.\n",
    "\n",
    "De acuerdo a la Superintendencia de Servicios Sanitarios, \"el Manual de Proyectos de Agua Potable Rural 2019, dicta que los servicios que fueron construidos y rehabilitados a partir del año 2020 deberán tener una presión mínima de servicio de 15 metros columna de agua (1,5 bar), y una máxima de 70 metros columna de agua (7bar)\". Además, la pérdida de carga en el arranque no debe superar los 5mca al abrir la llave [6].\n",
    "\n",
    "\"Las velocidades del agua en las tuberías no deben exceder de 2,5 m/s en las tuberías exteriores y de distribución principal y 2,0 m/s en las tuberías de la red interior\" [7].\n",
    "\n",
    "Como en este caso, todas las casas se encuentran paralelas en el circuito, la presión sin considerar pérdidas de carga deberá ser para todas las casas igual."
   ]
  },
  {
   "cell_type": "code",
   "execution_count": 5,
   "metadata": {},
   "outputs": [
    {
     "name": "stdout",
     "output_type": "stream",
     "text": [
      "157.39598834831446\n"
     ]
    }
   ],
   "source": [
    "# Largo de la Tubería por tramos\n",
    "# Primera Vertical\n",
    "L1 = 48.55\n",
    "# Horizontal hasta primera bifuración. Se consideran tramos rectos en ciertos intervalos\n",
    "L2 = np.sqrt(4.79**2 + 1.03**2) + np.sqrt(120**2+ (108.17-101.03)**2) + np.sqrt(20**2 + (144.79-124.79)**2) + 4\n",
    "\n",
    "print(L2)\n"
   ]
  },
  {
   "cell_type": "code",
   "execution_count": null,
   "metadata": {},
   "outputs": [],
   "source": [
    "T = (20 * u.celsius).to(u.K) # Temperatura del suelo\n",
    "\n",
    "fluid = \"water\"\n",
    "rho = cp.PropsSI('D','Q', 0, 'P', DP_max.magnitude, fluid)*u.kg/u.m**3\n",
    "mu = cp.PropsSI('V','Q', 0, 'P', DP_max.magnitude, fluid)*u.Pa*u.s"
   ]
  },
  {
   "cell_type": "markdown",
   "metadata": {},
   "source": [
    "b. Grafique la pérdida de carga asociada a cada casa si el diámetro de todas las\n",
    "tuberías es de 1 pulgada."
   ]
  },
  {
   "cell_type": "code",
   "execution_count": null,
   "metadata": {},
   "outputs": [],
   "source": []
  },
  {
   "cell_type": "markdown",
   "metadata": {},
   "source": [
    "# Bibliografía\n",
    "\n",
    "[1] https://woolfplumbing.com.au/blog/the-differences-between-copper-pipes-type-l-and-type-m\n",
    "\n",
    "[2] https://sodimac.falabella.com/sodimac-cl/page/como-elegir-tuberias-y-fittings-de-cobre\n",
    "\n",
    "[3] https://www.enel.cl/es/inversionistas/inversionistas-enel-generacion/nuestras-centrales/gasoducto/informacion-general.html\n",
    "\n",
    "[4] https://www.pipeflow.com/pipe-pressure-drop-calculations/pipe-roughness\n",
    "\n",
    "[5] https://www.wesco.com.co/default.asp?iID=GFLJKE\n",
    "\n",
    "[6] https://www.siss.gob.cl/586/articles-19503_Man_Pre_SSR.pdf\n",
    "\n",
    "[7] https://www.google.com/url?sa=t&source=web&rct=j&opi=89978449&url=https://estudiantes.cftla.cl/parciales/descargar.php%3Fidm%3D66311&ved=2ahUKEwjWtYXRu7GIAxWcCrkGHTjxGw0QFnoECBYQAQ&usg=AOvVaw2tcraPkc8wn1s3hNnku404"
   ]
  },
  {
   "cell_type": "code",
   "execution_count": null,
   "metadata": {},
   "outputs": [],
   "source": []
  },
  {
   "cell_type": "markdown",
   "metadata": {},
   "source": []
  }
 ],
 "metadata": {
  "kernelspec": {
   "display_name": "Python 3.9.12 ('Thermodynamics')",
   "language": "python",
   "name": "python3"
  },
  "language_info": {
   "codemirror_mode": {
    "name": "ipython",
    "version": 3
   },
   "file_extension": ".py",
   "mimetype": "text/x-python",
   "name": "python",
   "nbconvert_exporter": "python",
   "pygments_lexer": "ipython3",
   "version": "3.12.0"
  },
  "orig_nbformat": 4,
  "vscode": {
   "interpreter": {
    "hash": "e3e00a7bd6eae02d2ccac1eb55407bbbd95142f269ed3bd1034733c2cfa4f866"
   }
  }
 },
 "nbformat": 4,
 "nbformat_minor": 2
}
