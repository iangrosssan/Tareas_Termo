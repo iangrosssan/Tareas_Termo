{
 "cells": [
  {
   "cell_type": "markdown",
   "metadata": {},
   "source": [
    "# Tarea 1: Piping\n",
    "### Pablo Correa e Ian Gross"
   ]
  },
  {
   "cell_type": "markdown",
   "metadata": {},
   "source": [
    "## Librerías"
   ]
  },
  {
   "cell_type": "code",
   "execution_count": 105,
   "metadata": {},
   "outputs": [],
   "source": [
    "import CoolProp.CoolProp as cp\n",
    "import fluids as fld\n",
    "import numpy as np\n",
    "import scipy.constants as cte\n",
    "import matplotlib.pyplot as plt\n",
    "\n",
    "from fluids.units import *"
   ]
  },
  {
   "cell_type": "code",
   "execution_count": 106,
   "metadata": {},
   "outputs": [],
   "source": [
    "g = cte.g*u.m/u.s**2"
   ]
  },
  {
   "cell_type": "markdown",
   "metadata": {},
   "source": [
    "## Problema 1\n",
    "En un sistema de refrigeración, el refrigerante R134a fluye a través de un tubo de cobre estándar tipo\n",
    "L de 3/4 de pulgada. En este sistema, se utiliza un desuperheter para calentar agua, como se muestra en\n",
    "la Figura P4.3. El R134a ingresa al desuperheter a 200 psia y 225 ºF. El desuperheter extrae suficiente\n",
    "energía, $Q_{DSH}$, de manera que el R134a ingresa al condensador como un vapor saturado a una presión\n",
    "levemente inferior. En el condensador, se transfiere energía desde el refrigerante a una tasa de 60000\n",
    "Btu/h. Esto hace que el R134a salga del condensador como un líquido saturado con una caída de presión\n",
    "despreciable."
   ]
  },
  {
   "cell_type": "markdown",
   "metadata": {},
   "source": [
    "a. Determine la pérdida de carga en el desuperheater."
   ]
  },
  {
   "cell_type": "code",
   "execution_count": 107,
   "metadata": {},
   "outputs": [],
   "source": [
    "# Datos\n",
    "D = (0.75*u.inch).to(u.m)\n",
    "P1 = (200*u.psi).to(u.Pa) # psia = psi\n",
    "T1 = (225*u.fahrenheit).to(u.K)\n",
    "Q_c = (6E4*u.Btu*u.hr**(-1)).to(u.W)\n",
    "L = 5*u.m # Longitud del tubo asumida\n",
    "\n",
    "fluid = 'R134a'\n",
    "epsilon = fld.material_roughness('Copper')*u.mm"
   ]
  },
  {
   "cell_type": "markdown",
   "metadata": {},
   "source": [
    "La pérdida de carga en el desuperheater está dado por:\n",
    "$$\\frac{P_1}{\\rho_1} = \\frac{P_2}{\\rho_2} - f\\frac{L}{D}\\frac{V^2}{2}$$\n",
    "\n",
    "A la vez, se conocen los estados termodinámicos de entalpía en el condensador, que permiten calcular el flujo másico como sigue:\n",
    "$$\\dot{Q}_c = \\Delta h\\dot{m}$$\n",
    "\n",
    "Donde el caudal está dado por:\n",
    "$$\\dot{\\forall} = \\frac{\\dot{m}}{\\rho}$$\n",
    "\n",
    "Y la velocidad:\n",
    "$$V = \\frac{\\dot{\\forall}}{A} = \\frac{\\dot{\\forall}}{\\pi \\frac{D^2}{4}}$$\n",
    "\n",
    "Dado que no se conoce el estado de presión $P_2$, se realiza un experimento numérico, donde se determina que $\\rho_2$ presenta muy leves variaciones en el rango de presiones esperado, por lo tanto, se calcula su valor . El mismo escenario es válido para la propiedad $\\mu$."
   ]
  },
  {
   "cell_type": "code",
   "execution_count": 108,
   "metadata": {},
   "outputs": [
    {
     "name": "stdout",
     "output_type": "stream",
     "text": [
      "rho1 = 50.724300150679966 kilogram / meter ** 3\n",
      "rho2 = 69.68293172549936 kilogram / meter ** 3\n"
     ]
    }
   ],
   "source": [
    "# Propiedades\n",
    "rho1 = cp.PropsSI('D','T', T1.magnitude, 'P', P1.magnitude, fluid)*u.kg/u.m**3\n",
    "mu1 = cp.PropsSI('V','T', T1.magnitude, 'P', P1.magnitude, fluid)*u.Pa*u.s\n",
    "h1 = cp.PropsSI('H','T', T1.magnitude, 'P', P1.magnitude, fluid)*u.J/u.kg # Entrada con datos de presión y temperatura\n",
    "\n",
    "rho2 = cp.PropsSI('D','Q', 1, 'P', P1.magnitude, fluid)*u.kg/u.m**3\n",
    "mu2 = cp.PropsSI('V','Q', 1, 'P', P1.magnitude, fluid)*u.Pa*u.s\n",
    "h2 = cp.PropsSI('H', 'Q', 1, 'P', P1.magnitude, fluid)*u.J/u.kg # Salida del desuperheater (vapor saturado)\n",
    "\n",
    "rho3 = cp.PropsSI('D','Q', 0, 'P', P1.magnitude, fluid)*u.kg/u.m**3\n",
    "mu3 = cp.PropsSI('V','Q', 0, 'P', P1.magnitude, fluid)*u.Pa*u.s\n",
    "h3 = cp.PropsSI('H','Q', 0, 'P', P1.magnitude, fluid)*u.J/u.kg # Salida del condensador (líquido saturado)\n",
    "\n",
    "print('rho1 =',rho1)\n",
    "print('rho2 =', rho2)\n"
   ]
  },
  {
   "cell_type": "code",
   "execution_count": 109,
   "metadata": {},
   "outputs": [
    {
     "name": "stdout",
     "output_type": "stream",
     "text": [
      "dm = 0.11751193592570336 kilogram / second\n",
      "dV = 1.6863804810712595 liter / second\n",
      "V = 5.916647903967142 meter / second\n"
     ]
    }
   ],
   "source": [
    "# Caudal\n",
    "dm = Q_c/(h2-h3)\n",
    "dVol = dm/rho2\n",
    "V = dVol/(np.pi*D**2/4)\n",
    "print(f\"dm = {dm.to(u.kg/u.s)}\")\n",
    "print(f\"dV = {dVol.to(u.L/u.s)}\")\n",
    "print(f\"V = {V.to(u.m/u.s)}\")"
   ]
  },
  {
   "cell_type": "markdown",
   "metadata": {},
   "source": [
    "Con la velocidad, se calcula el número de Reynolds y, con este, el factor de fricción."
   ]
  },
  {
   "cell_type": "code",
   "execution_count": 110,
   "metadata": {},
   "outputs": [
    {
     "name": "stdout",
     "output_type": "stream",
     "text": [
      "Re = 373445.0962286964 dimensionless\n",
      "f = 0.015506123397328559 dimensionless\n"
     ]
    }
   ],
   "source": [
    "# Factor de fricción\n",
    "Re = (fld.Reynolds(D=D, rho=rho1, V=V, mu=mu1)).to('dimensionless')\n",
    "f = fld.friction.friction_factor(Re=Re, eD=epsilon/D)\n",
    "print(f\"Re = {Re}\")\n",
    "print(f\"f = {f}\")"
   ]
  },
  {
   "cell_type": "markdown",
   "metadata": {},
   "source": [
    "Dado que no se conoce el largo de la cañería, se calcula la pérdida de presión por unidad de largo:\n",
    "$$\\frac{\\Delta P}{L} = f\\frac{V^2}{2Dg}$$"
   ]
  },
  {
   "cell_type": "code",
   "execution_count": 111,
   "metadata": {},
   "outputs": [
    {
     "name": "stdout",
     "output_type": "stream",
     "text": [
      "0.7226795653988555 kilopascal / meter\n"
     ]
    }
   ],
   "source": [
    "# Pérdida de carga y largo de la tubería\n",
    "DP_lineal = f*rho1*V**2/(2*D)\n",
    "print(DP_lineal.to(u.kPa/u.m))"
   ]
  },
  {
   "cell_type": "markdown",
   "metadata": {},
   "source": [
    "b. Determine la velocidad (m/s) del R134a al ingresar al condensador.\n",
    "Dado que el sistema presenta una sola vía para el flujo, entonces todos los flujos másicos deben ser equivalentes."
   ]
  },
  {
   "cell_type": "code",
   "execution_count": 112,
   "metadata": {},
   "outputs": [
    {
     "name": "stdout",
     "output_type": "stream",
     "text": [
      "5.916647903967142 meter / second\n"
     ]
    }
   ],
   "source": [
    "dVol2 = dm/rho2\n",
    "V2 = dVol2/(np.pi*D**2/4)\n",
    "print((V2).to(u.m/u.s))\n"
   ]
  },
  {
   "cell_type": "markdown",
   "metadata": {},
   "source": [
    "c. Determine la velocidad (m/s) del R134a al salir del condensador.\n",
    "\n",
    "Se calcula igual que el punto anterior."
   ]
  },
  {
   "cell_type": "code",
   "execution_count": 113,
   "metadata": {},
   "outputs": [
    {
     "name": "stdout",
     "output_type": "stream",
     "text": [
      "0.37694411151712093 meter / second\n"
     ]
    }
   ],
   "source": [
    "dVol3 = dm/rho3\n",
    "V3 = dVol3/(np.pi*D**2/4)\n",
    "print((V3).to(u.m/u.s))"
   ]
  },
  {
   "cell_type": "markdown",
   "metadata": {},
   "source": [
    "d. Investigue sobre correlaciones de pérdida de carga en tuberías con flujo bifásico. Proponga\n",
    "una expresión para estimar la pérdida de carga en el condensador. ¿qué información sería necesaria?\n"
   ]
  },
  {
   "cell_type": "markdown",
   "metadata": {},
   "source": [
    "e. Cuál es la diferencia entre una tubería tipo L y una tipo M\n",
    "\n",
    "Las tuberías tipo L tienen un espesor proporcional mayor al de la tuberías tipo M. Esto les permite soportar mayores presiones y, por lo tanto, se utilizan en aplicaciones industriales o de transporte de gas licuado o gas natural. A motivo del mayor requerimiento de material, las tuberías L tienen un costo más elevado. Además, el mayor espesor de la tubería L le da una durabilidad notablemente mayor frente al mismo uso. [1,2]"
   ]
  },
  {
   "cell_type": "markdown",
   "metadata": {},
   "source": [
    "## Problema 2\n",
    "Gas Natural fluye con una velocidad promedio de 100 ft/s por una tubería de cobre de 300 m y $1\\frac{1}{4}$\n",
    "inch de diámetro. La temperatura del gas es 20 ◦C y la presión inicial es de 1000 psig."
   ]
  },
  {
   "cell_type": "markdown",
   "metadata": {},
   "source": [
    "a. Asumiendo que el flujo es incompresible, determine la variación de la presión (pérdida de\n",
    "carga) en la tubería."
   ]
  },
  {
   "cell_type": "markdown",
   "metadata": {},
   "source": [
    "Bernoulli:\n",
    "$$\\frac{P_1}{\\gamma} + \\cancel{\\frac{V_1^2}{2g}} + \\cancel{z_1} = \\frac{P_2}{\\gamma} + \\cancel{\\frac{V_2^2}{2g}} + \\cancel{z_2} + f\\frac{L}{D}\\frac{V_2^2}{2g}$$\n",
    "$$\\frac{P_1}{\\gamma} = \\frac{P_2}{\\gamma} + f\\frac{L}{D}\\frac{V^2}{2g}$$\n",
    "$$P_2 = P_1 - f\\frac{L}{D}\\frac{\\rho V^2}{2}$$"
   ]
  },
  {
   "cell_type": "code",
   "execution_count": 114,
   "metadata": {},
   "outputs": [],
   "source": [
    "# Datos\n",
    "V = (100*u.ft*u.s**(-1)).to(u.m*u.s**(-1))\n",
    "L = 300 * u.m\n",
    "D = (1.25 * u.inch).to(u.m)\n",
    "T = (20 * u.celsius).to(u.K)\n",
    "P1 = ((1000+14.7)*u.psi).to(u.Pa) # Está en psiG"
   ]
  },
  {
   "cell_type": "markdown",
   "metadata": {},
   "source": [
    "Para calcular las propiedades del gas natural, es necesario crear una mezcla. Utilizando los datos de Enel [3], se normalizan los tres componentes más relevantes para obtener:\n",
    "\n",
    "0.931677% Metano, 0.0660455% Etano, 0.00227743% Propano"
   ]
  },
  {
   "cell_type": "code",
   "execution_count": 115,
   "metadata": {},
   "outputs": [
    {
     "name": "stdout",
     "output_type": "stream",
     "text": [
      "rho: 50.724300150679966 kilogram / meter ** 3\n",
      "mu: 1.265970887616968e-05 pascal * second\n"
     ]
    }
   ],
   "source": [
    "# Propiedades\n",
    "fluid = \"Methane[0.931677]&Ethane[0.0660455]&Propane[0.00227743]\"\n",
    "rho = cp.PropsSI('D','T', T.magnitude, 'P',P1.magnitude, fluid)*u.kg/u.m**3\n",
    "mu = cp.PropsSI('V','T', T.magnitude, 'P',P1.magnitude, fluid)*u.Pa*u.s\n",
    "print(f\"rho: {rho1}\")\n",
    "print(f\"mu: {mu}\")"
   ]
  },
  {
   "cell_type": "code",
   "execution_count": 116,
   "metadata": {},
   "outputs": [
    {
     "name": "stdout",
     "output_type": "stream",
     "text": [
      "Re = 4357915.076040234 dimensionless\n",
      "f = 0.012278121652104726 dimensionless\n"
     ]
    }
   ],
   "source": [
    "# Fricción\n",
    "Re = (fld.Reynolds(D=D, rho=rho, V=V, mu=mu)).to('dimensionless')\n",
    "epsilon = (fld.material_roughness('Copper'))*u.mm\n",
    "f = fld.friction.friction_factor(Re, eD=epsilon/D)\n",
    "print(f\"Re = {Re}\")\n",
    "print(f\"f = {f}\")\n"
   ]
  },
  {
   "cell_type": "code",
   "execution_count": 117,
   "metadata": {},
   "outputs": [
    {
     "name": "stdout",
     "output_type": "stream",
     "text": [
      "P1: 6996110.225377939 pascal\n",
      "P2: 3923884.1136408392 pascal\n"
     ]
    }
   ],
   "source": [
    "# Bernoulli\n",
    "P2 = P1 - (f*rho*V**2*L)/(2*D)\n",
    "print(f\"P1: {P1}\")\n",
    "print(f\"P2: {P2}\")\n"
   ]
  },
  {
   "cell_type": "markdown",
   "metadata": {},
   "source": [
    "b. Determine el grado de error introducido por el supuesto.\n",
    "\n",
    "Partiendo de la ecuación inicial:\n",
    "$$\\frac{P_1}{\\gamma_1} = \\frac{P_2}{\\gamma_2} + f\\frac{L}{D}\\frac{V^2}{2g}$$\n",
    "Se divide en pequeños tramos para realizar una iteración:\n",
    "$$\\frac{P_i}{\\rho} = \\frac{P_{i+1}}{\\rho} + f\\frac{dL}{D}\\frac{V^2}{2}$$\n",
    "$$P_{i+1} = P_i - f\\frac{dL}{D}\\frac{\\rho V^2}{2}$$"
   ]
  },
  {
   "cell_type": "code",
   "execution_count": 118,
   "metadata": {},
   "outputs": [
    {
     "name": "stdout",
     "output_type": "stream",
     "text": [
      "rhoi: 35.19673866374126 kilogram / meter ** 3\n",
      "Pi: 4556265.803968898 pascal\n"
     ]
    }
   ],
   "source": [
    "# Condiciones iniciales\n",
    "Pi = ((1000+14.7)*u.psi).to(u.Pa)\n",
    "rhoi = cp.PropsSI('D','T', T.magnitude, 'P',Pi.magnitude, fluid)*u.kg/u.m**3\n",
    "mui = cp.PropsSI('V','T', T.magnitude, 'P',Pi.magnitude, fluid)*u.Pa*u.s\n",
    "Rei = (fld.Reynolds(D=D, rho=rhoi, V=V, mu=mui))\n",
    "fi = fld.friction.friction_factor(Rei, eD=epsilon/D)\n",
    "\n",
    "# Tramos\n",
    "n = 50\n",
    "# Largo del tramo\n",
    "dL = L/n\n",
    "\n",
    "for i in range(n):\n",
    "    Pi -= (f*rhoi*V**2*dL)/(2*D)\n",
    "    # Se actualiza la densidad con la nueva presión\n",
    "    rhoi = cp.PropsSI('D','T', T.magnitude, 'P',Pi.magnitude, fluid)*u.kg/u.m**3\n",
    "    mui = cp.PropsSI('V','T', T.magnitude, 'P',Pi.magnitude, fluid)*u.Pa*u.s\n",
    "    Rei = (fld.Reynolds(D=D, rho=rhoi, V=V, mu=mui))\n",
    "    fi = fld.friction.friction_factor(Rei, eD=epsilon/D)\n",
    "print(f\"rhoi: {rhoi}\")\n",
    "print(f\"Pi: {Pi}\")\n"
   ]
  },
  {
   "cell_type": "markdown",
   "metadata": {},
   "source": [
    "Considerando la desviación del cálculo incompresible con respecto al compresible:\n",
    "$$error = \\frac{P_i-P_2}{P_i}$$"
   ]
  },
  {
   "cell_type": "code",
   "execution_count": 119,
   "metadata": {},
   "outputs": [
    {
     "name": "stdout",
     "output_type": "stream",
     "text": [
      "Error: 0.13879385390053411 dimensionless\n"
     ]
    }
   ],
   "source": [
    "err = (Pi-P2)/Pi\n",
    "print(f\"Error: {err}\")"
   ]
  },
  {
   "cell_type": "markdown",
   "metadata": {},
   "source": [
    "Se obtiene un 13\\% de error con respecto al valor compresible. De este modo, el valor incompresible permite hacerse una idea general de la pérdida de carga del sistema para un cálculo rápido, pero no entrega valores confiables para el diseño de sistemas complejos."
   ]
  },
  {
   "cell_type": "markdown",
   "metadata": {},
   "source": [
    "c. Verifique la validez del supuesto."
   ]
  },
  {
   "cell_type": "code",
   "execution_count": 120,
   "metadata": {},
   "outputs": [
    {
     "name": "stdout",
     "output_type": "stream",
     "text": [
      "rho1: 57.00904806016102 kilogram / meter ** 3\n",
      "rho2: 29.88707315407117 kilogram / meter ** 3\n",
      "r_rho: 0.5242513981733509 dimensionless\n"
     ]
    }
   ],
   "source": [
    "rho1 = cp.PropsSI('D','T', T.magnitude, 'P', P1.magnitude, fluid) * u.kg/(u.m)**3\n",
    "rho2 = cp.PropsSI('D', 'T',T.magnitude, 'P', P2.magnitude, fluid) * u.kg/(u.m)**3\n",
    "print(f\"rho1: {rho1}\")\n",
    "print(f\"rho2: {rho2}\")\n",
    "print(f\"r_rho: {rho2/rho1}\")"
   ]
  },
  {
   "cell_type": "markdown",
   "metadata": {},
   "source": [
    "Este supuesto no es muy válido, pues la densidad del Gas Natural disminuye a alrededor de un 52\\% de su valor inicial para la baja de presión evidenciada, este efecto será más notorio a medida que la tubería se alarge, pues también será mayor la pérdida de carga."
   ]
  },
  {
   "cell_type": "markdown",
   "metadata": {},
   "source": [
    "d. Haga una evaluación (gráfico) del error vs longitud de la tubería."
   ]
  },
  {
   "cell_type": "code",
   "execution_count": 121,
   "metadata": {},
   "outputs": [],
   "source": [
    "# Puntos para graficar \n",
    "l_L = [10, 50, 100, 200, 300, 400, 500]*u.m\n",
    "l_Pi = []\n",
    "l_P2 = []\n",
    "\n",
    "# Tramos\n",
    "n = 30\n",
    "\n",
    "for j in range(len(l_L)):\n",
    "    # Condiciones iniciales\n",
    "    Pi = ((1000+14.7)*u.psi).to(u.Pa)\n",
    "    rhoi = cp.PropsSI('D','T', T.magnitude, 'P',Pi.magnitude, fluid)*u.kg/u.m**3\n",
    "    mui = cp.PropsSI('V','T', T.magnitude, 'P',Pi.magnitude, fluid)*u.Pa*u.s\n",
    "    Rei = (fld.Reynolds(D=D, rho=rhoi, V=V, mu=mui))\n",
    "    fi = fld.friction.friction_factor(Rei, eD=epsilon/D)\n",
    "    \n",
    "    P2 = Pi - (fi*rhoi*V**2*l_L[j])/(2*D)\n",
    "\n",
    "    for i in range(n):\n",
    "        dL = l_L[j]/n\n",
    "        Pi -= (fi*rhoi*V**2*dL)/(2*D)\n",
    "        # Se actualiza la densidad con la nueva presión\n",
    "        rhoi = cp.PropsSI('D','T', T.magnitude, 'P',Pi.magnitude, fluid)*u.kg/u.m**3\n",
    "        mui = cp.PropsSI('V','T', T.magnitude, 'P',Pi.magnitude, fluid)*u.Pa*u.s\n",
    "        Rei = (fld.Reynolds(D=D, rho=rhoi, V=V, mu=mui))\n",
    "        fi = fld.friction.friction_factor(Rei, eD=epsilon/D)\n",
    "\n",
    "    l_P2.append(P2.magnitude)\n",
    "    l_Pi.append(Pi.magnitude)\n",
    "l_P2 *= u.Pa\n",
    "l_Pi *= u.Pa\n"
   ]
  },
  {
   "cell_type": "code",
   "execution_count": 122,
   "metadata": {},
   "outputs": [
    {
     "name": "stderr",
     "output_type": "stream",
     "text": [
      "c:\\Users\\iangr\\AppData\\Local\\Programs\\Python\\Python312\\Lib\\site-packages\\matplotlib\\cbook.py:1398: UnitStrippedWarning: The unit of the quantity is stripped when downcasting to ndarray.\n",
      "  return np.asarray(x, float)\n"
     ]
    },
    {
     "data": {
      "image/png": "[encoded data removed]",
      "text/plain": [
       "<Figure size 640x480 with 1 Axes>"
      ]
     },
     "metadata": {},
     "output_type": "display_data"
    }
   ],
   "source": [
    "plt.plot(l_L, (l_Pi).to(u.MPa), label='Presión diferencial')\n",
    "plt.plot(l_L, (l_P2).to(u.MPa), label='Presión incompresible')\n",
    "plt.title('Presión final en función del largo')\n",
    "plt.xlabel('Largo (m)')\n",
    "plt.ylabel('Presión (MPa)')\n",
    "plt.legend()\n",
    "plt.show()"
   ]
  },
  {
   "cell_type": "code",
   "execution_count": 123,
   "metadata": {},
   "outputs": [
    {
     "name": "stdout",
     "output_type": "stream",
     "text": [
      "[0.011682527527035441, 0.30205967385447385, 1.2605407190424263, 5.4947170830695615, 13.497404656336407, 26.25056577911884, 44.97130558916112]\n"
     ]
    }
   ],
   "source": [
    "l_err = []\n",
    "for i in range(len(l_Pi)):\n",
    "    l_err.append(100*(l_Pi[i].magnitude-l_P2[i].magnitude)/l_Pi[i].magnitude)\n",
    "print(l_err)"
   ]
  },
  {
   "cell_type": "code",
   "execution_count": 124,
   "metadata": {},
   "outputs": [
    {
     "data": {
      "image/png": "[encoded data removed]",
      "text/plain": [
       "<Figure size 640x480 with 1 Axes>"
      ]
     },
     "metadata": {},
     "output_type": "display_data"
    }
   ],
   "source": [
    "plt.plot(l_L, l_err)\n",
    "plt.title('Error en función del largo')\n",
    "plt.xlabel('Largo (m)')\n",
    "plt.ylabel('Error (%)')\n",
    "plt.show()"
   ]
  },
  {
   "cell_type": "markdown",
   "metadata": {},
   "source": [
    "e. ¿Cuánto influencia la temperatura en la pérdida de carga? Grafique.\n",
    "\n",
    "Realizando el mismo procedicimiento que antes, pero esta vez variando la temperatura, se obtiene:"
   ]
  },
  {
   "cell_type": "code",
   "execution_count": 125,
   "metadata": {},
   "outputs": [],
   "source": [
    "# Puntos para graficar \n",
    "l_T = ([-10, 0, 10, 20, 30, 40, 50]*u.celsius).to(u.K)\n",
    "l_Pi = []\n",
    "l_P2 = []\n",
    "\n",
    "# Tramos\n",
    "n = 30\n",
    "dL = L/n\n",
    "\n",
    "for j in range(len(l_T)):\n",
    "    # Condiciones iniciales\n",
    "    Pi = ((1000+14.7)*u.psi).to(u.Pa)\n",
    "    rhoi = cp.PropsSI('D','T', l_T[j].magnitude, 'P',Pi.magnitude, fluid)*u.kg/u.m**3\n",
    "    mui = cp.PropsSI('V','T', l_T[j].magnitude, 'P',Pi.magnitude, fluid)*u.Pa*u.s\n",
    "    Rei = (fld.Reynolds(D=D, rho=rhoi, V=V, mu=mui))\n",
    "    fi = fld.friction.friction_factor(Rei, eD=epsilon/D)\n",
    "    \n",
    "    P2 = Pi - (fi*rhoi*V**2*L)/(2*D)\n",
    "\n",
    "    for i in range(n):\n",
    "        Pi -= (fi*rhoi*V**2*dL)/(2*D)\n",
    "        # Se actualiza la densidad con la nueva presión\n",
    "        rhoi = cp.PropsSI('D','T', l_T[j].magnitude, 'P',Pi.magnitude, fluid)*u.kg/u.m**3\n",
    "        mui = cp.PropsSI('V','T', l_T[j].magnitude, 'P',Pi.magnitude, fluid)*u.Pa*u.s\n",
    "        Rei = (fld.Reynolds(D=D, rho=rhoi, V=V, mu=mui))\n",
    "        fi = fld.friction.friction_factor(Rei, eD=epsilon/D)\n",
    "\n",
    "    l_P2.append(P2.magnitude)\n",
    "    l_Pi.append(Pi.magnitude)\n",
    "l_P2 *= u.Pa\n",
    "l_Pi *= u.Pa"
   ]
  },
  {
   "cell_type": "code",
   "execution_count": 126,
   "metadata": {},
   "outputs": [
    {
     "data": {
      "image/png": "[encoded data removed]",
      "text/plain": [
       "<Figure size 640x480 with 1 Axes>"
      ]
     },
     "metadata": {},
     "output_type": "display_data"
    }
   ],
   "source": [
    "plt.plot((l_T).to(u.celsius), (l_Pi).to(u.MPa), label='Presión diferencial')\n",
    "plt.plot((l_T).to(u.celsius), (l_P2).to(u.MPa), label='Presión incompresible')\n",
    "plt.title('Presión final en función de la temperatura')\n",
    "plt.xlabel('Temperatura (°C)')\n",
    "plt.ylabel('Presión (MPa)')\n",
    "plt.legend()\n",
    "plt.show()"
   ]
  },
  {
   "cell_type": "markdown",
   "metadata": {},
   "source": [
    "## Problema 3\n",
    "Se utiliza una tubería horizontal para transportar etanol (alcohol etílico) a 20 ◦C a lo largo de una\n",
    "distancia de 3 km. La tubería está hecha de acero comercial. El caudal requerido de etanol es de 40\n",
    "L/s. La bomba conectada a esta tubería puede superar una caída de presión de hasta 200 kPa en la\n",
    "tubería."
   ]
  },
  {
   "cell_type": "markdown",
   "metadata": {},
   "source": [
    "a. Especifique el tamaño apropiado (diámetro nominal) de una tubería de tipo Schedule 40 para esta tubería.\n",
    "Se toma el valor de epsilon de PipeFlow [4]:"
   ]
  },
  {
   "cell_type": "code",
   "execution_count": 127,
   "metadata": {},
   "outputs": [],
   "source": [
    "# Datos\n",
    "T = (20 * u.celsius).to(u.K)\n",
    "L = 3E3 * u.m\n",
    "dVol = 40 * u.L*u.s**(-1)\n",
    "DP_max = 200E3 * u.Pa\n",
    "\n",
    "fluid = \"Ethanol\"\n",
    "epsilon = (0.045*u.mm).to(u.m)"
   ]
  },
  {
   "cell_type": "code",
   "execution_count": 128,
   "metadata": {},
   "outputs": [],
   "source": [
    "# Propiedades\n",
    "rho = cp.PropsSI('D','Q', 0, 'P', DP_max.magnitude, fluid)*u.kg/u.m**3\n",
    "mu = cp.PropsSI('V','Q', 0, 'P', DP_max.magnitude, fluid)*u.Pa*u.s"
   ]
  },
  {
   "cell_type": "markdown",
   "metadata": {},
   "source": [
    "Bernoulli:\n",
    "$$\\frac{P_1}{\\gamma} + \\cancel{\\frac{V_1^2}{2g}} + \\cancel{z_1} = \\frac{P_2}{\\gamma} + \\cancel{\\frac{V_2^2}{2g}} + \\cancel{z_2} + f\\frac{L}{D}\\frac{V_2^2}{2g}$$\n",
    "Se obtiene un sistema de dos ecuaciones.\n",
    "$$200kPa \\geq \\Delta P = f\\frac{L}{D}\\frac{\\rho V^2}{2} = f\\frac{8\\rho L}{D^5\\pi^2}\\dot{\\forall}^2$$\n",
    "$$40Ls^{-1} = \\dot{\\forall} = VA = V\\frac{\\pi D^2}{4}$$\n",
    "Se quiere resolver para D, por lo tanto:\n",
    "$$200kPa \\geq \\Delta P = f\\frac{8\\rho L}{D^5\\pi^2}\\dot{\\forall}^2$$\n",
    "$$V = \\frac{160Ls^{-1}}{\\pi D^2}$$\n",
    "Como existe diámetros fijos para las tuberías schedule 40, se crea una lista con valores extraídos de Wesco [5]. Además, por propósitos de simplicidad, se redondean los valores obtenidos, tratando de mantener por lo menos tres figuras significativas."
   ]
  },
  {
   "cell_type": "code",
   "execution_count": 129,
   "metadata": {},
   "outputs": [
    {
     "name": "stdout",
     "output_type": "stream",
     "text": [
      "Re = [33909193, 16954596, 11303064, 8477298, 5651532, 4238649, 3390919, 2825766, 2119324, 1695459, 1412883, 1211042, 1059662, 706441, 529831, 423864]\n",
      "f = [0.0428, 0.0339, 0.0299, 0.0274, 0.0245, 0.0227, 0.0215, 0.0206, 0.0192, 0.0183, 0.0177, 0.0172, 0.0168, 0.0159, 0.0156, 0.0155]\n"
     ]
    }
   ],
   "source": [
    "l_D = ([1/8, 1/4, 3/8, 1/2, 3/4, 1, 1.25, 1.5, 2, 2.5, 3, 3.5, 4, 6, 8, 10]*u.inch).to(u.m)\n",
    "\n",
    "V = (4*dVol/(np.pi*l_D**2)).to(u.m/u.s)\n",
    "\n",
    "l_Re = []\n",
    "l_f = []\n",
    "for i in range(len(l_D)):\n",
    "    Re = (fld.Reynolds(D=l_D[i], rho=rho, V=V[i], mu=mu)).to('dimensionless')\n",
    "    l_Re.append(int(Re.magnitude))\n",
    "    f = fld.friction.friction_factor(Re=l_Re[i], eD=epsilon/l_D[i])\n",
    "    l_f.append(f.magnitude.round(4))\n",
    "print(f\"Re = {l_Re}\")\n",
    "print(f\"f = {l_f}\")"
   ]
  },
  {
   "cell_type": "code",
   "execution_count": 130,
   "metadata": {},
   "outputs": [
    {
     "name": "stdout",
     "output_type": "stream",
     "text": [
      "DP = [370366958406874   9167231228090   1064764052956    231546953954     27264547760      5994657681      1860488225       716389902       158449101        49486823        19235590         8648220         4332592          539982          125722           40932] pascal\n"
     ]
    }
   ],
   "source": [
    "l_DP = []\n",
    "l_DP2 = []\n",
    "for i in range(len(l_D)):\n",
    "    DP = l_f[i]*rho*V[i]**2*L/(2*l_D[i])\n",
    "    l_DP.append(int(DP.magnitude))\n",
    "l_DP *= u.Pa\n",
    "print(f\"DP = {l_DP}\")"
   ]
  },
  {
   "cell_type": "code",
   "execution_count": 131,
   "metadata": {},
   "outputs": [
    {
     "name": "stdout",
     "output_type": "stream",
     "text": [
      "La menor cañería que cumple las especificaciones del problema es:\n",
      "D = 8.0 inch\n",
      "Con una caida de presión de 125722 pascal\n"
     ]
    }
   ],
   "source": [
    "for i in range(len(l_DP)):\n",
    "    if l_DP[i].magnitude < DP_max.magnitude:\n",
    "        print(f\"La menor cañería que cumple las especificaciones del problema es:\")\n",
    "        print(f\"D = {l_D[i].to(u.inch)}\")\n",
    "        print(f\"Con una caida de presión de {l_DP[i]}\")\n",
    "        break"
   ]
  },
  {
   "cell_type": "markdown",
   "metadata": {},
   "source": [
    "b. Grafique el caudal máximo que sería entregado por diferentes diametros del schedule\n",
    "indicado.\n",
    "\n",
    "Esta vez, se asume que la presión queda fija en $200kPa$ y así obtener el valor máximo:\n",
    "$$200kPa = f\\frac{L}{D}\\frac{\\rho V^2}{2}$$\n",
    "$$40Ls^{-1} = \\dot{\\forall} = VA = V\\frac{\\pi D^2}{4}$$\n",
    "Reordenando:\n",
    "$$V = \\sqrt{\\frac{2D\\times 200kPa}{fL\\rho}}$$\n",
    "$$\\dot{\\forall} = V\\frac{\\pi D^2}{4}$$\n"
   ]
  },
  {
   "cell_type": "code",
   "execution_count": 132,
   "metadata": {},
   "outputs": [
    {
     "ename": "TypeError",
     "evalue": "Neither Quantity object nor its magnitude (0.03175)supports indexing",
     "output_type": "error",
     "traceback": [
      "\u001b[1;31m---------------------------------------------------------------------------\u001b[0m",
      "\u001b[1;31mTypeError\u001b[0m                                 Traceback (most recent call last)",
      "File \u001b[1;32mc:\\Users\\iangr\\AppData\\Local\\Programs\\Python\\Python312\\Lib\\site-packages\\pint\\facets\\numpy\\quantity.py:257\u001b[0m, in \u001b[0;36mNumpyQuantity.__getitem__\u001b[1;34m(self, key)\u001b[0m\n\u001b[0;32m    256\u001b[0m \u001b[38;5;28;01mtry\u001b[39;00m:\n\u001b[1;32m--> 257\u001b[0m     \u001b[38;5;28;01mreturn\u001b[39;00m \u001b[38;5;28mtype\u001b[39m(\u001b[38;5;28mself\u001b[39m)(\u001b[38;5;28;43mself\u001b[39;49m\u001b[38;5;241;43m.\u001b[39;49m\u001b[43m_magnitude\u001b[49m\u001b[43m[\u001b[49m\u001b[43mkey\u001b[49m\u001b[43m]\u001b[49m, \u001b[38;5;28mself\u001b[39m\u001b[38;5;241m.\u001b[39m_units)\n\u001b[0;32m    258\u001b[0m \u001b[38;5;28;01mexcept\u001b[39;00m PintTypeError:\n",
      "\u001b[1;31mTypeError\u001b[0m: 'float' object is not subscriptable",
      "\nDuring handling of the above exception, another exception occurred:\n",
      "\u001b[1;31mTypeError\u001b[0m                                 Traceback (most recent call last)",
      "Cell \u001b[1;32mIn[132], line 4\u001b[0m\n\u001b[0;32m      2\u001b[0m \u001b[38;5;28;01mfor\u001b[39;00m i \u001b[38;5;129;01min\u001b[39;00m \u001b[38;5;28mrange\u001b[39m(\u001b[38;5;28mlen\u001b[39m(l_D)):\n\u001b[0;32m      3\u001b[0m     V \u001b[38;5;241m=\u001b[39m np\u001b[38;5;241m.\u001b[39msqrt(\u001b[38;5;241m2\u001b[39m\u001b[38;5;241m*\u001b[39ml_D[i]\u001b[38;5;241m*\u001b[39mDP_max\u001b[38;5;241m/\u001b[39m(l_f[i]\u001b[38;5;241m*\u001b[39mrho\u001b[38;5;241m*\u001b[39mL))\n\u001b[1;32m----> 4\u001b[0m     dVol \u001b[38;5;241m=\u001b[39m (V\u001b[38;5;241m*\u001b[39mnp\u001b[38;5;241m.\u001b[39mpi\u001b[38;5;241m*\u001b[39m\u001b[43mD\u001b[49m\u001b[43m[\u001b[49m\u001b[43mi\u001b[49m\u001b[43m]\u001b[49m\u001b[38;5;241m*\u001b[39m\u001b[38;5;241m*\u001b[39m\u001b[38;5;241m2\u001b[39m\u001b[38;5;241m/\u001b[39m\u001b[38;5;241m4\u001b[39m)\u001b[38;5;241m.\u001b[39mto(u\u001b[38;5;241m.\u001b[39mL\u001b[38;5;241m/\u001b[39mu\u001b[38;5;241m.\u001b[39ms)\n\u001b[0;32m      5\u001b[0m     l_dVol\u001b[38;5;241m.\u001b[39mappend(dVol\u001b[38;5;241m.\u001b[39mmagnitude)\n\u001b[0;32m      6\u001b[0m \u001b[38;5;28mprint\u001b[39m(\u001b[38;5;124mf\u001b[39m\u001b[38;5;124m\"\u001b[39m\u001b[38;5;124mdVol = \u001b[39m\u001b[38;5;132;01m{\u001b[39;00ml_dVol\u001b[38;5;132;01m}\u001b[39;00m\u001b[38;5;124m\"\u001b[39m)\n",
      "File \u001b[1;32mc:\\Users\\iangr\\AppData\\Local\\Programs\\Python\\Python312\\Lib\\site-packages\\pint\\facets\\numpy\\quantity.py:261\u001b[0m, in \u001b[0;36mNumpyQuantity.__getitem__\u001b[1;34m(self, key)\u001b[0m\n\u001b[0;32m    259\u001b[0m     \u001b[38;5;28;01mraise\u001b[39;00m\n\u001b[0;32m    260\u001b[0m \u001b[38;5;28;01mexcept\u001b[39;00m \u001b[38;5;167;01mTypeError\u001b[39;00m:\n\u001b[1;32m--> 261\u001b[0m     \u001b[38;5;28;01mraise\u001b[39;00m \u001b[38;5;167;01mTypeError\u001b[39;00m(\n\u001b[0;32m    262\u001b[0m         \u001b[38;5;124m\"\u001b[39m\u001b[38;5;124mNeither Quantity object nor its magnitude (\u001b[39m\u001b[38;5;132;01m{}\u001b[39;00m\u001b[38;5;124m)\u001b[39m\u001b[38;5;124m\"\u001b[39m\n\u001b[0;32m    263\u001b[0m         \u001b[38;5;124m\"\u001b[39m\u001b[38;5;124msupports indexing\u001b[39m\u001b[38;5;124m\"\u001b[39m\u001b[38;5;241m.\u001b[39mformat(\u001b[38;5;28mself\u001b[39m\u001b[38;5;241m.\u001b[39m_magnitude)\n\u001b[0;32m    264\u001b[0m     )\n",
      "\u001b[1;31mTypeError\u001b[0m: Neither Quantity object nor its magnitude (0.03175)supports indexing"
     ]
    }
   ],
   "source": [
    "l_dVol = []\n",
    "for i in range(len(l_D)):\n",
    "    V = np.sqrt(2*l_D[i]*DP_max/(l_f[i]*rho*L))\n",
    "    dVol = (V*np.pi*D[i]**2/4).to(u.L/u.s)\n",
    "    l_dVol.append(dVol.magnitude)\n",
    "print(f\"dVol = {l_dVol}\")"
   ]
  },
  {
   "cell_type": "code",
   "execution_count": null,
   "metadata": {},
   "outputs": [
    {
     "name": "stderr",
     "output_type": "stream",
     "text": [
      "c:\\Users\\iangr\\AppData\\Local\\Programs\\Python\\Python312\\Lib\\site-packages\\matplotlib\\cbook.py:1398: UnitStrippedWarning: The unit of the quantity is stripped when downcasting to ndarray.\n",
      "  return np.asarray(x, float)\n"
     ]
    },
    {
     "data": {
      "image/png": "[encoded data removed]",
      "text/plain": [
       "<Figure size 640x480 with 1 Axes>"
      ]
     },
     "metadata": {},
     "output_type": "display_data"
    }
   ],
   "source": [
    "plt.plot(l_D.to(u.inch), l_dVol, label=\"Caudal Esperado\")\n",
    "plt.plot(l_D.to(u.inch), 40*np.ones(len(l_D)), 'r--', label = \"Caudal Mínimo Requerido\")\n",
    "plt.title(\"Caudal en función del diámetro\")\n",
    "plt.xlabel(\"Diámetro [in]\")\n",
    "plt.ylabel(\"Caudal [L/s]\")\n",
    "plt.grid()\n",
    "plt.legend()\n",
    "plt.show()"
   ]
  },
  {
   "cell_type": "markdown",
   "metadata": {},
   "source": [
    "## Problema 4\n",
    "Considere el plano hidráulico de la localidad de Hualañé."
   ]
  },
  {
   "cell_type": "markdown",
   "metadata": {},
   "source": [
    "a. Establezca un código computacional, que permita estimar la pérdida de carga máxima en el sistema, cuando todas las casas tienen una llave de\n",
    "lavamanos abierta.\n",
    "\n",
    "De acuerdo a la Superintendencia de Servicios Sanitarios, \"el Manual de Proyectos de Agua Potable Rural 2019, dicta que los servicios que fueron construidos y rehabilitados a partir del año 2020 deberán tener una presión mínima de servicio de 15 metros columna de agua (1,5 bar), y una máxima de 70 metros columna de agua (7bar)\". Además, la pérdida de carga en el arranque no debe superar los 5mca al abrir la llave [6].\n",
    "\n",
    "Con respecto al caudal, este presenta una decisión de diseño, \"el caudal recomendado para uso doméstico es entre 10 y 18 litros por minuto\" [7]. Considerando una llave abierta por cada casa, y un total de 22 casas visibles en el plano, el caudal debe ser un mínimo de $220Lmin^{-1}$\n",
    "\n",
    "Con respecto al diámetro de las tuberías, \"las velocidades del agua en las tuberías no deben exceder de 2,5 m/s en las tuberías exteriores y de distribución principal\" [8]. Es decir, se deben escoger considerando el siguiente criterio:\n",
    "$$V = \\frac{\\dot{\\forall}}{\\pi \\frac{D^2}{4}}$$\n",
    "$$D_{min} = \\sqrt{\\frac{4\\dot{\\forall}}{\\pi V}}$$\n",
    "Con:\n",
    "$$V = 2.5ms^{-1}$$\n",
    "\n",
    "Como en este caso, todas las casas se encuentran paralelas en el circuito, la presión sin considerar pérdidas de carga deberá ser para todas las casas igual."
   ]
  },
  {
   "cell_type": "code",
   "execution_count": 156,
   "metadata": {},
   "outputs": [
    {
     "name": "stdout",
     "output_type": "stream",
     "text": [
      "Diámetro mínimo central requerido = 1.7013240982752162 inch\n",
      "Diámetro mínimo individual requerido = 0.36272351650533907 inch\n"
     ]
    }
   ],
   "source": [
    "dVol_t = (220*u.L/u.min).to(u.L/u.s) # Caudal de agua\n",
    "dVol_i = (10*u.L/u.min).to(u.L/u.s) # Caudal de agua inicial\n",
    "Dmin_t = np.sqrt(4*dVol_t/(np.pi*2.5*u.m/u.s)) # Diámetro mínimo\n",
    "Dmin_i = np.sqrt(4*dVol_i/(np.pi*2.5*u.m/u.s)) # Diámetro mínimo individual\n",
    "print(f\"Diámetro mínimo central requerido = {Dmin_t.to(u.inch)}\")\n",
    "print(f\"Diámetro mínimo individual requerido = {Dmin_i.to(u.inch)}\")"
   ]
  },
  {
   "cell_type": "markdown",
   "metadata": {},
   "source": [
    "Es decir, se requiere una tubería central de por lo menos $1\\frac{3}{4}\\ inch$, mientras una tubería de $\\frac{1}{2}\\ inch$ sería suficiente para las casas individuales."
   ]
  },
  {
   "cell_type": "code",
   "execution_count": 5,
   "metadata": {},
   "outputs": [
    {
     "name": "stdout",
     "output_type": "stream",
     "text": [
      "157.39598834831446\n"
     ]
    }
   ],
   "source": [
    "# Largo de la Tubería por tramos\n",
    "# Primera Vertical\n",
    "L1 = 48.55\n",
    "# Horizontal hasta primera bifuración. Se consideran tramos rectos en ciertos intervalos\n",
    "L2 = np.sqrt(4.79**2 + 1.03**2) + np.sqrt(120**2+ (108.17-101.03)**2) + np.sqrt(20**2 + (144.79-124.79)**2) + 4\n",
    "\n",
    "print(L2)\n"
   ]
  },
  {
   "cell_type": "code",
   "execution_count": 157,
   "metadata": {},
   "outputs": [],
   "source": [
    "T = (20 * u.celsius).to(u.K) # Temperatura del suelo\n",
    "\n",
    "D_t = (1.75*u.inch).to(u.m) # Diámetro del tubo central\n",
    "D_i = (0.5*u.inch).to(u.m) # Diámetro de los tubos individuales\n",
    "V_t = dVol_t/(np.pi*D_t**2/4) # Velocidad en el tubo central\n",
    "V_i = dVol_i/(np.pi*D_i**2/4) # Velocidad en los tubos individuales\n",
    "\n",
    "epsilon = (0.0015*u.mm).to(u.m) # Rugosidad del tubo [9]\n",
    "\n",
    "fluid = \"water\""
   ]
  },
  {
   "cell_type": "code",
   "execution_count": 159,
   "metadata": {},
   "outputs": [
    {
     "name": "stdout",
     "output_type": "stream",
     "text": [
      "f_t = 0.018004897722099917 dimensionless\n",
      "f_i = 0.02731826952047547 dimensionless\n"
     ]
    }
   ],
   "source": [
    "rho = cp.PropsSI('D','T', T.magnitude, 'P', DP_max.magnitude, fluid)*u.kg/u.m**3\n",
    "mu = cp.PropsSI('V','T', T.magnitude, 'P', DP_max.magnitude, fluid)*u.Pa*u.s\n",
    "\n",
    "Re_t = (fld.Reynolds(D=D_t, rho=rho, V=V_t, mu=mu))\n",
    "f_t = fld.friction.friction_factor(Re_t, eD=epsilon/D_t)\n",
    "\n",
    "Re_i = (fld.Reynolds(D=D_i, rho=rho, V=V_i, mu=mu))\n",
    "f_i = fld.friction.friction_factor(Re_i, eD=epsilon/D_i)\n",
    "\n",
    "print(f\"f_t = {f_t}\")\n",
    "print(f\"f_i = {f_i}\")"
   ]
  },
  {
   "cell_type": "markdown",
   "metadata": {},
   "source": [
    "b. Grafique la pérdida de carga asociada a cada casa si el diámetro de todas las\n",
    "tuberías es de 1 pulgada."
   ]
  },
  {
   "cell_type": "code",
   "execution_count": null,
   "metadata": {},
   "outputs": [],
   "source": []
  },
  {
   "cell_type": "markdown",
   "metadata": {},
   "source": [
    "# Bibliografía\n",
    "\n",
    "[1] https://woolfplumbing.com.au/blog/the-differences-between-copper-pipes-type-l-and-type-m\n",
    "\n",
    "[2] https://sodimac.falabella.com/sodimac-cl/page/como-elegir-tuberias-y-fittings-de-cobre\n",
    "\n",
    "[3] https://www.enel.cl/es/inversionistas/inversionistas-enel-generacion/nuestras-centrales/gasoducto/informacion-general.html\n",
    "\n",
    "[4] https://www.pipeflow.com/pipe-pressure-drop-calculations/pipe-roughness\n",
    "\n",
    "[5] https://www.wesco.com.co/default.asp?iID=GFLJKE\n",
    "\n",
    "[6] https://www.siss.gob.cl/586/articles-19503_Man_Pre_SSR.pdf\n",
    "\n",
    "[7] https://www.junkers-bosch.es/conocimiento/agua-caliente/caudal-minimo/\n",
    "\n",
    "[8] https://www.google.com/url?sa=t&source=web&rct=j&opi=89978449&url=https://estudiantes.cftla.cl/parciales/descargar.php%3Fidm%3D66311&ved=2ahUKEwjWtYXRu7GIAxWcCrkGHTjxGw0QFnoECBYQAQ&usg=AOvVaw2tcraPkc8wn1s3hNnku404\n",
    "\n",
    "[9] http://catarina.udlap.mx/u_dl_a/tales/documentos/mgc/osorio_e_fj/capitulo3.pdf"
   ]
  }
 ],
 "metadata": {
  "kernelspec": {
   "display_name": "Python 3.9.12 ('Thermodynamics')",
   "language": "python",
   "name": "python3"
  },
  "language_info": {
   "codemirror_mode": {
    "name": "ipython",
    "version": 3
   },
   "file_extension": ".py",
   "mimetype": "text/x-python",
   "name": "python",
   "nbconvert_exporter": "python",
   "pygments_lexer": "ipython3",
   "version": "3.12.0"
  },
  "orig_nbformat": 4,
  "vscode": {
   "interpreter": {
    "hash": "e3e00a7bd6eae02d2ccac1eb55407bbbd95142f269ed3bd1034733c2cfa4f866"
   }
  }
 },
 "nbformat": 4,
 "nbformat_minor": 2
}
