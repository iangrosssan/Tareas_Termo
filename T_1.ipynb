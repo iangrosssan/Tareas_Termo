{
 "cells": [
  {
   "cell_type": "markdown",
   "metadata": {},
   "source": [
    "# Tarea 1: Piping\n",
    "### Pablo Correa e Ian Gross"
   ]
  },
  {
   "cell_type": "markdown",
   "metadata": {},
   "source": [
    "## Librerías"
   ]
  },
  {
   "cell_type": "code",
   "execution_count": 75,
   "metadata": {},
   "outputs": [],
   "source": [
    "import CoolProp.CoolProp as cp\n",
    "import fluids as fld\n",
    "import numpy as np\n",
    "import scipy.constants as cte\n",
    "\n",
    "from fluids.units import *\n"
   ]
  },
  {
   "cell_type": "markdown",
   "metadata": {},
   "source": [
    "## Problema 1\n",
    "En un sistema de refrigeración, el refrigerante R134a fluye a través de un tubo de cobre estándar tipo\n",
    "L de 3/4 de pulgada. En este sistema, se utiliza un desuperheter para calentar agua, como se muestra en\n",
    "la Figura P4.3. El R134a ingresa al desuperheter a 200 psia y 225 ºF. El desuperheter extrae suficiente\n",
    "energía, QDSH, de manera que el R134a ingresa al condensador como un vapor saturado a una presión\n",
    "levemente inferior. En el condensador, se transfiere energía desde el refrigerante a una tasa de 60000\n",
    "Btu/h. Esto hace que el R134a salga del condensador como un líquido saturado con una caída de presión\n",
    "despreciable."
   ]
  },
  {
   "cell_type": "markdown",
   "metadata": {},
   "source": [
    "a. Determine la pérdida de carga en el desuperheater."
   ]
  },
  {
   "cell_type": "code",
   "execution_count": 105,
   "metadata": {},
   "outputs": [],
   "source": [
    "# Datos\n",
    "D = (0.75*u.inch).to(u.m)\n",
    "P1 = (200*u.psi).to(u.pascal) # psia = psi\n",
    "T1 = (225*u.fahrenheit).to(u.kelvin)\n",
    "perdida_condensador = (6E4*u.Btu*u.hr**(-1)).to(u.W)\n",
    "\n",
    "z = 1"
   ]
  },
  {
   "cell_type": "code",
   "execution_count": 106,
   "metadata": {},
   "outputs": [
    {
     "name": "stdout",
     "output_type": "stream",
     "text": [
      "rho: 50.724300150679966 kilogram / meter ** 3, mu: 1.5309464786424217e-05 pascal * second\n"
     ]
    }
   ],
   "source": [
    "# Propiedades\n",
    "fluid = \"R134a\"\n",
    "epsilon = fld.material_roughness('Copper')\n",
    "rho = cp.PropsSI('D','T', T1.magnitude, 'P',P1.magnitude, fluid)*u.kg/u.m**3\n",
    "mu = cp.PropsSI('V','T', T1.magnitude, 'P',P1.magnitude, fluid)*u.Pa*u.s\n",
    "print(f\"rho: {rho}, mu: {mu}\")"
   ]
  },
  {
   "cell_type": "markdown",
   "metadata": {},
   "source": [
    "b. Determine la velocidad (m/s) del R134a al ingresar al condensador."
   ]
  },
  {
   "cell_type": "markdown",
   "metadata": {},
   "source": [
    "c. Determine la velocidad (m/s) del R134a al salir del condensador."
   ]
  },
  {
   "cell_type": "markdown",
   "metadata": {},
   "source": [
    "d. Investigue sobre correlaciones de pérdida de carga en tuberías con flujo bigfásico. Proponga\n",
    "una expresión para estimar la pérdida de carga en el condensador. ¿qué información sería necesaria?"
   ]
  },
  {
   "cell_type": "markdown",
   "metadata": {},
   "source": [
    "e. Cuál es la diferencia entre una tubería tipo L y una tipo M\n",
    "\n",
    "Las tuberías tipo L tienen un espesor proporcional mayor al de la tuberías tipo M. Esto les permite soportar mayores presiones y, por lo tanto, se utilizan en aplicaciones industriales o de transporte de gas licuado o gas natural. A motivo del mayor requerimiento de material, las tuberías L tienen un costo más elevado. Además, el mayor espesor de la tubería L le da una durabilidad notablemente mayor frente al mismo uso. [1,2]"
   ]
  },
  {
   "cell_type": "markdown",
   "metadata": {},
   "source": [
    "## Problema 2\n",
    "Gas Natural fluye con una velocidad promedio de 100 ft/s por una tubería de cobre de 300 m y $1\\frac{1}{4}$\n",
    "inch de diámetro. La temperatura del gas es 20 ◦C y la presión inicial es de 1 psig."
   ]
  },
  {
   "cell_type": "markdown",
   "metadata": {},
   "source": [
    "a. Asumiendo que el flujo es incompresible, determine la variación de la presión (pérdida de\n",
    "carga) en la tubería."
   ]
  },
  {
   "cell_type": "markdown",
   "metadata": {},
   "source": [
    "Bernoulli:\n",
    "$$\\frac{P_1}{\\gamma} + \\cancel{\\frac{V_1^2}{2g}} + \\cancel{z_1} = \\frac{P_2}{\\gamma} + \\cancel{\\frac{V_2^2}{2g}} + \\cancel{z_2} + f\\frac{L}{D}\\frac{V_2^2}{2g}$$\n",
    "$$\\frac{P_1}{\\gamma} = \\frac{P_2}{\\gamma} + f\\frac{L}{D}\\frac{V^2}{2g}$$\n",
    "$$P_2 = P_1 - f\\frac{L}{D}\\frac{\\rho V^2}{2}$$"
   ]
  },
  {
   "cell_type": "code",
   "execution_count": 100,
   "metadata": {},
   "outputs": [],
   "source": [
    "# Datos\n",
    "V = (100*u.ft*u.s**(-1)).to(u.m*u.s**(-1))\n",
    "L = 300 * u.m\n",
    "D = (1.25 * u.inch).to(u.m)\n",
    "T = (20 * u.celsius).to(u.kelvin)\n",
    "P1 = ((1+14.7)*u.psi).to(u.pascal) # Está en psiG"
   ]
  },
  {
   "cell_type": "markdown",
   "metadata": {},
   "source": [
    "Para calcular las propiedades del gas natural, es necesario crear una mezcla. Utilizando los datos de Enel [3], se normalizan los tres componentes más relevantes para obtener:\n",
    "\n",
    "0.931677% Metano, 0.0660455% Etano, 0.00227743% Propano"
   ]
  },
  {
   "cell_type": "code",
   "execution_count": 101,
   "metadata": {},
   "outputs": [
    {
     "name": "stdout",
     "output_type": "stream",
     "text": [
      "rho: 0.758210578030446 kilogram / meter ** 3, mu: 1.089867026972943e-05 pascal * second\n"
     ]
    }
   ],
   "source": [
    "# Propiedades\n",
    "fluid = \"Methane[0.931677]&Ethane[0.0660455]&Propane[0.00227743]\"\n",
    "rho = cp.PropsSI('D','T', T.magnitude, 'P',P1.magnitude, fluid)*u.kg/u.m**3\n",
    "mu = cp.PropsSI('V','T', T.magnitude, 'P',P1.magnitude, fluid)*u.Pa*u.s\n",
    "print(f\"rho: {rho}, mu: {mu}\")"
   ]
  },
  {
   "cell_type": "code",
   "execution_count": 94,
   "metadata": {},
   "outputs": [
    {
     "name": "stdout",
     "output_type": "stream",
     "text": [
      "Re = 67324.79161436268 dimensionless, f = 0.0987876126689345 dimensionless\n"
     ]
    }
   ],
   "source": [
    "# Fricción\n",
    "Re = (fld.Reynolds(D=D, rho=rho, V=V, mu=mu)).to('dimensionless')\n",
    "epsilon = (fld.material_roughness('Copper'))*u.m\n",
    "f = fld.friction.friction_factor(Re, eD=epsilon/D)\n",
    "print(f\"Re = {Re}, f = {f}\")\n"
   ]
  },
  {
   "cell_type": "code",
   "execution_count": 102,
   "metadata": {},
   "outputs": [
    {
     "name": "stdout",
     "output_type": "stream",
     "text": [
      "P2: -220505.35555028834 pascal\n"
     ]
    }
   ],
   "source": [
    "# Bernoulli\n",
    "P2 = P1 - (f*rho*V**2*L)/(2*D)\n",
    "print(f\"P2: {P2}\")"
   ]
  },
  {
   "cell_type": "markdown",
   "metadata": {},
   "source": [
    "b. Determine el grado de error introducido por el supuesto."
   ]
  },
  {
   "cell_type": "markdown",
   "metadata": {},
   "source": [
    "c. Verifique la validez del supuesto."
   ]
  },
  {
   "cell_type": "markdown",
   "metadata": {},
   "source": [
    "d. Haga una evaluación (gráfico) del error vs longitud de la tubería."
   ]
  },
  {
   "cell_type": "markdown",
   "metadata": {},
   "source": [
    "e. ¿Cuánto influencia la temperatura en la pérdida de carga? Grafique"
   ]
  },
  {
   "cell_type": "markdown",
   "metadata": {},
   "source": [
    "## Problema 3\n",
    "Se utiliza una tubería horizontal para transportar etanol (alcohol etílico) a 20 ◦C a lo largo de una\n",
    "distancia de 3 km. La tubería está hecha de acero comercial. El caudal requerido de etanol es de 40\n",
    "L/s. La bomba conectada a esta tubería puede superar una caída de presión de hasta 200 kPa en la\n",
    "tubería."
   ]
  },
  {
   "cell_type": "markdown",
   "metadata": {},
   "source": [
    "a. Especifique el tamaño apropiado (diámetro nominal) de una tubería de tipo Schedule 40 para esta tubería."
   ]
  },
  {
   "cell_type": "code",
   "execution_count": 38,
   "metadata": {},
   "outputs": [
    {
     "name": "stdout",
     "output_type": "stream",
     "text": [
      "200000.0 pascal\n"
     ]
    }
   ],
   "source": [
    "T = (20 * u.celsius).to(u.degree_Kelvin)\n",
    "L = 3E3 * u.m\n",
    "caudal = 40 * u.liters*u.s**(-1)\n",
    "caida_P = 200E3 * u.Pa"
   ]
  },
  {
   "cell_type": "markdown",
   "metadata": {},
   "source": [
    "b. Grafique el caudal máximo que sería entregado por diferentes diametros del schedule\n",
    "indicado."
   ]
  },
  {
   "cell_type": "markdown",
   "metadata": {},
   "source": [
    "## Problema 4\n",
    "Considere el plano hidráulico de la localidad de Hualañé."
   ]
  },
  {
   "cell_type": "markdown",
   "metadata": {},
   "source": [
    "a. Establezca un código computacional, que permita estimar la pérdida de carga máxima en el sistema, cuando todas las casas tienen una llave de\n",
    "lavamanos abierta."
   ]
  },
  {
   "cell_type": "markdown",
   "metadata": {},
   "source": [
    "b. Grafique la pérdida de carga asociada a cada casa si eldiametro de todas las\n",
    "tuberías es de 1 pulgada."
   ]
  },
  {
   "cell_type": "markdown",
   "metadata": {},
   "source": [
    "# Bibliografía\n",
    "\n",
    "[1] https://woolfplumbing.com.au/blog/the-differences-between-copper-pipes-type-l-and-type-m\n",
    "\n",
    "[2] https://sodimac.falabella.com/sodimac-cl/page/como-elegir-tuberias-y-fittings-de-cobre\n",
    "\n",
    "[3] https://www.enel.cl/es/inversionistas/inversionistas-enel-generacion/nuestras-centrales/gasoducto/informacion-general.html"
   ]
  },
  {
   "cell_type": "markdown",
   "metadata": {},
   "source": []
  }
 ],
 "metadata": {
  "kernelspec": {
   "display_name": "Python 3.9.12 ('Thermodynamics')",
   "language": "python",
   "name": "python3"
  },
  "language_info": {
   "codemirror_mode": {
    "name": "ipython",
    "version": 3
   },
   "file_extension": ".py",
   "mimetype": "text/x-python",
   "name": "python",
   "nbconvert_exporter": "python",
   "pygments_lexer": "ipython3",
   "version": "3.12.0"
  },
  "orig_nbformat": 4,
  "vscode": {
   "interpreter": {
    "hash": "e3e00a7bd6eae02d2ccac1eb55407bbbd95142f269ed3bd1034733c2cfa4f866"
   }
  }
 },
 "nbformat": 4,
 "nbformat_minor": 2
}
