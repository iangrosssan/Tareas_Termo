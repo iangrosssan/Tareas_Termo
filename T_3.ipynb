{
 "cells": [
  {
   "cell_type": "markdown",
   "metadata": {},
   "source": [
    "# Tarea 3: Piping y Bombas\n",
    "### Pablo Correa e Ian Gross"
   ]
  },
  {
   "cell_type": "markdown",
   "metadata": {},
   "source": [
    "## Librerías"
   ]
  },
  {
   "cell_type": "code",
   "execution_count": 5,
   "metadata": {},
   "outputs": [],
   "source": [
    "import CoolProp.CoolProp as cp\n",
    "import fluids as fld\n",
    "import numpy as np\n",
    "import scipy.constants as cte\n",
    "import scipy.optimize as opt\n",
    "import matplotlib.pyplot as plt\n",
    "import pandas as pd\n",
    "\n",
    "from fluids.units import *"
   ]
  },
  {
   "cell_type": "code",
   "execution_count": 21,
   "metadata": {},
   "outputs": [],
   "source": [
    "g = cte.g*u.m/u.s**2\n",
    "Patm = (1*u.atm).to(u.Pa)"
   ]
  },
  {
   "cell_type": "markdown",
   "metadata": {},
   "source": [
    "# Pregunta 1\n",
    "Considere el sistema de almacenamiento de energía visto en el laboratorio.\n",
    "\n",
    "A partir de los datos de operación del archivo anexo, verifique si la pérdida de carga observada se puede representar por la ecuación de Ergun.\n",
    "\n",
    "¿Cuánto es el error con respecto a la correlación? (3pts), ¿Cuanto afecta la temperatura y la variabilidad de las propiedades termofísicas del aire? (3pts).\n",
    "\n",
    "Asuma que el sistema de almacenamiento es un intercambiador de calor de flujo paralelo, donde el solido es uno de los medio de transferencia de calor. ¿Cuanto sería la efectividad del sistema (intercambiador de calor)? (3pts)"
   ]
  },
  {
   "cell_type": "code",
   "execution_count": 17,
   "metadata": {},
   "outputs": [
    {
     "data": {
      "text/html": [
       "<div>\n",
       "<style scoped>\n",
       "    .dataframe tbody tr th:only-of-type {\n",
       "        vertical-align: middle;\n",
       "    }\n",
       "\n",
       "    .dataframe tbody tr th {\n",
       "        vertical-align: top;\n",
       "    }\n",
       "\n",
       "    .dataframe thead th {\n",
       "        text-align: right;\n",
       "    }\n",
       "</style>\n",
       "<table border=\"1\" class=\"dataframe\">\n",
       "  <thead>\n",
       "    <tr style=\"text-align: right;\">\n",
       "      <th></th>\n",
       "      <th>Scan Sweep Time (s)</th>\n",
       "      <th>Temp. Entrada (°C)</th>\n",
       "      <th>Vel. Aire (m/s)</th>\n",
       "      <th>Temp. Aire (°C)</th>\n",
       "      <th>Presión Dif. Estanque (mbar)</th>\n",
       "      <th>Temp. Salida (°C)</th>\n",
       "    </tr>\n",
       "  </thead>\n",
       "  <tbody>\n",
       "    <tr>\n",
       "      <th>0</th>\n",
       "      <td>2024-09-25 09:49:13.522</td>\n",
       "      <td>14.079405</td>\n",
       "      <td>6.472987</td>\n",
       "      <td>13.120901</td>\n",
       "      <td>0.992468</td>\n",
       "      <td>17.538146</td>\n",
       "    </tr>\n",
       "    <tr>\n",
       "      <th>1</th>\n",
       "      <td>2024-09-25 09:49:23.515</td>\n",
       "      <td>14.078369</td>\n",
       "      <td>6.656212</td>\n",
       "      <td>13.121559</td>\n",
       "      <td>1.165138</td>\n",
       "      <td>17.564700</td>\n",
       "    </tr>\n",
       "    <tr>\n",
       "      <th>2</th>\n",
       "      <td>2024-09-25 09:49:33.515</td>\n",
       "      <td>14.084538</td>\n",
       "      <td>6.437116</td>\n",
       "      <td>13.121187</td>\n",
       "      <td>1.213865</td>\n",
       "      <td>17.573132</td>\n",
       "    </tr>\n",
       "    <tr>\n",
       "      <th>3</th>\n",
       "      <td>2024-09-25 09:49:43.515</td>\n",
       "      <td>14.115000</td>\n",
       "      <td>6.546101</td>\n",
       "      <td>13.121459</td>\n",
       "      <td>1.051219</td>\n",
       "      <td>17.570347</td>\n",
       "    </tr>\n",
       "    <tr>\n",
       "      <th>4</th>\n",
       "      <td>2024-09-25 09:49:53.515</td>\n",
       "      <td>14.115085</td>\n",
       "      <td>6.437106</td>\n",
       "      <td>13.121394</td>\n",
       "      <td>1.138136</td>\n",
       "      <td>17.589255</td>\n",
       "    </tr>\n",
       "    <tr>\n",
       "      <th>...</th>\n",
       "      <td>...</td>\n",
       "      <td>...</td>\n",
       "      <td>...</td>\n",
       "      <td>...</td>\n",
       "      <td>...</td>\n",
       "      <td>...</td>\n",
       "    </tr>\n",
       "    <tr>\n",
       "      <th>2193</th>\n",
       "      <td>2024-09-25 15:54:43.516</td>\n",
       "      <td>30.401201</td>\n",
       "      <td>6.624077</td>\n",
       "      <td>18.110073</td>\n",
       "      <td>-0.993292</td>\n",
       "      <td>19.313422</td>\n",
       "    </tr>\n",
       "    <tr>\n",
       "      <th>2194</th>\n",
       "      <td>2024-09-25 15:54:53.516</td>\n",
       "      <td>30.379024</td>\n",
       "      <td>6.654350</td>\n",
       "      <td>17.866438</td>\n",
       "      <td>-0.811574</td>\n",
       "      <td>19.329506</td>\n",
       "    </tr>\n",
       "    <tr>\n",
       "      <th>2195</th>\n",
       "      <td>2024-09-25 15:55:03.516</td>\n",
       "      <td>30.373109</td>\n",
       "      <td>6.654364</td>\n",
       "      <td>18.111046</td>\n",
       "      <td>-0.891405</td>\n",
       "      <td>19.376573</td>\n",
       "    </tr>\n",
       "    <tr>\n",
       "      <th>2196</th>\n",
       "      <td>2024-09-25 15:55:13.516</td>\n",
       "      <td>30.396446</td>\n",
       "      <td>6.623994</td>\n",
       "      <td>18.111007</td>\n",
       "      <td>-1.021911</td>\n",
       "      <td>19.408551</td>\n",
       "    </tr>\n",
       "    <tr>\n",
       "      <th>2197</th>\n",
       "      <td>2024-09-25 15:55:23.516</td>\n",
       "      <td>30.319782</td>\n",
       "      <td>6.654297</td>\n",
       "      <td>18.193865</td>\n",
       "      <td>-1.076229</td>\n",
       "      <td>19.419731</td>\n",
       "    </tr>\n",
       "  </tbody>\n",
       "</table>\n",
       "<p>2198 rows × 6 columns</p>\n",
       "</div>"
      ],
      "text/plain": [
       "         Scan Sweep Time (s)  Temp. Entrada (°C)  Vel. Aire (m/s)  \\\n",
       "0    2024-09-25 09:49:13.522           14.079405         6.472987   \n",
       "1    2024-09-25 09:49:23.515           14.078369         6.656212   \n",
       "2    2024-09-25 09:49:33.515           14.084538         6.437116   \n",
       "3    2024-09-25 09:49:43.515           14.115000         6.546101   \n",
       "4    2024-09-25 09:49:53.515           14.115085         6.437106   \n",
       "...                      ...                 ...              ...   \n",
       "2193 2024-09-25 15:54:43.516           30.401201         6.624077   \n",
       "2194 2024-09-25 15:54:53.516           30.379024         6.654350   \n",
       "2195 2024-09-25 15:55:03.516           30.373109         6.654364   \n",
       "2196 2024-09-25 15:55:13.516           30.396446         6.623994   \n",
       "2197 2024-09-25 15:55:23.516           30.319782         6.654297   \n",
       "\n",
       "      Temp. Aire (°C)  Presión Dif. Estanque (mbar)  Temp. Salida (°C)  \n",
       "0           13.120901                      0.992468          17.538146  \n",
       "1           13.121559                      1.165138          17.564700  \n",
       "2           13.121187                      1.213865          17.573132  \n",
       "3           13.121459                      1.051219          17.570347  \n",
       "4           13.121394                      1.138136          17.589255  \n",
       "...               ...                           ...                ...  \n",
       "2193        18.110073                     -0.993292          19.313422  \n",
       "2194        17.866438                     -0.811574          19.329506  \n",
       "2195        18.111046                     -0.891405          19.376573  \n",
       "2196        18.111007                     -1.021911          19.408551  \n",
       "2197        18.193865                     -1.076229          19.419731  \n",
       "\n",
       "[2198 rows x 6 columns]"
      ]
     },
     "execution_count": 17,
     "metadata": {},
     "output_type": "execute_result"
    }
   ],
   "source": [
    "headers = [\"Scan Sweep Time (s)\", \"Temp. Entrada (°C)\", \"Vel. Aire (m/s)\", \"Temp. Aire (°C)\",\"Presión Dif. Estanque (mbar)\", \"Temp. Salida (°C)\"]\n",
    "data = pd.read_excel(\"Ensayo Piloto Lleno T-220°C.xlsx\", skiprows=16, usecols=\"A,C:G\", names=headers)\n",
    "data"
   ]
  },
  {
   "cell_type": "code",
   "execution_count": 19,
   "metadata": {},
   "outputs": [
    {
     "data": {
      "text/html": [
       "<div>\n",
       "<style scoped>\n",
       "    .dataframe tbody tr th:only-of-type {\n",
       "        vertical-align: middle;\n",
       "    }\n",
       "\n",
       "    .dataframe tbody tr th {\n",
       "        vertical-align: top;\n",
       "    }\n",
       "\n",
       "    .dataframe thead th {\n",
       "        text-align: right;\n",
       "    }\n",
       "</style>\n",
       "<table border=\"1\" class=\"dataframe\">\n",
       "  <thead>\n",
       "    <tr style=\"text-align: right;\">\n",
       "      <th></th>\n",
       "      <th>Temp. Entrada (°C)</th>\n",
       "      <th>Vel. Aire (m/s)</th>\n",
       "      <th>Temp. Aire (°C)</th>\n",
       "      <th>Presión Dif. Estanque (mbar)</th>\n",
       "      <th>Temp. Salida (°C)</th>\n",
       "    </tr>\n",
       "  </thead>\n",
       "  <tbody>\n",
       "    <tr>\n",
       "      <th>Temp. Entrada (°C)</th>\n",
       "      <td>1.000000</td>\n",
       "      <td>0.586682</td>\n",
       "      <td>0.779613</td>\n",
       "      <td>0.665450</td>\n",
       "      <td>0.745914</td>\n",
       "    </tr>\n",
       "    <tr>\n",
       "      <th>Vel. Aire (m/s)</th>\n",
       "      <td>0.586682</td>\n",
       "      <td>1.000000</td>\n",
       "      <td>0.815704</td>\n",
       "      <td>0.820089</td>\n",
       "      <td>0.520827</td>\n",
       "    </tr>\n",
       "    <tr>\n",
       "      <th>Temp. Aire (°C)</th>\n",
       "      <td>0.779613</td>\n",
       "      <td>0.815704</td>\n",
       "      <td>1.000000</td>\n",
       "      <td>0.963905</td>\n",
       "      <td>0.798176</td>\n",
       "    </tr>\n",
       "    <tr>\n",
       "      <th>Presión Dif. Estanque (mbar)</th>\n",
       "      <td>0.665450</td>\n",
       "      <td>0.820089</td>\n",
       "      <td>0.963905</td>\n",
       "      <td>1.000000</td>\n",
       "      <td>0.736789</td>\n",
       "    </tr>\n",
       "    <tr>\n",
       "      <th>Temp. Salida (°C)</th>\n",
       "      <td>0.745914</td>\n",
       "      <td>0.520827</td>\n",
       "      <td>0.798176</td>\n",
       "      <td>0.736789</td>\n",
       "      <td>1.000000</td>\n",
       "    </tr>\n",
       "  </tbody>\n",
       "</table>\n",
       "</div>"
      ],
      "text/plain": [
       "                              Temp. Entrada (°C)  Vel. Aire (m/s)  \\\n",
       "Temp. Entrada (°C)                      1.000000         0.586682   \n",
       "Vel. Aire (m/s)                         0.586682         1.000000   \n",
       "Temp. Aire (°C)                         0.779613         0.815704   \n",
       "Presión Dif. Estanque (mbar)            0.665450         0.820089   \n",
       "Temp. Salida (°C)                       0.745914         0.520827   \n",
       "\n",
       "                              Temp. Aire (°C)  Presión Dif. Estanque (mbar)  \\\n",
       "Temp. Entrada (°C)                   0.779613                      0.665450   \n",
       "Vel. Aire (m/s)                      0.815704                      0.820089   \n",
       "Temp. Aire (°C)                      1.000000                      0.963905   \n",
       "Presión Dif. Estanque (mbar)         0.963905                      1.000000   \n",
       "Temp. Salida (°C)                    0.798176                      0.736789   \n",
       "\n",
       "                              Temp. Salida (°C)  \n",
       "Temp. Entrada (°C)                     0.745914  \n",
       "Vel. Aire (m/s)                        0.520827  \n",
       "Temp. Aire (°C)                        0.798176  \n",
       "Presión Dif. Estanque (mbar)           0.736789  \n",
       "Temp. Salida (°C)                      1.000000  "
      ]
     },
     "execution_count": 19,
     "metadata": {},
     "output_type": "execute_result"
    }
   ],
   "source": [
    "data.corr()"
   ]
  },
  {
   "cell_type": "markdown",
   "metadata": {},
   "source": [
    "# Pregunta 2\n",
    "Liquid  carbon  dioxide  enters  the  tubes  of  a  shell  and  tube  heat  exchanger  at  a  temperature of 0°C and a flow rate of 30 kg/s. The carbon dioxide is heated with a flow of city water that enters the shell side of the heat exchanger at a temperature of 40°C and a flow rate of 31 kg/s. The heat exchanger is a single shell, two-tube pass configuration with a 25in shell. The tubes are ¾in 10BWG laid out on a 1in triangular pitch. The heat exchanger is 2m long and contains 2 baffles per meter of length.\n",
    "* Asumiendo presión atmosférica en la entrada"
   ]
  },
  {
   "cell_type": "code",
   "execution_count": 34,
   "metadata": {},
   "outputs": [],
   "source": [
    "T_CO2 = (0*u.degC).to(u.K)\n",
    "dm_CO2 = 30*u.kg/u.s\n",
    "T_CityWater = (40*u.degC).to(u.K)\n",
    "dm_CityWater = 31*u.kg/u.s\n",
    "\n",
    "d_shell = (25*u.inch).to(u.m)\n",
    "do_tube = (0.75*u.inch).to(u.m)\n",
    "t_tube = t_from_gauge(10, schedule='BWG')\n",
    "di_tube = do_tube - t_tube\n",
    "l = 2*u.m\n",
    "A_shell = np.pi * d_shell * l\n",
    "A_tube = np.pi * di_tube * l\n",
    "\n",
    "# Fouling Factor\n",
    "R_CO2 = 0.000176*u.m**2*u.K/u.W\n",
    "R_CityWater = 0.000352*u.m**2*u.K/u.W\n"
   ]
  },
  {
   "cell_type": "code",
   "execution_count": 43,
   "metadata": {},
   "outputs": [
    {
     "name": "stdout",
     "output_type": "stream",
     "text": [
      "7558.734639617106 dimensionless 4.340630370366401 dimensionless\n"
     ]
    }
   ],
   "source": [
    "P_CO2 = cp.PropsSI('P', 'T', T_CO2.magnitude, 'Q', 0, 'CO2')*u.Pa\n",
    "\n",
    "cp_CO2 = cp.PropsSI('Cpmass', 'T', T_CO2.magnitude, 'Q', 0, 'CO2')*u.J/u.kg/u.K\n",
    "cp_CityWater = cp.PropsSI('Cpmass', 'T', T_CityWater.magnitude, 'P', Patm.magnitude, 'water')*u.J/u.kg/u.K\n",
    "Cmin = min(dm_CO2*cp_CO2, dm_CityWater*cp_CityWater)\n",
    "Cmax = max(dm_CO2*cp_CO2, dm_CityWater*cp_CityWater)\n",
    "Cr = Cmin/Cmax\n",
    "\n",
    "rho_CO2 = cp.PropsSI('D', 'T', T_CO2.magnitude, 'Q', 0, 'CO2')*u.kg/u.m**3\n",
    "mu_CO2 = cp.PropsSI('V', 'T', T_CO2.magnitude, 'Q', 0, 'CO2')*u.Pa*u.s\n",
    "\n",
    "rho_CityWater = cp.PropsSI('D', 'T', T_CityWater.magnitude, 'P', Patm.magnitude, 'water')*u.kg/u.m**3\n",
    "mu_CityWater = cp.PropsSI('V', 'T', T_CityWater.magnitude, 'P', Patm.magnitude, 'water')*u.Pa*u.s\n",
    "k_CityWater = cp.PropsSI('L', 'T', T_CityWater.magnitude, 'P', Patm.magnitude, 'water')*u.W/u.m/u.K\n",
    "\n",
    "V_CO2 = dm_CO2/(rho_CO2*A_tube)\n",
    "V_CityWater = dm_CityWater/(rho_CityWater*A_shell)\n",
    "\n",
    "Re_CityWater = fld.core.Reynolds(V_CityWater, d_shell, rho_CityWater, mu_CityWater).to(u.dimensionless)\n",
    "Pr_CityWater = fld.core.Prandtl(Cp=cp_CityWater, mu=mu_CityWater, k=k_CityWater).to(u.dimensionless)\n",
    "print(Re_CityWater, Pr_CityWater)"
   ]
  },
  {
   "cell_type": "code",
   "execution_count": null,
   "metadata": {},
   "outputs": [],
   "source": [
    "Qmax = Cmin*(T_CityWater-T_CO2)\n",
    "\n",
    "# Single shell double tube heat exchanger\n",
    "e = lambda NTU, Cr: 2*(1+Cr+np.sqrt(1+Cr**2)*(1+np.exp(-NTU*np.sqrt(1+Cr**2)))/(1-np.exp(-NTU*np.sqrt(1+Cr**2))))**-1\n"
   ]
  },
  {
   "cell_type": "markdown",
   "metadata": {},
   "source": [
    "a. The outlet temperatures and pressure drops of each fluid in the heat exchanger for the case of a brand new heat exchanger just put into service."
   ]
  },
  {
   "cell_type": "code",
   "execution_count": null,
   "metadata": {},
   "outputs": [
    {
     "name": "stdout",
     "output_type": "stream",
     "text": [
      "47555.105742957145 dimensionless\n"
     ]
    }
   ],
   "source": [
    "print(Re_CO2.to(u.dimensionless))\n",
    "print"
   ]
  },
  {
   "cell_type": "markdown",
   "metadata": {},
   "source": [
    "b. The outlet temperatures of each fluid after the heat exchanger has been in continuous service for one year without maintenancece."
   ]
  },
  {
   "cell_type": "code",
   "execution_count": null,
   "metadata": {},
   "outputs": [],
   "source": []
  },
  {
   "cell_type": "markdown",
   "metadata": {},
   "source": [
    "c. If the outlet temperature of the carbon dioxide must be 20°C or higher, is this heat exchanger sufficient for the required duty?"
   ]
  },
  {
   "cell_type": "code",
   "execution_count": null,
   "metadata": {},
   "outputs": [],
   "source": []
  },
  {
   "cell_type": "markdown",
   "metadata": {},
   "source": [
    "# Pregunta 3\n",
    "Considere el plano hidráulico de la localidad de Hualañé y la distribución de diámetros determinada en la Tarea 2. Seleccione una bomba de uno de los dos catalogos disponibles, que permita entregar el caudal y nivel de presión requerido (6pts). Identifique el punto de operación de la bomba (6pts)"
   ]
  },
  {
   "cell_type": "code",
   "execution_count": null,
   "metadata": {},
   "outputs": [],
   "source": []
  },
  {
   "cell_type": "markdown",
   "metadata": {},
   "source": [
    "# Bibliografía"
   ]
  }
 ],
 "metadata": {
  "kernelspec": {
   "display_name": "myenv",
   "language": "python",
   "name": "python3"
  },
  "language_info": {
   "codemirror_mode": {
    "name": "ipython",
    "version": 3
   },
   "file_extension": ".py",
   "mimetype": "text/x-python",
   "name": "python",
   "nbconvert_exporter": "python",
   "pygments_lexer": "ipython3",
   "version": "3.12.7"
  }
 },
 "nbformat": 4,
 "nbformat_minor": 2
}
