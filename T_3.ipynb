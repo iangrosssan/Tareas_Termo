{
 "cells": [
  {
   "cell_type": "markdown",
   "metadata": {},
   "source": [
    "# Tarea 3: Piping y Bombas\n",
    "### Pablo Correa e Ian Gross"
   ]
  },
  {
   "cell_type": "markdown",
   "metadata": {},
   "source": [
    "## Librerías"
   ]
  },
  {
   "cell_type": "code",
   "execution_count": 5,
   "metadata": {},
   "outputs": [],
   "source": [
    "import CoolProp.CoolProp as cp\n",
    "import fluids as fld\n",
    "import numpy as np\n",
    "import scipy.constants as cte\n",
    "import scipy.optimize as opt\n",
    "import matplotlib.pyplot as plt\n",
    "import pandas as pd\n",
    "from scipy.optimize import minimize\n",
    "\n",
    "from fluids.units import *"
   ]
  },
  {
   "cell_type": "code",
   "execution_count": 6,
   "metadata": {},
   "outputs": [],
   "source": [
    "g = cte.g*u.m/u.s**2\n",
    "Patm = (1*u.atm).to(u.Pa)"
   ]
  },
  {
   "cell_type": "markdown",
   "metadata": {},
   "source": [
    "# Pregunta 1\n",
    "Considere el sistema de almacenamiento de energía visto en el laboratorio.\n",
    "\n",
    "A partir de los datos de operación del archivo anexo, verifique si la pérdida de carga observada se puede representar por la ecuación de Ergun.\n",
    "\n",
    "¿Cuánto es el error con respecto a la correlación? (3pts), ¿Cuanto afecta la temperatura y la variabilidad de las propiedades termofísicas del aire? (3pts).\n",
    "\n",
    "Asuma que el sistema de almacenamiento es un intercambiador de calor de flujo paralelo, donde el solido es uno de los medio de transferencia de calor. ¿Cuanto sería la efectividad del sistema (intercambiador de calor)? (3pts)"
   ]
  },
  {
   "cell_type": "code",
   "execution_count": 7,
   "metadata": {},
   "outputs": [
    {
     "data": {
      "text/html": [
       "<div>\n",
       "<style scoped>\n",
       "    .dataframe tbody tr th:only-of-type {\n",
       "        vertical-align: middle;\n",
       "    }\n",
       "\n",
       "    .dataframe tbody tr th {\n",
       "        vertical-align: top;\n",
       "    }\n",
       "\n",
       "    .dataframe thead th {\n",
       "        text-align: right;\n",
       "    }\n",
       "</style>\n",
       "<table border=\"1\" class=\"dataframe\">\n",
       "  <thead>\n",
       "    <tr style=\"text-align: right;\">\n",
       "      <th></th>\n",
       "      <th>Scan Sweep Time (s)</th>\n",
       "      <th>Temp. Entrada (°C)</th>\n",
       "      <th>Vel. Aire (m/s)</th>\n",
       "      <th>Temp. Aire (°C)</th>\n",
       "      <th>Temp. Salida (°C)</th>\n",
       "      <th>Presión Dif. (Pa)</th>\n",
       "      <th>Rho (kg/m3)</th>\n",
       "      <th>Mu (Pa*s)</th>\n",
       "    </tr>\n",
       "  </thead>\n",
       "  <tbody>\n",
       "    <tr>\n",
       "      <th>0</th>\n",
       "      <td>2024-09-25 09:49:13.522</td>\n",
       "      <td>14.079405</td>\n",
       "      <td>6.472987</td>\n",
       "      <td>13.120901</td>\n",
       "      <td>17.538146</td>\n",
       "      <td>99.246850</td>\n",
       "      <td>1.234817</td>\n",
       "      <td>0.000018</td>\n",
       "    </tr>\n",
       "    <tr>\n",
       "      <th>1</th>\n",
       "      <td>2024-09-25 09:49:23.515</td>\n",
       "      <td>14.078369</td>\n",
       "      <td>6.656212</td>\n",
       "      <td>13.121559</td>\n",
       "      <td>17.564700</td>\n",
       "      <td>116.513805</td>\n",
       "      <td>1.235024</td>\n",
       "      <td>0.000018</td>\n",
       "    </tr>\n",
       "    <tr>\n",
       "      <th>2</th>\n",
       "      <td>2024-09-25 09:49:33.515</td>\n",
       "      <td>14.084538</td>\n",
       "      <td>6.437116</td>\n",
       "      <td>13.121187</td>\n",
       "      <td>17.573132</td>\n",
       "      <td>121.386540</td>\n",
       "      <td>1.235085</td>\n",
       "      <td>0.000018</td>\n",
       "    </tr>\n",
       "    <tr>\n",
       "      <th>3</th>\n",
       "      <td>2024-09-25 09:49:43.515</td>\n",
       "      <td>14.115000</td>\n",
       "      <td>6.546101</td>\n",
       "      <td>13.121459</td>\n",
       "      <td>17.570347</td>\n",
       "      <td>105.121852</td>\n",
       "      <td>1.234886</td>\n",
       "      <td>0.000018</td>\n",
       "    </tr>\n",
       "    <tr>\n",
       "      <th>4</th>\n",
       "      <td>2024-09-25 09:49:53.515</td>\n",
       "      <td>14.115085</td>\n",
       "      <td>6.437106</td>\n",
       "      <td>13.121394</td>\n",
       "      <td>17.589255</td>\n",
       "      <td>113.813643</td>\n",
       "      <td>1.234992</td>\n",
       "      <td>0.000018</td>\n",
       "    </tr>\n",
       "    <tr>\n",
       "      <th>...</th>\n",
       "      <td>...</td>\n",
       "      <td>...</td>\n",
       "      <td>...</td>\n",
       "      <td>...</td>\n",
       "      <td>...</td>\n",
       "      <td>...</td>\n",
       "      <td>...</td>\n",
       "      <td>...</td>\n",
       "    </tr>\n",
       "    <tr>\n",
       "      <th>2193</th>\n",
       "      <td>2024-09-25 15:54:43.516</td>\n",
       "      <td>30.401201</td>\n",
       "      <td>6.624077</td>\n",
       "      <td>18.110073</td>\n",
       "      <td>19.313422</td>\n",
       "      <td>-99.329177</td>\n",
       "      <td>1.211225</td>\n",
       "      <td>0.000018</td>\n",
       "    </tr>\n",
       "    <tr>\n",
       "      <th>2194</th>\n",
       "      <td>2024-09-25 15:54:53.516</td>\n",
       "      <td>30.379024</td>\n",
       "      <td>6.654350</td>\n",
       "      <td>17.866438</td>\n",
       "      <td>19.329506</td>\n",
       "      <td>-81.157420</td>\n",
       "      <td>1.212460</td>\n",
       "      <td>0.000018</td>\n",
       "    </tr>\n",
       "    <tr>\n",
       "      <th>2195</th>\n",
       "      <td>2024-09-25 15:55:03.516</td>\n",
       "      <td>30.373109</td>\n",
       "      <td>6.654364</td>\n",
       "      <td>18.111046</td>\n",
       "      <td>19.376573</td>\n",
       "      <td>-89.140490</td>\n",
       "      <td>1.211343</td>\n",
       "      <td>0.000018</td>\n",
       "    </tr>\n",
       "    <tr>\n",
       "      <th>2196</th>\n",
       "      <td>2024-09-25 15:55:13.516</td>\n",
       "      <td>30.396446</td>\n",
       "      <td>6.623994</td>\n",
       "      <td>18.111007</td>\n",
       "      <td>19.408551</td>\n",
       "      <td>-102.191115</td>\n",
       "      <td>1.211187</td>\n",
       "      <td>0.000018</td>\n",
       "    </tr>\n",
       "    <tr>\n",
       "      <th>2197</th>\n",
       "      <td>2024-09-25 15:55:23.516</td>\n",
       "      <td>30.319782</td>\n",
       "      <td>6.654297</td>\n",
       "      <td>18.193865</td>\n",
       "      <td>19.419731</td>\n",
       "      <td>-107.622870</td>\n",
       "      <td>1.210776</td>\n",
       "      <td>0.000018</td>\n",
       "    </tr>\n",
       "  </tbody>\n",
       "</table>\n",
       "<p>2198 rows × 8 columns</p>\n",
       "</div>"
      ],
      "text/plain": [
       "         Scan Sweep Time (s)  Temp. Entrada (°C)  Vel. Aire (m/s)  \\\n",
       "0    2024-09-25 09:49:13.522           14.079405         6.472987   \n",
       "1    2024-09-25 09:49:23.515           14.078369         6.656212   \n",
       "2    2024-09-25 09:49:33.515           14.084538         6.437116   \n",
       "3    2024-09-25 09:49:43.515           14.115000         6.546101   \n",
       "4    2024-09-25 09:49:53.515           14.115085         6.437106   \n",
       "...                      ...                 ...              ...   \n",
       "2193 2024-09-25 15:54:43.516           30.401201         6.624077   \n",
       "2194 2024-09-25 15:54:53.516           30.379024         6.654350   \n",
       "2195 2024-09-25 15:55:03.516           30.373109         6.654364   \n",
       "2196 2024-09-25 15:55:13.516           30.396446         6.623994   \n",
       "2197 2024-09-25 15:55:23.516           30.319782         6.654297   \n",
       "\n",
       "      Temp. Aire (°C)  Temp. Salida (°C)  Presión Dif. (Pa)  Rho (kg/m3)  \\\n",
       "0           13.120901          17.538146          99.246850     1.234817   \n",
       "1           13.121559          17.564700         116.513805     1.235024   \n",
       "2           13.121187          17.573132         121.386540     1.235085   \n",
       "3           13.121459          17.570347         105.121852     1.234886   \n",
       "4           13.121394          17.589255         113.813643     1.234992   \n",
       "...               ...                ...                ...          ...   \n",
       "2193        18.110073          19.313422         -99.329177     1.211225   \n",
       "2194        17.866438          19.329506         -81.157420     1.212460   \n",
       "2195        18.111046          19.376573         -89.140490     1.211343   \n",
       "2196        18.111007          19.408551        -102.191115     1.211187   \n",
       "2197        18.193865          19.419731        -107.622870     1.210776   \n",
       "\n",
       "      Mu (Pa*s)  \n",
       "0      0.000018  \n",
       "1      0.000018  \n",
       "2      0.000018  \n",
       "3      0.000018  \n",
       "4      0.000018  \n",
       "...         ...  \n",
       "2193   0.000018  \n",
       "2194   0.000018  \n",
       "2195   0.000018  \n",
       "2196   0.000018  \n",
       "2197   0.000018  \n",
       "\n",
       "[2198 rows x 8 columns]"
      ]
     },
     "execution_count": 7,
     "metadata": {},
     "output_type": "execute_result"
    }
   ],
   "source": [
    "headers = [\"Scan Sweep Time (s)\", \"Temp. Entrada (°C)\", \"Vel. Aire (m/s)\", \"Temp. Aire (°C)\",\"Presión Dif. (mbar)\", \"Temp. Salida (°C)\"]\n",
    "data = pd.read_excel(\"Ensayo Piloto Lleno T-220°C.xlsx\", skiprows=16, usecols=\"A,C:G\", names=headers)\n",
    "\n",
    "P_0 = 101325\n",
    "T_0 = 273.15\n",
    "\n",
    "P = pd.DataFrame(data['Presión Dif. (mbar)'] * 100, columns=[\"Presión Dif. (mbar)\"])\n",
    "P = P.rename(columns={\"Presión Dif. (mbar)\": \"Presión Dif. (Pa)\"})\n",
    "\n",
    "rho = pd.DataFrame([cp.PropsSI('D', 'T', float(data['Temp. Aire (°C)'].iloc[i]) + T_0,\n",
    "                               'P', float(P[\"Presión Dif. (Pa)\"].iloc[i]) + P_0, 'Air')\n",
    "                               for i in range(data.shape[0])], columns=[\"Rho (kg/m3)\"])\n",
    "mu = pd.DataFrame([cp.PropsSI('V', 'T', float(data['Temp. Aire (°C)'].iloc[i]) + T_0,\n",
    "                               'D', float(rho['Rho (kg/m3)'].iloc[i]), 'Air') \n",
    "                               for i in range(data.shape[0])], columns=[\"Mu (Pa*s)\"])\n",
    "\n",
    "data = data.join([P, rho, mu]).drop(columns=[\"Presión Dif. (mbar)\"])\n",
    "data"
   ]
  },
  {
   "cell_type": "markdown",
   "metadata": {},
   "source": [
    "Se sabe que la ecuación de Ergun es la siguiente:\n",
    "\n",
    "$\\frac{\\Delta P}{L} = \\frac{150 \\mu (1-\\epsilon)^2}{\\phi^2 d^2_p \\epsilon^3} v + \\frac{1.75 \\rho (1-\\epsilon)}{\\phi d_p \\epsilon^3} v^2$\n",
    "\n",
    "Despejando la presión diferencial se obtiene que:\n",
    "\n",
    "$\\Delta P = 150 \\mu v \\frac{L(1-\\epsilon)^2}{\\phi^2 d_p^2 \\epsilon^3} + 1.75 \\rho v^2 \\frac{L(1-\\epsilon)}{\\phi d_p \\epsilon^3}$\n",
    "\n",
    "Luego, se optimiza para estimar los datos del lecho tal que minimice el error."
   ]
  },
  {
   "cell_type": "code",
   "execution_count": 8,
   "metadata": {},
   "outputs": [
    {
     "name": "stdout",
     "output_type": "stream",
     "text": [
      "  message: CONVERGENCE: NORM_OF_PROJECTED_GRADIENT_<=_PGTOL\n",
      "  success: True\n",
      "   status: 0\n",
      "      fun: 102388733.19860311\n",
      "        x: [ 1.000e+00  1.000e-01  9.000e-01]\n",
      "      nit: 1\n",
      "      jac: [-1.571e+08 -1.571e+09 -2.095e+09]\n",
      "     nfev: 8\n",
      "     njev: 2\n",
      " hess_inv: <3x3 LbfgsInvHessProduct with dtype=float64>\n"
     ]
    }
   ],
   "source": [
    "def ergun_loss(params, data):\n",
    "    phi, dp, epsilon = params\n",
    "    velocidad = np.array(data[\"Vel. Aire (m/s)\"])\n",
    "    delta_P_observada = np.array(data[\"Presión Dif. (Pa)\"])\n",
    "    rho = np.array(data[\"Rho (kg/m3)\"])\n",
    "    mu = np.array(data[\"Mu (Pa*s)\"])\n",
    "    L = 1.5\n",
    "    \n",
    "    # Pérdida de presión teórica según Ergun\n",
    "    term_viscoso = (150 * mu * (1 - epsilon)**2) / (phi**2 * dp**2 * epsilon**3)\n",
    "    term_inercial = (1.75 * rho * (1 - epsilon)) / (phi * dp * epsilon**3)\n",
    "    delta_P_calculada = L * (term_viscoso * velocidad + term_inercial * velocidad**2)\n",
    "    \n",
    "    # Error entre valores calculados y observados\n",
    "    error = np.sum((delta_P_calculada - delta_P_observada)**2)\n",
    "    return error\n",
    "\n",
    "params_iniciales = [0.8, 0.05, 0.4]\n",
    "bounds = [(0.1, 1.0),   # phi\n",
    "          (0.001, 0.1), # dp\n",
    "          (0.5, 0.9)]  # epsilon\n",
    "resultado = minimize(ergun_loss, params_iniciales, args=data, bounds=bounds)\n",
    "print(resultado)\n"
   ]
  },
  {
   "cell_type": "markdown",
   "metadata": {},
   "source": [
    "Teniendo los datos estimados se compara con la presión experimental el cálculo de la ecuación de Ergun"
   ]
  },
  {
   "cell_type": "code",
   "execution_count": 9,
   "metadata": {},
   "outputs": [
    {
     "data": {
      "text/html": [
       "<div>\n",
       "<style scoped>\n",
       "    .dataframe tbody tr th:only-of-type {\n",
       "        vertical-align: middle;\n",
       "    }\n",
       "\n",
       "    .dataframe tbody tr th {\n",
       "        vertical-align: top;\n",
       "    }\n",
       "\n",
       "    .dataframe thead th {\n",
       "        text-align: right;\n",
       "    }\n",
       "</style>\n",
       "<table border=\"1\" class=\"dataframe\">\n",
       "  <thead>\n",
       "    <tr style=\"text-align: right;\">\n",
       "      <th></th>\n",
       "      <th>Scan Sweep Time (s)</th>\n",
       "      <th>Temp. Entrada (°C)</th>\n",
       "      <th>Vel. Aire (m/s)</th>\n",
       "      <th>Temp. Aire (°C)</th>\n",
       "      <th>Temp. Salida (°C)</th>\n",
       "      <th>Presión Dif. (Pa)</th>\n",
       "      <th>Rho (kg/m3)</th>\n",
       "      <th>Mu (Pa*s)</th>\n",
       "      <th>Presión Teórica (Pa)</th>\n",
       "      <th>Error Relativo</th>\n",
       "    </tr>\n",
       "  </thead>\n",
       "  <tbody>\n",
       "    <tr>\n",
       "      <th>0</th>\n",
       "      <td>2024-09-25 09:49:13.522</td>\n",
       "      <td>14.079405</td>\n",
       "      <td>6.472987</td>\n",
       "      <td>13.120901</td>\n",
       "      <td>17.538146</td>\n",
       "      <td>99.246850</td>\n",
       "      <td>1.234817</td>\n",
       "      <td>0.000018</td>\n",
       "      <td>186.336114</td>\n",
       "      <td>0.877502</td>\n",
       "    </tr>\n",
       "    <tr>\n",
       "      <th>1</th>\n",
       "      <td>2024-09-25 09:49:23.515</td>\n",
       "      <td>14.078369</td>\n",
       "      <td>6.656212</td>\n",
       "      <td>13.121559</td>\n",
       "      <td>17.564700</td>\n",
       "      <td>116.513805</td>\n",
       "      <td>1.235024</td>\n",
       "      <td>0.000018</td>\n",
       "      <td>197.066389</td>\n",
       "      <td>0.691357</td>\n",
       "    </tr>\n",
       "    <tr>\n",
       "      <th>2</th>\n",
       "      <td>2024-09-25 09:49:33.515</td>\n",
       "      <td>14.084538</td>\n",
       "      <td>6.437116</td>\n",
       "      <td>13.121187</td>\n",
       "      <td>17.573132</td>\n",
       "      <td>121.386540</td>\n",
       "      <td>1.235085</td>\n",
       "      <td>0.000018</td>\n",
       "      <td>184.316885</td>\n",
       "      <td>0.518429</td>\n",
       "    </tr>\n",
       "    <tr>\n",
       "      <th>3</th>\n",
       "      <td>2024-09-25 09:49:43.515</td>\n",
       "      <td>14.115000</td>\n",
       "      <td>6.546101</td>\n",
       "      <td>13.121459</td>\n",
       "      <td>17.570347</td>\n",
       "      <td>105.121852</td>\n",
       "      <td>1.234886</td>\n",
       "      <td>0.000018</td>\n",
       "      <td>190.579564</td>\n",
       "      <td>0.812940</td>\n",
       "    </tr>\n",
       "    <tr>\n",
       "      <th>4</th>\n",
       "      <td>2024-09-25 09:49:53.515</td>\n",
       "      <td>14.115085</td>\n",
       "      <td>6.437106</td>\n",
       "      <td>13.121394</td>\n",
       "      <td>17.589255</td>\n",
       "      <td>113.813643</td>\n",
       "      <td>1.234992</td>\n",
       "      <td>0.000018</td>\n",
       "      <td>184.302411</td>\n",
       "      <td>0.619335</td>\n",
       "    </tr>\n",
       "    <tr>\n",
       "      <th>...</th>\n",
       "      <td>...</td>\n",
       "      <td>...</td>\n",
       "      <td>...</td>\n",
       "      <td>...</td>\n",
       "      <td>...</td>\n",
       "      <td>...</td>\n",
       "      <td>...</td>\n",
       "      <td>...</td>\n",
       "      <td>...</td>\n",
       "      <td>...</td>\n",
       "    </tr>\n",
       "    <tr>\n",
       "      <th>2193</th>\n",
       "      <td>2024-09-25 15:54:43.516</td>\n",
       "      <td>30.401201</td>\n",
       "      <td>6.624077</td>\n",
       "      <td>18.110073</td>\n",
       "      <td>19.313422</td>\n",
       "      <td>-99.329177</td>\n",
       "      <td>1.211225</td>\n",
       "      <td>0.000018</td>\n",
       "      <td>191.408603</td>\n",
       "      <td>-2.927013</td>\n",
       "    </tr>\n",
       "    <tr>\n",
       "      <th>2194</th>\n",
       "      <td>2024-09-25 15:54:53.516</td>\n",
       "      <td>30.379024</td>\n",
       "      <td>6.654350</td>\n",
       "      <td>17.866438</td>\n",
       "      <td>19.329506</td>\n",
       "      <td>-81.157420</td>\n",
       "      <td>1.212460</td>\n",
       "      <td>0.000018</td>\n",
       "      <td>193.358759</td>\n",
       "      <td>-3.382515</td>\n",
       "    </tr>\n",
       "    <tr>\n",
       "      <th>2195</th>\n",
       "      <td>2024-09-25 15:55:03.516</td>\n",
       "      <td>30.373109</td>\n",
       "      <td>6.654364</td>\n",
       "      <td>18.111046</td>\n",
       "      <td>19.376573</td>\n",
       "      <td>-89.140490</td>\n",
       "      <td>1.211343</td>\n",
       "      <td>0.000018</td>\n",
       "      <td>193.181540</td>\n",
       "      <td>-3.167158</td>\n",
       "    </tr>\n",
       "    <tr>\n",
       "      <th>2196</th>\n",
       "      <td>2024-09-25 15:55:13.516</td>\n",
       "      <td>30.396446</td>\n",
       "      <td>6.623994</td>\n",
       "      <td>18.111007</td>\n",
       "      <td>19.408551</td>\n",
       "      <td>-102.191115</td>\n",
       "      <td>1.211187</td>\n",
       "      <td>0.000018</td>\n",
       "      <td>191.397772</td>\n",
       "      <td>-2.872939</td>\n",
       "    </tr>\n",
       "    <tr>\n",
       "      <th>2197</th>\n",
       "      <td>2024-09-25 15:55:23.516</td>\n",
       "      <td>30.319782</td>\n",
       "      <td>6.654297</td>\n",
       "      <td>18.193865</td>\n",
       "      <td>19.419731</td>\n",
       "      <td>-107.622870</td>\n",
       "      <td>1.210776</td>\n",
       "      <td>0.000018</td>\n",
       "      <td>193.087364</td>\n",
       "      <td>-2.794111</td>\n",
       "    </tr>\n",
       "  </tbody>\n",
       "</table>\n",
       "<p>2198 rows × 10 columns</p>\n",
       "</div>"
      ],
      "text/plain": [
       "         Scan Sweep Time (s)  Temp. Entrada (°C)  Vel. Aire (m/s)  \\\n",
       "0    2024-09-25 09:49:13.522           14.079405         6.472987   \n",
       "1    2024-09-25 09:49:23.515           14.078369         6.656212   \n",
       "2    2024-09-25 09:49:33.515           14.084538         6.437116   \n",
       "3    2024-09-25 09:49:43.515           14.115000         6.546101   \n",
       "4    2024-09-25 09:49:53.515           14.115085         6.437106   \n",
       "...                      ...                 ...              ...   \n",
       "2193 2024-09-25 15:54:43.516           30.401201         6.624077   \n",
       "2194 2024-09-25 15:54:53.516           30.379024         6.654350   \n",
       "2195 2024-09-25 15:55:03.516           30.373109         6.654364   \n",
       "2196 2024-09-25 15:55:13.516           30.396446         6.623994   \n",
       "2197 2024-09-25 15:55:23.516           30.319782         6.654297   \n",
       "\n",
       "      Temp. Aire (°C)  Temp. Salida (°C)  Presión Dif. (Pa)  Rho (kg/m3)  \\\n",
       "0           13.120901          17.538146          99.246850     1.234817   \n",
       "1           13.121559          17.564700         116.513805     1.235024   \n",
       "2           13.121187          17.573132         121.386540     1.235085   \n",
       "3           13.121459          17.570347         105.121852     1.234886   \n",
       "4           13.121394          17.589255         113.813643     1.234992   \n",
       "...               ...                ...                ...          ...   \n",
       "2193        18.110073          19.313422         -99.329177     1.211225   \n",
       "2194        17.866438          19.329506         -81.157420     1.212460   \n",
       "2195        18.111046          19.376573         -89.140490     1.211343   \n",
       "2196        18.111007          19.408551        -102.191115     1.211187   \n",
       "2197        18.193865          19.419731        -107.622870     1.210776   \n",
       "\n",
       "      Mu (Pa*s)  Presión Teórica (Pa)  Error Relativo  \n",
       "0      0.000018            186.336114        0.877502  \n",
       "1      0.000018            197.066389        0.691357  \n",
       "2      0.000018            184.316885        0.518429  \n",
       "3      0.000018            190.579564        0.812940  \n",
       "4      0.000018            184.302411        0.619335  \n",
       "...         ...                   ...             ...  \n",
       "2193   0.000018            191.408603       -2.927013  \n",
       "2194   0.000018            193.358759       -3.382515  \n",
       "2195   0.000018            193.181540       -3.167158  \n",
       "2196   0.000018            191.397772       -2.872939  \n",
       "2197   0.000018            193.087364       -2.794111  \n",
       "\n",
       "[2198 rows x 10 columns]"
      ]
     },
     "execution_count": 9,
     "metadata": {},
     "output_type": "execute_result"
    }
   ],
   "source": [
    "phi, dp, epsilon = resultado[\"x\"]\n",
    "L = 1.5\n",
    "    \n",
    "# Pérdida de presión teórica según Ergun\n",
    "term_viscoso = (150 * data[\"Mu (Pa*s)\"] * (1 - epsilon)**2) / (phi**2 * dp**2 * epsilon**3)\n",
    "term_inercial = (1.75 * data[\"Rho (kg/m3)\"] * (1 - epsilon)) / (phi * dp * epsilon**3)\n",
    "delta_P_calculada = L * (term_viscoso * data[\"Vel. Aire (m/s)\"] + term_inercial * data[\"Vel. Aire (m/s)\"]**2)\n",
    "# delta_P_calculada = pd.DataFrame(delta_P_calculada).rename([\"Presión Teórica (Pa)\"])\n",
    "data = data.join(pd.DataFrame(delta_P_calculada, columns=[\"Presión Teórica (Pa)\"]))\n",
    "data = data.join(pd.DataFrame(abs(data[\"Presión Dif. (Pa)\"]-data[\"Presión Teórica (Pa)\"])/data[\"Presión Dif. (Pa)\"], columns=[\"Error Relativo\"]))\n",
    "data"
   ]
  },
  {
   "cell_type": "code",
   "execution_count": 10,
   "metadata": {},
   "outputs": [
    {
     "data": {
      "text/plain": [
       "np.float64(-0.8925577726707616)"
      ]
     },
     "execution_count": 10,
     "metadata": {},
     "output_type": "execute_result"
    }
   ],
   "source": [
    "np.sum(data[\"Error Relativo\"])/data.shape[0]"
   ]
  },
  {
   "cell_type": "markdown",
   "metadata": {},
   "source": [
    "Se nota que existe una muy gran diferencia entre los valores teóricos y los experimentales, por lo que la ecaución no es una buena aproximación."
   ]
  },
  {
   "cell_type": "code",
   "execution_count": 11,
   "metadata": {},
   "outputs": [
    {
     "data": {
      "text/plain": [
       "Scan Sweep Time (s)    -0.822679\n",
       "Temp. Entrada (°C)      0.665450\n",
       "Vel. Aire (m/s)         0.820089\n",
       "Temp. Aire (°C)         0.963905\n",
       "Temp. Salida (°C)       0.736789\n",
       "Presión Dif. (Pa)       1.000000\n",
       "Rho (kg/m3)            -0.963999\n",
       "Mu (Pa*s)               0.964242\n",
       "Presión Teórica (Pa)    0.077703\n",
       "Error Relativo          0.951328\n",
       "Name: Presión Dif. (Pa), dtype: float64"
      ]
     },
     "execution_count": 11,
     "metadata": {},
     "output_type": "execute_result"
    }
   ],
   "source": [
    "data.corr()[\"Presión Dif. (Pa)\"]"
   ]
  },
  {
   "cell_type": "markdown",
   "metadata": {},
   "source": [
    "Observando las correlaciones, se nota que el factor que tiene la mayor incidencia en el resultado en la presión es la temperatura del aire, y las propiedades asociadas (densidad y viscosidad).\n",
    "\n",
    "El factor menos incidente es la temperatura de entrada."
   ]
  },
  {
   "cell_type": "markdown",
   "metadata": {},
   "source": [
    "# Pregunta 2\n",
    "Liquid  carbon  dioxide  enters  the  tubes  of  a  shell  and  tube  heat  exchanger  at  a  temperature of 0°C and a flow rate of 30 kg/s. The carbon dioxide is heated with a flow of city water that enters the shell side of the heat exchanger at a temperature of 40°C and a flow rate of 31 kg/s. The heat exchanger is a single shell, two-tube pass configuration with a 25in shell. The tubes are ¾in 10BWG laid out on a 1in triangular pitch. The heat exchanger is 2m long and contains 2 baffles per meter of length.\n",
    "* Asumiendo presión atmosférica en la entrada\n",
    "* Asumiendo que las paredes del intercambiador son de hierro forjado. [1]\n",
    "* Asumiendo que el cambio de $\\mu$ es despreciable entre la coraza y la pared del tubo"
   ]
  },
  {
   "cell_type": "code",
   "execution_count": 12,
   "metadata": {},
   "outputs": [],
   "source": [
    "# Temperaturas\n",
    "T_CO2 = (0*u.degC).to(u.K)\n",
    "T_CityWater = (40*u.degC).to(u.K)\n",
    "\n",
    "# Masas\n",
    "dm_CO2 = 30*u.kg/u.s\n",
    "dm_CityWater = 31*u.kg/u.s\n",
    "\n",
    "# Diametros\n",
    "d_shell = (25*u.inch).to(u.m)\n",
    "do_tube = (0.75*u.inch).to(u.m)\n",
    "t_tube = t_from_gauge(10, schedule='BWG')\n",
    "di_tube = do_tube - t_tube\n",
    "\n",
    "# Longitudes\n",
    "l = 2*u.m\n",
    "Pt = (1*u.inch).to(u.m)\n",
    "B = 0.5*u.m\n",
    "\n",
    "# Número de tubos\n",
    "N_T = 452*u.dimensionless\n",
    "\n",
    "# Número de pasos\n",
    "N_P = 2*u.dimensionless\n",
    "\n",
    "# Número de bafles\n",
    "N_B = 4*u.dimensionless\n",
    "\n",
    "# Fouling Factor\n",
    "R_CO2 = 0.000176*u.m**2*u.K/u.W\n",
    "R_CityWater = 0.000352*u.m**2*u.K/u.W"
   ]
  },
  {
   "cell_type": "code",
   "execution_count": 13,
   "metadata": {},
   "outputs": [
    {
     "name": "stdout",
     "output_type": "stream",
     "text": [
      "d_shell_eq = 0.0183 meter\n",
      "A_tube_eff = 0.0435 meter ** 2\n",
      "A_shell_eff = 0.0794 meter ** 2\n"
     ]
    }
   ],
   "source": [
    "# Diámetro hidáulico dado en clases\n",
    "d_shell_eq = 2*np.sqrt(3)*Pt**2/(np.pi*do_tube)-do_tube\n",
    "print(f\"d_shell_eq = {d_shell_eq:.4f}\")\n",
    "\n",
    "# Área efectiva de transferencia de calor\n",
    "A_tube_eff = N_T/N_P*(np.pi*di_tube**2/4)\n",
    "print(f\"A_tube_eff = {A_tube_eff:.4f}\")\n",
    "\n",
    "# Área transversal de un tubo\n",
    "A_tube_cross = np.pi * di_tube**2/4*N_T\n",
    "\n",
    "# Area efectiva de transferencia de calor\n",
    "A_shell_eff = (d_shell*(Pt-do_tube)*B/Pt).to(u.m**2)\n",
    "print(f\"A_shell_eff = {A_shell_eff:.4f}\")\n",
    "\n"
   ]
  },
  {
   "cell_type": "code",
   "execution_count": 14,
   "metadata": {},
   "outputs": [
    {
     "name": "stdout",
     "output_type": "stream",
     "text": [
      "Cr = 0.59 dimensionless\n"
     ]
    }
   ],
   "source": [
    "# Propiedades de los fluidos\n",
    "rho_CO2 = cp.PropsSI('D', 'T', T_CO2.magnitude, 'Q', 0, 'CO2')*u.kg/u.m**3\n",
    "mu_CO2 = cp.PropsSI('V', 'T', T_CO2.magnitude, 'Q', 0, 'CO2')*u.Pa*u.s\n",
    "k_CO2 = cp.PropsSI('L', 'T', T_CO2.magnitude, 'Q', 0, 'CO2')*u.W/u.m/u.K\n",
    "cp_CO2 = cp.PropsSI('Cpmass', 'T', T_CO2.magnitude, 'Q', 0, 'CO2')*u.J/u.kg/u.K\n",
    "\n",
    "\n",
    "rho_CityWater = cp.PropsSI('D', 'T', T_CityWater.magnitude, 'P', Patm.magnitude, 'water')*u.kg/u.m**3\n",
    "mu_CityWater = cp.PropsSI('V', 'T', T_CityWater.magnitude, 'P', Patm.magnitude, 'water')*u.Pa*u.s\n",
    "k_CityWater = cp.PropsSI('L', 'T', T_CityWater.magnitude, 'P', Patm.magnitude, 'water')*u.W/u.m/u.K\n",
    "cp_CityWater = cp.PropsSI('Cpmass', 'T', T_CityWater.magnitude, 'P', Patm.magnitude, 'water')*u.J/u.kg/u.K\n",
    "\n",
    "# Cp\n",
    "C_CO2 = dm_CO2*cp_CO2\n",
    "C_CityWater = dm_CityWater*cp_CityWater\n",
    "Cmin = min(C_CO2, C_CityWater)\n",
    "Cmax = max(C_CO2, C_CityWater)\n",
    "Cr = Cmin/Cmax\n",
    "print(f\"Cr = {Cr:.2f}\")"
   ]
  },
  {
   "cell_type": "markdown",
   "metadata": {},
   "source": [
    "### Calculando h_interno"
   ]
  },
  {
   "cell_type": "code",
   "execution_count": 15,
   "metadata": {},
   "outputs": [
    {
     "name": "stdout",
     "output_type": "stream",
     "text": [
      "Re_CO2 = 107590.86 dimensionless\n",
      "Pr_CO2 = 2.34 dimensionless\n",
      "L/D = 127.83 dimensionless\n"
     ]
    }
   ],
   "source": [
    "# Condiciones para Nusselt\n",
    "V_CO2 = dm_CO2/(rho_CO2*A_tube_eff)\n",
    "\n",
    "Re_CO2 = fld.core.Reynolds(V_CO2, di_tube, rho_CO2, mu_CO2).to(u.dimensionless)\n",
    "print(f\"Re_CO2 = {Re_CO2:.2f}\")\n",
    "Pr_CO2 = fld.core.Prandtl(Cp=cp_CO2, mu=mu_CO2, k=k_CO2).to(u.dimensionless)\n",
    "print(f\"Pr_CO2 = {Pr_CO2:.2f}\")\n",
    "\n",
    "print(f\"L/D = {l/di_tube:.2f}\")"
   ]
  },
  {
   "cell_type": "markdown",
   "metadata": {},
   "source": [
    "Para calcular el número de Nusselt dado que el flujo es turbulento y se está calentando:"
   ]
  },
  {
   "cell_type": "code",
   "execution_count": 16,
   "metadata": {},
   "outputs": [
    {
     "name": "stdout",
     "output_type": "stream",
     "text": [
      "Nu_CO2 = 342.55 dimensionless\n",
      "h_tube = 10983.97 watt / kelvin / meter ** 2\n",
      "\n"
     ]
    }
   ],
   "source": [
    "Nu_CO2 = 0.023*Re_CO2**0.8*Pr_CO2**0.4\n",
    "print(f\"Nu_CO2 = {Nu_CO2:.2f}\")\n",
    "\n",
    "h_tube = (k_CO2*Nu_CO2/t_tube).to(u.W/u.m**2/u.K)\n",
    "print(f\"h_tube = {h_tube:.2f}\\n\")\n"
   ]
  },
  {
   "cell_type": "markdown",
   "metadata": {},
   "source": [
    "### Calculando R de conducción"
   ]
  },
  {
   "cell_type": "code",
   "execution_count": 17,
   "metadata": {},
   "outputs": [
    {
     "name": "stdout",
     "output_type": "stream",
     "text": [
      "Rw = 7.7016e-07 kelvin / watt\n",
      "\n"
     ]
    }
   ],
   "source": [
    "k = 45*u.W/u.K/u.m\n",
    "Rw = np.log(do_tube/di_tube)/(2*np.pi*k*l)/N_T\n",
    "print(f\"Rw = {Rw:.5}\\n\")"
   ]
  },
  {
   "cell_type": "markdown",
   "metadata": {},
   "source": [
    "### Calculando h_externo"
   ]
  },
  {
   "cell_type": "code",
   "execution_count": 18,
   "metadata": {},
   "outputs": [
    {
     "name": "stdout",
     "output_type": "stream",
     "text": [
      "Vs = 0.394 meter / second\n",
      "Re_CityWater = 10945.57 dimensionless\n",
      "Pr_CityWater = 4.34 dimensionless\n"
     ]
    }
   ],
   "source": [
    "V_shell = dm_CityWater/(rho_CityWater*A_shell_eff)\n",
    "print(f\"Vs = {V_shell:.3f}\")\n",
    "\n",
    "Re_CityWater = fld.core.Reynolds(V_shell, d_shell_eq, rho_CityWater, mu_CityWater).to(u.dimensionless)\n",
    "print(f\"Re_CityWater = {Re_CityWater:.2f}\")\n",
    "\n",
    "Pr_CityWater = fld.core.Prandtl(Cp=cp_CityWater, mu=mu_CityWater, k=k_CityWater).to(u.dimensionless)\n",
    "print(f\"Pr_CityWater = {Pr_CityWater:.2f}\")"
   ]
  },
  {
   "cell_type": "markdown",
   "metadata": {},
   "source": [
    "Para calcular el número de Nusselt dado que el flujo es turbulento y se está enfriando:"
   ]
  },
  {
   "cell_type": "code",
   "execution_count": 19,
   "metadata": {},
   "outputs": [
    {
     "name": "stdout",
     "output_type": "stream",
     "text": [
      "Nu_CityWater = 97.34 dimensionless\n",
      "h_shell = 3344.09 watt / kelvin / meter ** 2\n",
      "\n"
     ]
    }
   ],
   "source": [
    "Nu_CityWater = 0.36*Re_CityWater**0.55*Pr_CityWater**0.33\n",
    "print(f\"Nu_CityWater = {Nu_CityWater:.2f}\")\n",
    "\n",
    "h_shell = (k_CityWater*Nu_CityWater/d_shell_eq).to(u.W/u.m**2/u.K)\n",
    "print(f\"h_shell = {h_shell:.2f}\\n\")"
   ]
  },
  {
   "cell_type": "markdown",
   "metadata": {},
   "source": [
    "### Cálculo de  y NTU"
   ]
  },
  {
   "cell_type": "code",
   "execution_count": 20,
   "metadata": {},
   "outputs": [
    {
     "name": "stdout",
     "output_type": "stream",
     "text": [
      "UA = 170.55 watt / kelvin\n",
      "NTU = 0.002236153515557553 dimensionless\n"
     ]
    }
   ],
   "source": [
    "UA = ((1/(h_tube*A_tube_eff) + Rw + 1/(h_shell*A_shell_eff))**-1).to(u.W/u.K)\n",
    "print(f\"UA = {UA:.2f}\")\n",
    "NTU = (UA/Cmin).to(u.dimensionless)\n",
    "print(f\"NTU = {NTU}\")\n"
   ]
  },
  {
   "cell_type": "markdown",
   "metadata": {},
   "source": [
    "### 2.a"
   ]
  },
  {
   "cell_type": "code",
   "execution_count": 21,
   "metadata": {},
   "outputs": [
    {
     "name": "stdout",
     "output_type": "stream",
     "text": [
      "T_CO2_out = 13.61 degree_Celsius\n",
      "T_CityWater_out = 31.99 degree_Celsius\n",
      "\n",
      "Pot_CO2 = 1037796.4631310743 watt\n",
      "Pot_CityWater = -1037790.4884946353 watt\n",
      "DPot = 5.974636439001188 watt\n",
      "\n",
      "F = 0.98 dimensionless\n",
      "\n",
      "Q = 6805.41 watt\n",
      "Qmax = 3050772.29 watt\n",
      "\n",
      "Q/Qmax = 0.22307155741650378\n",
      "Efficiency = 0.22321873267121367\n"
     ]
    }
   ],
   "source": [
    "# Iterando\n",
    "T_CO2_out = (13.607*u.degC).to(u.K)\n",
    "T_CityWater_out = (31.99*u.degC).to(u.K)\n",
    "print(f\"T_CO2_out = {T_CO2_out.to(u.degC):.2f}\")\n",
    "print(f\"T_CityWater_out = {T_CityWater_out.to(u.degC):.2f}\\n\")\n",
    "\n",
    "Pot_CO2 = (C_CO2*(T_CO2_out-T_CO2)).to(u.W)\n",
    "Pot_CityWater = (C_CityWater*(T_CityWater_out-T_CityWater)).to(u.W)\n",
    "print(f\"Pot_CO2 = {Pot_CO2}\")\n",
    "print(f\"Pot_CityWater = {Pot_CityWater}\")\n",
    "print(f\"DPot = {Pot_CO2+Pot_CityWater}\\n\")\n",
    "\n",
    "R = C_CO2/C_CityWater\n",
    "P = (T_CO2_out-T_CO2)/(T_CityWater-T_CO2)\n",
    "F = (np.sqrt(R**2+1)*np.log((1-P)/(1-P*R)))/((R-1)*np.log((2-P*(R+1-np.sqrt(R**2+1)))/(2-P*(R+1+np.sqrt(R**2+1))))).to(u.dimensionless)\n",
    "print(f\"F = {F:.2f}\\n\")\n",
    "\n",
    "Q = UA*F*(T_CityWater-T_CityWater_out + T_CO2_out-T_CO2)/np.log((T_CO2_out-T_CO2)/(T_CityWater-T_CityWater_out))\n",
    "Qmax = (Cmin*(T_CityWater-T_CO2)).to(u.W)\n",
    "print(f\"Q = {Q:.2f}\")\n",
    "print(f\"Qmax = {Qmax:.2f}\\n\")\n",
    "print(f\"Q/Qmax = {(Q/Qmax*100).magnitude}\")\n",
    "\n",
    "e = (2*(1+Cr+np.sqrt(1+Cr**2)*(1+np.exp(-NTU*np.sqrt(1+Cr**2)))/(1-np.exp(-NTU*np.sqrt(1+Cr**2))))**-1*100).magnitude\n",
    "print(f\"Efficiency = {e}\")"
   ]
  },
  {
   "cell_type": "markdown",
   "metadata": {},
   "source": [
    "Se obtienen unas temperaturas de salida de T_CO2_out = 13.31°C y T_CityWater_out = 31.99°C\n",
    "\n",
    "Un error en diferencia de potencia de 5.97W\n",
    "\n",
    "Y un error de eficiencia de 0.0002"
   ]
  },
  {
   "cell_type": "code",
   "execution_count": 22,
   "metadata": {},
   "outputs": [
    {
     "name": "stdout",
     "output_type": "stream",
     "text": [
      "f_CO2 = 0.027110861016610137 dimensionless\n",
      "DP_CO2 = 1.7812320095329095 kilopascal\n",
      "DPm_CO2 = 2.0559403114550414 kilopascal\n",
      "DPt_CO2 = 3.8371723209879507 kilopascal\n",
      "\n",
      "f_CityWater = 0.3038773563385135 dimensionless\n",
      "DP_CityWater = 4.053857761401604 kilopascal\n",
      "\n",
      "DPt = 7.8910300823895545 kilopascal\n"
     ]
    }
   ],
   "source": [
    "# Pérdida de carga en los tubos\n",
    "e = 0.045*u.mm\n",
    "f_CO2 = fld.friction.friction_factor(Re_CO2, eD=e/di_tube).to(u.dimensionless)\n",
    "DP_CO2 = N_P*(f_CO2*l*V_CO2**2*rho_CO2/(2*di_tube)).to(u.kPa)\n",
    "DPm_CO2 = (4*N_P*V_CO2**2*rho_CO2/2).to(u.kPa)\n",
    "print(f\"f_CO2 = {f_CO2}\")\n",
    "print(f\"DP_CO2 = {DP_CO2}\")\n",
    "print(f\"DPm_CO2 = {DPm_CO2}\")\n",
    "print(f\"DPt_CO2 = {DP_CO2 + DPm_CO2}\\n\")\n",
    "\n",
    "f_CityWater = np.exp(0.576-0.19*np.log(Re_CityWater))\n",
    "DP_CityWater = (f_CityWater*(N_B+1)*d_shell/d_shell_eq*V_shell**2*rho_CityWater/2).to(u.kPa)\n",
    "print(f\"f_CityWater = {f_CityWater}\")\n",
    "print(f\"DP_CityWater = {DP_CityWater}\\n\")\n",
    "\n",
    "print(f\"DPt = {DP_CO2 + DPm_CO2 + DP_CityWater}\")"
   ]
  },
  {
   "cell_type": "markdown",
   "metadata": {},
   "source": [
    "Se obtiene una pérdida de carga total de 7.89 kilo pascales."
   ]
  },
  {
   "cell_type": "markdown",
   "metadata": {},
   "source": [
    "### b. The outlet temperatures of each fluid after the heat exchanger has been in continuous service for one year without maintenancece.\n",
    "\n",
    "Se considera el factor de ensuciamiento de la coraza y de los tubos como sigue:\n",
    "$$R^\"_{f,c} = \\frac{1}{U_d} - \\frac{1}{U}$$\n",
    "$$U_d = \\bigg(\\frac{1}{U} +R^\"_{f,c}\\bigg)^{-1}$$"
   ]
  },
  {
   "cell_type": "code",
   "execution_count": 23,
   "metadata": {},
   "outputs": [
    {
     "name": "stdout",
     "output_type": "stream",
     "text": [
      "UdA = 79.90 watt / kelvin\n",
      "NTUd = 0.0010476277582224453 dimensionless\n"
     ]
    }
   ],
   "source": [
    "UdA = (UA**-1+R_CO2/A_shell_eff+R_CityWater/A_shell_eff)**-1\n",
    "print(f\"UdA = {UdA:.2f}\")\n",
    "NTUd = (UdA/Cmin).to(u.dimensionless)\n",
    "print(f\"NTUd = {NTUd}\")"
   ]
  },
  {
   "cell_type": "code",
   "execution_count": 34,
   "metadata": {},
   "outputs": [
    {
     "name": "stdout",
     "output_type": "stream",
     "text": [
      "T_CO2_out = 6.268500000000017 degree_Celsius\n",
      "T_CityWater_out = 36.31 degree_Celsius\n",
      "\n",
      "Pot_CO2 = 478094.1522111539 watt\n",
      "Pot_CityWater = -478083.2587447199 watt\n",
      "DPot = 10.893466433975846 watt\n",
      "\n",
      "F = 0.9968449450424183 dimensionless\n",
      "\n",
      "Q = 3195.00 watt\n",
      "Qmax = 3050772.29 watt\n",
      "\n",
      "Q/Qmax = 0.10472744977336525\n",
      "Efficiency = 0.10467565520953458\n"
     ]
    }
   ],
   "source": [
    "# Iterando\n",
    "T_CO2_out_d = (6.2685*u.degC).to(u.K)\n",
    "T_CityWater_out_d = (36.31*u.degC).to(u.K)\n",
    "print(f\"T_CO2_out = {T_CO2_out_d.to(u.degC)}\")\n",
    "print(f\"T_CityWater_out = {T_CityWater_out_d.to(u.degC)}\\n\")\n",
    "\n",
    "Pot_CO2 = (C_CO2*(T_CO2_out_d-T_CO2)).to(u.W)\n",
    "Pot_CityWater = (C_CityWater*(T_CityWater_out_d-T_CityWater)).to(u.W)\n",
    "print(f\"Pot_CO2 = {Pot_CO2}\")\n",
    "print(f\"Pot_CityWater = {Pot_CityWater}\")\n",
    "print(f\"DPot = {Pot_CO2+Pot_CityWater}\\n\")\n",
    "\n",
    "R = C_CO2/C_CityWater\n",
    "P = (T_CO2_out_d-T_CO2)/(T_CityWater-T_CO2)\n",
    "F = (np.sqrt(R**2+1)*np.log((1-P)/(1-P*R)))/((R-1)*np.log((2-P*(R+1-np.sqrt(R**2+1)))/(2-P*(R+1+np.sqrt(R**2+1))))).to(u.dimensionless)\n",
    "print(f\"F = {F}\\n\")\n",
    "\n",
    "Q = UA*F*(T_CityWater-T_CityWater_out_d + T_CO2_out_d-T_CO2)/np.log((T_CO2_out_d-T_CO2)/(T_CityWater-T_CityWater_out_d))\n",
    "Qmax = (Cmin*(T_CityWater-T_CO2)).to(u.W)\n",
    "print(f\"Q = {Q:.2f}\")\n",
    "print(f\"Qmax = {Qmax:.2f}\\n\")\n",
    "print(f\"Q/Qmax = {(Q/Qmax*100).magnitude}\")\n",
    "\n",
    "e = (2*(1+Cr+np.sqrt(1+Cr**2)*(1+np.exp(-NTUd*np.sqrt(1+Cr**2)))/(1-np.exp(-NTUd*np.sqrt(1+Cr**2))))**-1*100).magnitude\n",
    "print(f\"Efficiency = {e}\")"
   ]
  },
  {
   "cell_type": "markdown",
   "metadata": {},
   "source": [
    "Se obtienen unas temperaturas de salida de T_CO2_out = 6.27°C y T_CityWater_out = 36.31°C\n",
    "\n",
    "Un error en diferencia de potencia de 10.89W\n",
    "\n",
    "Y un error de eficiencia de 0.0001\n",
    "\n",
    "El valor obtenido es considerablemente peor que el de un sistema nuevo, lo cual tiene sentido físico."
   ]
  },
  {
   "cell_type": "markdown",
   "metadata": {},
   "source": [
    "c. If the outlet temperature of the carbon dioxide must be 20°C or higher, is this heat exchanger sufficient for the required duty?\n",
    "\n",
    "El dióxido de carbono no llega a los 20°C incluso cuando el sistema está nuevo, por lo tanto, el intercambiador de calor no es suficiente para realizar el trabajo requerido."
   ]
  },
  {
   "cell_type": "markdown",
   "metadata": {},
   "source": [
    "# Pregunta 3\n",
    "Considere el plano hidráulico de la localidad de Hualañé y la distribución de diámetros determinada en la Tarea 2. Seleccione una bomba de uno de los dos catalogos disponibles, que permita entregar el caudal y nivel de presión requerido (6pts). Identifique el punto de operación de la bomba (6pts)"
   ]
  },
  {
   "cell_type": "code",
   "execution_count": null,
   "metadata": {},
   "outputs": [],
   "source": []
  },
  {
   "cell_type": "markdown",
   "metadata": {},
   "source": [
    "# Bibliografía\n",
    "\n",
    "[1] https://www.stainless-structurals.com/blog/comparing-the-thermal-conductivity-of-stainless-steel-to-other-metals/"
   ]
  },
  {
   "cell_type": "markdown",
   "metadata": {},
   "source": []
  }
 ],
 "metadata": {
  "kernelspec": {
   "display_name": "myenv",
   "language": "python",
   "name": "python3"
  },
  "language_info": {
   "codemirror_mode": {
    "name": "ipython",
    "version": 3
   },
   "file_extension": ".py",
   "mimetype": "text/x-python",
   "name": "python",
   "nbconvert_exporter": "python",
   "pygments_lexer": "ipython3",
   "version": "3.12.7"
  }
 },
 "nbformat": 4,
 "nbformat_minor": 2
}
