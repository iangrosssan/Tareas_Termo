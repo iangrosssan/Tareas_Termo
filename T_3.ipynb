{
 "cells": [
  {
   "cell_type": "markdown",
   "metadata": {},
   "source": [
    "# Tarea 3: Piping y Bombas\n",
    "### Pablo Correa e Ian Gross"
   ]
  },
  {
   "cell_type": "markdown",
   "metadata": {},
   "source": [
    "## Librerías"
   ]
  },
  {
   "cell_type": "code",
   "execution_count": 1,
   "metadata": {},
   "outputs": [],
   "source": [
    "import CoolProp.CoolProp as cp\n",
    "import fluids as fld\n",
    "import numpy as np\n",
    "import scipy.constants as cte\n",
    "import scipy.optimize as opt\n",
    "import matplotlib.pyplot as plt\n",
    "import pandas as pd\n",
    "\n",
    "from fluids.units import *"
   ]
  },
  {
   "cell_type": "code",
   "execution_count": 2,
   "metadata": {},
   "outputs": [],
   "source": [
    "g = cte.g*u.m/u.s**2\n",
    "Patm = (1*u.atm).to(u.Pa)"
   ]
  },
  {
   "cell_type": "markdown",
   "metadata": {},
   "source": [
    "# Pregunta 1\n",
    "Considere el sistema de almacenamiento de energía visto en el laboratorio.\n",
    "\n",
    "A partir de los datos de operación del archivo anexo, verifique si la pérdida de carga observada se puede representar por la ecuación de Ergun.\n",
    "\n",
    "¿Cuánto es el error con respecto a la correlación? (3pts), ¿Cuanto afecta la temperatura y la variabilidad de las propiedades termofísicas del aire? (3pts).\n",
    "\n",
    "Asuma que el sistema de almacenamiento es un intercambiador de calor de flujo paralelo, donde el solido es uno de los medio de transferencia de calor. ¿Cuanto sería la efectividad del sistema (intercambiador de calor)? (3pts)"
   ]
  },
  {
   "cell_type": "code",
   "execution_count": 3,
   "metadata": {},
   "outputs": [
    {
     "ename": "ImportError",
     "evalue": "Missing optional dependency 'openpyxl'.  Use pip or conda to install openpyxl.",
     "output_type": "error",
     "traceback": [
      "\u001b[0;31m---------------------------------------------------------------------------\u001b[0m",
      "\u001b[0;31mModuleNotFoundError\u001b[0m                       Traceback (most recent call last)",
      "File \u001b[0;32m~/anaconda3/envs/myenv/lib/python3.12/site-packages/pandas/compat/_optional.py:135\u001b[0m, in \u001b[0;36mimport_optional_dependency\u001b[0;34m(name, extra, errors, min_version)\u001b[0m\n\u001b[1;32m    134\u001b[0m \u001b[38;5;28;01mtry\u001b[39;00m:\n\u001b[0;32m--> 135\u001b[0m     module \u001b[38;5;241m=\u001b[39m \u001b[43mimportlib\u001b[49m\u001b[38;5;241;43m.\u001b[39;49m\u001b[43mimport_module\u001b[49m\u001b[43m(\u001b[49m\u001b[43mname\u001b[49m\u001b[43m)\u001b[49m\n\u001b[1;32m    136\u001b[0m \u001b[38;5;28;01mexcept\u001b[39;00m \u001b[38;5;167;01mImportError\u001b[39;00m:\n",
      "File \u001b[0;32m~/anaconda3/envs/myenv/lib/python3.12/importlib/__init__.py:90\u001b[0m, in \u001b[0;36mimport_module\u001b[0;34m(name, package)\u001b[0m\n\u001b[1;32m     89\u001b[0m         level \u001b[38;5;241m+\u001b[39m\u001b[38;5;241m=\u001b[39m \u001b[38;5;241m1\u001b[39m\n\u001b[0;32m---> 90\u001b[0m \u001b[38;5;28;01mreturn\u001b[39;00m \u001b[43m_bootstrap\u001b[49m\u001b[38;5;241;43m.\u001b[39;49m\u001b[43m_gcd_import\u001b[49m\u001b[43m(\u001b[49m\u001b[43mname\u001b[49m\u001b[43m[\u001b[49m\u001b[43mlevel\u001b[49m\u001b[43m:\u001b[49m\u001b[43m]\u001b[49m\u001b[43m,\u001b[49m\u001b[43m \u001b[49m\u001b[43mpackage\u001b[49m\u001b[43m,\u001b[49m\u001b[43m \u001b[49m\u001b[43mlevel\u001b[49m\u001b[43m)\u001b[49m\n",
      "File \u001b[0;32m<frozen importlib._bootstrap>:1387\u001b[0m, in \u001b[0;36m_gcd_import\u001b[0;34m(name, package, level)\u001b[0m\n",
      "File \u001b[0;32m<frozen importlib._bootstrap>:1360\u001b[0m, in \u001b[0;36m_find_and_load\u001b[0;34m(name, import_)\u001b[0m\n",
      "File \u001b[0;32m<frozen importlib._bootstrap>:1324\u001b[0m, in \u001b[0;36m_find_and_load_unlocked\u001b[0;34m(name, import_)\u001b[0m\n",
      "\u001b[0;31mModuleNotFoundError\u001b[0m: No module named 'openpyxl'",
      "\nDuring handling of the above exception, another exception occurred:\n",
      "\u001b[0;31mImportError\u001b[0m                               Traceback (most recent call last)",
      "Cell \u001b[0;32mIn[3], line 2\u001b[0m\n\u001b[1;32m      1\u001b[0m headers \u001b[38;5;241m=\u001b[39m [\u001b[38;5;124m\"\u001b[39m\u001b[38;5;124mScan Sweep Time (s)\u001b[39m\u001b[38;5;124m\"\u001b[39m, \u001b[38;5;124m\"\u001b[39m\u001b[38;5;124mTemp. Entrada (°C)\u001b[39m\u001b[38;5;124m\"\u001b[39m, \u001b[38;5;124m\"\u001b[39m\u001b[38;5;124mVel. Aire (m/s)\u001b[39m\u001b[38;5;124m\"\u001b[39m, \u001b[38;5;124m\"\u001b[39m\u001b[38;5;124mTemp. Aire (°C)\u001b[39m\u001b[38;5;124m\"\u001b[39m,\u001b[38;5;124m\"\u001b[39m\u001b[38;5;124mPresión Dif. Estanque (mbar)\u001b[39m\u001b[38;5;124m\"\u001b[39m, \u001b[38;5;124m\"\u001b[39m\u001b[38;5;124mTemp. Salida (°C)\u001b[39m\u001b[38;5;124m\"\u001b[39m]\n\u001b[0;32m----> 2\u001b[0m data \u001b[38;5;241m=\u001b[39m \u001b[43mpd\u001b[49m\u001b[38;5;241;43m.\u001b[39;49m\u001b[43mread_excel\u001b[49m\u001b[43m(\u001b[49m\u001b[38;5;124;43m\"\u001b[39;49m\u001b[38;5;124;43mEnsayo Piloto Lleno T-220°C.xlsx\u001b[39;49m\u001b[38;5;124;43m\"\u001b[39;49m\u001b[43m,\u001b[49m\u001b[43m \u001b[49m\u001b[43mskiprows\u001b[49m\u001b[38;5;241;43m=\u001b[39;49m\u001b[38;5;241;43m16\u001b[39;49m\u001b[43m,\u001b[49m\u001b[43m \u001b[49m\u001b[43musecols\u001b[49m\u001b[38;5;241;43m=\u001b[39;49m\u001b[38;5;124;43m\"\u001b[39;49m\u001b[38;5;124;43mA,C:G\u001b[39;49m\u001b[38;5;124;43m\"\u001b[39;49m\u001b[43m,\u001b[49m\u001b[43m \u001b[49m\u001b[43mnames\u001b[49m\u001b[38;5;241;43m=\u001b[39;49m\u001b[43mheaders\u001b[49m\u001b[43m)\u001b[49m\n\u001b[1;32m      3\u001b[0m data\n",
      "File \u001b[0;32m~/anaconda3/envs/myenv/lib/python3.12/site-packages/pandas/io/excel/_base.py:495\u001b[0m, in \u001b[0;36mread_excel\u001b[0;34m(io, sheet_name, header, names, index_col, usecols, dtype, engine, converters, true_values, false_values, skiprows, nrows, na_values, keep_default_na, na_filter, verbose, parse_dates, date_parser, date_format, thousands, decimal, comment, skipfooter, storage_options, dtype_backend, engine_kwargs)\u001b[0m\n\u001b[1;32m    493\u001b[0m \u001b[38;5;28;01mif\u001b[39;00m \u001b[38;5;129;01mnot\u001b[39;00m \u001b[38;5;28misinstance\u001b[39m(io, ExcelFile):\n\u001b[1;32m    494\u001b[0m     should_close \u001b[38;5;241m=\u001b[39m \u001b[38;5;28;01mTrue\u001b[39;00m\n\u001b[0;32m--> 495\u001b[0m     io \u001b[38;5;241m=\u001b[39m \u001b[43mExcelFile\u001b[49m\u001b[43m(\u001b[49m\n\u001b[1;32m    496\u001b[0m \u001b[43m        \u001b[49m\u001b[43mio\u001b[49m\u001b[43m,\u001b[49m\n\u001b[1;32m    497\u001b[0m \u001b[43m        \u001b[49m\u001b[43mstorage_options\u001b[49m\u001b[38;5;241;43m=\u001b[39;49m\u001b[43mstorage_options\u001b[49m\u001b[43m,\u001b[49m\n\u001b[1;32m    498\u001b[0m \u001b[43m        \u001b[49m\u001b[43mengine\u001b[49m\u001b[38;5;241;43m=\u001b[39;49m\u001b[43mengine\u001b[49m\u001b[43m,\u001b[49m\n\u001b[1;32m    499\u001b[0m \u001b[43m        \u001b[49m\u001b[43mengine_kwargs\u001b[49m\u001b[38;5;241;43m=\u001b[39;49m\u001b[43mengine_kwargs\u001b[49m\u001b[43m,\u001b[49m\n\u001b[1;32m    500\u001b[0m \u001b[43m    \u001b[49m\u001b[43m)\u001b[49m\n\u001b[1;32m    501\u001b[0m \u001b[38;5;28;01melif\u001b[39;00m engine \u001b[38;5;129;01mand\u001b[39;00m engine \u001b[38;5;241m!=\u001b[39m io\u001b[38;5;241m.\u001b[39mengine:\n\u001b[1;32m    502\u001b[0m     \u001b[38;5;28;01mraise\u001b[39;00m \u001b[38;5;167;01mValueError\u001b[39;00m(\n\u001b[1;32m    503\u001b[0m         \u001b[38;5;124m\"\u001b[39m\u001b[38;5;124mEngine should not be specified when passing \u001b[39m\u001b[38;5;124m\"\u001b[39m\n\u001b[1;32m    504\u001b[0m         \u001b[38;5;124m\"\u001b[39m\u001b[38;5;124man ExcelFile - ExcelFile already has the engine set\u001b[39m\u001b[38;5;124m\"\u001b[39m\n\u001b[1;32m    505\u001b[0m     )\n",
      "File \u001b[0;32m~/anaconda3/envs/myenv/lib/python3.12/site-packages/pandas/io/excel/_base.py:1567\u001b[0m, in \u001b[0;36mExcelFile.__init__\u001b[0;34m(self, path_or_buffer, engine, storage_options, engine_kwargs)\u001b[0m\n\u001b[1;32m   1564\u001b[0m \u001b[38;5;28mself\u001b[39m\u001b[38;5;241m.\u001b[39mengine \u001b[38;5;241m=\u001b[39m engine\n\u001b[1;32m   1565\u001b[0m \u001b[38;5;28mself\u001b[39m\u001b[38;5;241m.\u001b[39mstorage_options \u001b[38;5;241m=\u001b[39m storage_options\n\u001b[0;32m-> 1567\u001b[0m \u001b[38;5;28mself\u001b[39m\u001b[38;5;241m.\u001b[39m_reader \u001b[38;5;241m=\u001b[39m \u001b[38;5;28;43mself\u001b[39;49m\u001b[38;5;241;43m.\u001b[39;49m\u001b[43m_engines\u001b[49m\u001b[43m[\u001b[49m\u001b[43mengine\u001b[49m\u001b[43m]\u001b[49m\u001b[43m(\u001b[49m\n\u001b[1;32m   1568\u001b[0m \u001b[43m    \u001b[49m\u001b[38;5;28;43mself\u001b[39;49m\u001b[38;5;241;43m.\u001b[39;49m\u001b[43m_io\u001b[49m\u001b[43m,\u001b[49m\n\u001b[1;32m   1569\u001b[0m \u001b[43m    \u001b[49m\u001b[43mstorage_options\u001b[49m\u001b[38;5;241;43m=\u001b[39;49m\u001b[43mstorage_options\u001b[49m\u001b[43m,\u001b[49m\n\u001b[1;32m   1570\u001b[0m \u001b[43m    \u001b[49m\u001b[43mengine_kwargs\u001b[49m\u001b[38;5;241;43m=\u001b[39;49m\u001b[43mengine_kwargs\u001b[49m\u001b[43m,\u001b[49m\n\u001b[1;32m   1571\u001b[0m \u001b[43m\u001b[49m\u001b[43m)\u001b[49m\n",
      "File \u001b[0;32m~/anaconda3/envs/myenv/lib/python3.12/site-packages/pandas/io/excel/_openpyxl.py:552\u001b[0m, in \u001b[0;36mOpenpyxlReader.__init__\u001b[0;34m(self, filepath_or_buffer, storage_options, engine_kwargs)\u001b[0m\n\u001b[1;32m    534\u001b[0m \u001b[38;5;129m@doc\u001b[39m(storage_options\u001b[38;5;241m=\u001b[39m_shared_docs[\u001b[38;5;124m\"\u001b[39m\u001b[38;5;124mstorage_options\u001b[39m\u001b[38;5;124m\"\u001b[39m])\n\u001b[1;32m    535\u001b[0m \u001b[38;5;28;01mdef\u001b[39;00m \u001b[38;5;21m__init__\u001b[39m(\n\u001b[1;32m    536\u001b[0m     \u001b[38;5;28mself\u001b[39m,\n\u001b[0;32m   (...)\u001b[0m\n\u001b[1;32m    539\u001b[0m     engine_kwargs: \u001b[38;5;28mdict\u001b[39m \u001b[38;5;241m|\u001b[39m \u001b[38;5;28;01mNone\u001b[39;00m \u001b[38;5;241m=\u001b[39m \u001b[38;5;28;01mNone\u001b[39;00m,\n\u001b[1;32m    540\u001b[0m ) \u001b[38;5;241m-\u001b[39m\u001b[38;5;241m>\u001b[39m \u001b[38;5;28;01mNone\u001b[39;00m:\n\u001b[1;32m    541\u001b[0m \u001b[38;5;250m    \u001b[39m\u001b[38;5;124;03m\"\"\"\u001b[39;00m\n\u001b[1;32m    542\u001b[0m \u001b[38;5;124;03m    Reader using openpyxl engine.\u001b[39;00m\n\u001b[1;32m    543\u001b[0m \n\u001b[0;32m   (...)\u001b[0m\n\u001b[1;32m    550\u001b[0m \u001b[38;5;124;03m        Arbitrary keyword arguments passed to excel engine.\u001b[39;00m\n\u001b[1;32m    551\u001b[0m \u001b[38;5;124;03m    \"\"\"\u001b[39;00m\n\u001b[0;32m--> 552\u001b[0m     \u001b[43mimport_optional_dependency\u001b[49m\u001b[43m(\u001b[49m\u001b[38;5;124;43m\"\u001b[39;49m\u001b[38;5;124;43mopenpyxl\u001b[39;49m\u001b[38;5;124;43m\"\u001b[39;49m\u001b[43m)\u001b[49m\n\u001b[1;32m    553\u001b[0m     \u001b[38;5;28msuper\u001b[39m()\u001b[38;5;241m.\u001b[39m\u001b[38;5;21m__init__\u001b[39m(\n\u001b[1;32m    554\u001b[0m         filepath_or_buffer,\n\u001b[1;32m    555\u001b[0m         storage_options\u001b[38;5;241m=\u001b[39mstorage_options,\n\u001b[1;32m    556\u001b[0m         engine_kwargs\u001b[38;5;241m=\u001b[39mengine_kwargs,\n\u001b[1;32m    557\u001b[0m     )\n",
      "File \u001b[0;32m~/anaconda3/envs/myenv/lib/python3.12/site-packages/pandas/compat/_optional.py:138\u001b[0m, in \u001b[0;36mimport_optional_dependency\u001b[0;34m(name, extra, errors, min_version)\u001b[0m\n\u001b[1;32m    136\u001b[0m \u001b[38;5;28;01mexcept\u001b[39;00m \u001b[38;5;167;01mImportError\u001b[39;00m:\n\u001b[1;32m    137\u001b[0m     \u001b[38;5;28;01mif\u001b[39;00m errors \u001b[38;5;241m==\u001b[39m \u001b[38;5;124m\"\u001b[39m\u001b[38;5;124mraise\u001b[39m\u001b[38;5;124m\"\u001b[39m:\n\u001b[0;32m--> 138\u001b[0m         \u001b[38;5;28;01mraise\u001b[39;00m \u001b[38;5;167;01mImportError\u001b[39;00m(msg)\n\u001b[1;32m    139\u001b[0m     \u001b[38;5;28;01mreturn\u001b[39;00m \u001b[38;5;28;01mNone\u001b[39;00m\n\u001b[1;32m    141\u001b[0m \u001b[38;5;66;03m# Handle submodules: if we have submodule, grab parent module from sys.modules\u001b[39;00m\n",
      "\u001b[0;31mImportError\u001b[0m: Missing optional dependency 'openpyxl'.  Use pip or conda to install openpyxl."
     ]
    }
   ],
   "source": [
    "headers = [\"Scan Sweep Time (s)\", \"Temp. Entrada (°C)\", \"Vel. Aire (m/s)\", \"Temp. Aire (°C)\",\"Presión Dif. Estanque (mbar)\", \"Temp. Salida (°C)\"]\n",
    "data = pd.read_excel(\"Ensayo Piloto Lleno T-220°C.xlsx\", skiprows=16, usecols=\"A,C:G\", names=headers)\n",
    "data"
   ]
  },
  {
   "cell_type": "code",
   "execution_count": null,
   "metadata": {},
   "outputs": [
    {
     "data": {
      "text/html": [
       "<div>\n",
       "<style scoped>\n",
       "    .dataframe tbody tr th:only-of-type {\n",
       "        vertical-align: middle;\n",
       "    }\n",
       "\n",
       "    .dataframe tbody tr th {\n",
       "        vertical-align: top;\n",
       "    }\n",
       "\n",
       "    .dataframe thead th {\n",
       "        text-align: right;\n",
       "    }\n",
       "</style>\n",
       "<table border=\"1\" class=\"dataframe\">\n",
       "  <thead>\n",
       "    <tr style=\"text-align: right;\">\n",
       "      <th></th>\n",
       "      <th>Temp. Entrada (°C)</th>\n",
       "      <th>Vel. Aire (m/s)</th>\n",
       "      <th>Temp. Aire (°C)</th>\n",
       "      <th>Presión Dif. Estanque (mbar)</th>\n",
       "      <th>Temp. Salida (°C)</th>\n",
       "    </tr>\n",
       "  </thead>\n",
       "  <tbody>\n",
       "    <tr>\n",
       "      <th>Temp. Entrada (°C)</th>\n",
       "      <td>1.000000</td>\n",
       "      <td>0.586682</td>\n",
       "      <td>0.779613</td>\n",
       "      <td>0.665450</td>\n",
       "      <td>0.745914</td>\n",
       "    </tr>\n",
       "    <tr>\n",
       "      <th>Vel. Aire (m/s)</th>\n",
       "      <td>0.586682</td>\n",
       "      <td>1.000000</td>\n",
       "      <td>0.815704</td>\n",
       "      <td>0.820089</td>\n",
       "      <td>0.520827</td>\n",
       "    </tr>\n",
       "    <tr>\n",
       "      <th>Temp. Aire (°C)</th>\n",
       "      <td>0.779613</td>\n",
       "      <td>0.815704</td>\n",
       "      <td>1.000000</td>\n",
       "      <td>0.963905</td>\n",
       "      <td>0.798176</td>\n",
       "    </tr>\n",
       "    <tr>\n",
       "      <th>Presión Dif. Estanque (mbar)</th>\n",
       "      <td>0.665450</td>\n",
       "      <td>0.820089</td>\n",
       "      <td>0.963905</td>\n",
       "      <td>1.000000</td>\n",
       "      <td>0.736789</td>\n",
       "    </tr>\n",
       "    <tr>\n",
       "      <th>Temp. Salida (°C)</th>\n",
       "      <td>0.745914</td>\n",
       "      <td>0.520827</td>\n",
       "      <td>0.798176</td>\n",
       "      <td>0.736789</td>\n",
       "      <td>1.000000</td>\n",
       "    </tr>\n",
       "  </tbody>\n",
       "</table>\n",
       "</div>"
      ],
      "text/plain": [
       "                              Temp. Entrada (°C)  Vel. Aire (m/s)  \\\n",
       "Temp. Entrada (°C)                      1.000000         0.586682   \n",
       "Vel. Aire (m/s)                         0.586682         1.000000   \n",
       "Temp. Aire (°C)                         0.779613         0.815704   \n",
       "Presión Dif. Estanque (mbar)            0.665450         0.820089   \n",
       "Temp. Salida (°C)                       0.745914         0.520827   \n",
       "\n",
       "                              Temp. Aire (°C)  Presión Dif. Estanque (mbar)  \\\n",
       "Temp. Entrada (°C)                   0.779613                      0.665450   \n",
       "Vel. Aire (m/s)                      0.815704                      0.820089   \n",
       "Temp. Aire (°C)                      1.000000                      0.963905   \n",
       "Presión Dif. Estanque (mbar)         0.963905                      1.000000   \n",
       "Temp. Salida (°C)                    0.798176                      0.736789   \n",
       "\n",
       "                              Temp. Salida (°C)  \n",
       "Temp. Entrada (°C)                     0.745914  \n",
       "Vel. Aire (m/s)                        0.520827  \n",
       "Temp. Aire (°C)                        0.798176  \n",
       "Presión Dif. Estanque (mbar)           0.736789  \n",
       "Temp. Salida (°C)                      1.000000  "
      ]
     },
     "execution_count": 19,
     "metadata": {},
     "output_type": "execute_result"
    }
   ],
   "source": [
    "data.corr()"
   ]
  },
  {
   "cell_type": "markdown",
   "metadata": {},
   "source": [
    "# Pregunta 2\n",
    "Liquid  carbon  dioxide  enters  the  tubes  of  a  shell  and  tube  heat  exchanger  at  a  temperature of 0°C and a flow rate of 30 kg/s. The carbon dioxide is heated with a flow of city water that enters the shell side of the heat exchanger at a temperature of 40°C and a flow rate of 31 kg/s. The heat exchanger is a single shell, two-tube pass configuration with a 25in shell. The tubes are ¾in 10BWG laid out on a 1in triangular pitch. The heat exchanger is 2m long and contains 2 baffles per meter of length.\n",
    "* Asumiendo presión atmosférica en la entrada\n",
    "* Asumiendo que las paredes del intercambiador son de hierro forjado. [1]\n",
    "* Asumiendo que el cambio de $\\mu$ es despreciable entre la coraza y la pared del tubo"
   ]
  },
  {
   "cell_type": "code",
   "execution_count": 4,
   "metadata": {},
   "outputs": [],
   "source": [
    "# Temperaturas\n",
    "T_CO2 = (0*u.degC).to(u.K)\n",
    "T_CityWater = (40*u.degC).to(u.K)\n",
    "\n",
    "# Masas\n",
    "dm_CO2 = 30*u.kg/u.s\n",
    "dm_CityWater = 31*u.kg/u.s\n",
    "\n",
    "# Diametros\n",
    "d_shell = (25*u.inch).to(u.m)\n",
    "do_tube = (0.75*u.inch).to(u.m)\n",
    "t_tube = t_from_gauge(10, schedule='BWG')\n",
    "di_tube = do_tube - t_tube\n",
    "\n",
    "# Longitudes\n",
    "l = 2*u.m\n",
    "Pt = (1*u.inch).to(u.m)\n",
    "B = 0.5*u.m\n",
    "\n",
    "# Número de tubos\n",
    "N_T = 452*u.dimensionless\n",
    "\n",
    "# Número de pasos\n",
    "N_P = 2*u.dimensionless\n",
    "\n",
    "# Número de bafles\n",
    "N_B = 4*u.dimensionless\n",
    "\n",
    "# Fouling Factor\n",
    "R_CO2 = 0.000176*u.m**2*u.K/u.W\n",
    "R_CityWater = 0.000352*u.m**2*u.K/u.W"
   ]
  },
  {
   "cell_type": "code",
   "execution_count": 5,
   "metadata": {},
   "outputs": [
    {
     "name": "stdout",
     "output_type": "stream",
     "text": [
      "d_shell_eq = 0.0183 meter\n",
      "A_tube_eff = 0.0435 meter ** 2\n",
      "A_shell_eff = 0.0794 meter ** 2\n"
     ]
    }
   ],
   "source": [
    "# Diámetro hidáulico dado en clases\n",
    "d_shell_eq = 2*np.sqrt(3)*Pt**2/(np.pi*do_tube)-do_tube\n",
    "print(f\"d_shell_eq = {d_shell_eq:.4f}\")\n",
    "\n",
    "# Área efectiva de transferencia de calor\n",
    "A_tube_eff = N_T/N_P*(np.pi*di_tube**2/4)\n",
    "print(f\"A_tube_eff = {A_tube_eff:.4f}\")\n",
    "\n",
    "# Área transversal de un tubo\n",
    "A_tube_cross = np.pi * di_tube**2/4*N_T\n",
    "\n",
    "# Area efectiva de transferencia de calor\n",
    "A_shell_eff = (d_shell*(Pt-do_tube)*B/Pt).to(u.m**2)\n",
    "print(f\"A_shell_eff = {A_shell_eff:.4f}\")\n",
    "\n"
   ]
  },
  {
   "cell_type": "code",
   "execution_count": 6,
   "metadata": {},
   "outputs": [
    {
     "name": "stdout",
     "output_type": "stream",
     "text": [
      "Cr = 0.59 dimensionless\n"
     ]
    }
   ],
   "source": [
    "# Propiedades de los fluidos\n",
    "rho_CO2 = cp.PropsSI('D', 'T', T_CO2.magnitude, 'Q', 0, 'CO2')*u.kg/u.m**3\n",
    "mu_CO2 = cp.PropsSI('V', 'T', T_CO2.magnitude, 'Q', 0, 'CO2')*u.Pa*u.s\n",
    "k_CO2 = cp.PropsSI('L', 'T', T_CO2.magnitude, 'Q', 0, 'CO2')*u.W/u.m/u.K\n",
    "cp_CO2 = cp.PropsSI('Cpmass', 'T', T_CO2.magnitude, 'Q', 0, 'CO2')*u.J/u.kg/u.K\n",
    "\n",
    "\n",
    "rho_CityWater = cp.PropsSI('D', 'T', T_CityWater.magnitude, 'P', Patm.magnitude, 'water')*u.kg/u.m**3\n",
    "mu_CityWater = cp.PropsSI('V', 'T', T_CityWater.magnitude, 'P', Patm.magnitude, 'water')*u.Pa*u.s\n",
    "k_CityWater = cp.PropsSI('L', 'T', T_CityWater.magnitude, 'P', Patm.magnitude, 'water')*u.W/u.m/u.K\n",
    "cp_CityWater = cp.PropsSI('Cpmass', 'T', T_CityWater.magnitude, 'P', Patm.magnitude, 'water')*u.J/u.kg/u.K\n",
    "\n",
    "# Cp\n",
    "C_CO2 = dm_CO2*cp_CO2\n",
    "C_CityWater = dm_CityWater*cp_CityWater\n",
    "Cmin = min(C_CO2, C_CityWater)\n",
    "Cmax = max(C_CO2, C_CityWater)\n",
    "Cr = Cmin/Cmax\n",
    "print(f\"Cr = {Cr:.2f}\")"
   ]
  },
  {
   "cell_type": "markdown",
   "metadata": {},
   "source": [
    "### Calculando h_interno"
   ]
  },
  {
   "cell_type": "code",
   "execution_count": 7,
   "metadata": {},
   "outputs": [
    {
     "name": "stdout",
     "output_type": "stream",
     "text": [
      "Re_CO2 = 107590.86 dimensionless\n",
      "Pr_CO2 = 2.34 dimensionless\n",
      "L/D = 127.83 dimensionless\n"
     ]
    }
   ],
   "source": [
    "# Condiciones para Nusselt\n",
    "V_CO2 = dm_CO2/(rho_CO2*A_tube_eff)\n",
    "\n",
    "Re_CO2 = fld.core.Reynolds(V_CO2, di_tube, rho_CO2, mu_CO2).to(u.dimensionless)\n",
    "print(f\"Re_CO2 = {Re_CO2:.2f}\")\n",
    "Pr_CO2 = fld.core.Prandtl(Cp=cp_CO2, mu=mu_CO2, k=k_CO2).to(u.dimensionless)\n",
    "print(f\"Pr_CO2 = {Pr_CO2:.2f}\")\n",
    "\n",
    "print(f\"L/D = {l/di_tube:.2f}\")"
   ]
  },
  {
   "cell_type": "markdown",
   "metadata": {},
   "source": [
    "Para calcular el número de Nusselt dado que el flujo es turbulento y se está calentando:"
   ]
  },
  {
   "cell_type": "code",
   "execution_count": 8,
   "metadata": {},
   "outputs": [
    {
     "name": "stdout",
     "output_type": "stream",
     "text": [
      "Nu_CO2 = 342.55 dimensionless\n",
      "h_tube = 10983.97 watt / kelvin / meter ** 2\n",
      "\n"
     ]
    }
   ],
   "source": [
    "Nu_CO2 = 0.023*Re_CO2**0.8*Pr_CO2**0.4\n",
    "print(f\"Nu_CO2 = {Nu_CO2:.2f}\")\n",
    "\n",
    "h_tube = (k_CO2*Nu_CO2/t_tube).to(u.W/u.m**2/u.K)\n",
    "print(f\"h_tube = {h_tube:.2f}\\n\")\n"
   ]
  },
  {
   "cell_type": "markdown",
   "metadata": {},
   "source": [
    "### Calculando R de conducción"
   ]
  },
  {
   "cell_type": "code",
   "execution_count": 9,
   "metadata": {},
   "outputs": [
    {
     "name": "stdout",
     "output_type": "stream",
     "text": [
      "Rw = 7.7016e-07 kelvin / watt\n",
      "\n"
     ]
    }
   ],
   "source": [
    "k = 45*u.W/u.K/u.m\n",
    "Rw = np.log(do_tube/di_tube)/(2*np.pi*k*l)/N_T\n",
    "print(f\"Rw = {Rw:.5}\\n\")"
   ]
  },
  {
   "cell_type": "markdown",
   "metadata": {},
   "source": [
    "### Calculando h_externo"
   ]
  },
  {
   "cell_type": "code",
   "execution_count": 10,
   "metadata": {},
   "outputs": [
    {
     "name": "stdout",
     "output_type": "stream",
     "text": [
      "Vs = 0.394 meter / second\n",
      "Re_CityWater = 10945.57 dimensionless\n",
      "Pr_CityWater = 4.34 dimensionless\n"
     ]
    }
   ],
   "source": [
    "V_shell = dm_CityWater/(rho_CityWater*A_shell_eff)\n",
    "print(f\"Vs = {V_shell:.3f}\")\n",
    "\n",
    "Re_CityWater = fld.core.Reynolds(V_shell, d_shell_eq, rho_CityWater, mu_CityWater).to(u.dimensionless)\n",
    "print(f\"Re_CityWater = {Re_CityWater:.2f}\")\n",
    "\n",
    "Pr_CityWater = fld.core.Prandtl(Cp=cp_CityWater, mu=mu_CityWater, k=k_CityWater).to(u.dimensionless)\n",
    "print(f\"Pr_CityWater = {Pr_CityWater:.2f}\")"
   ]
  },
  {
   "cell_type": "markdown",
   "metadata": {},
   "source": [
    "Para calcular el número de Nusselt dado que el flujo es turbulento y se está enfriando:"
   ]
  },
  {
   "cell_type": "code",
   "execution_count": 11,
   "metadata": {},
   "outputs": [
    {
     "name": "stdout",
     "output_type": "stream",
     "text": [
      "Nu_CityWater = 97.34 dimensionless\n",
      "h_shell = 3344.09 watt / kelvin / meter ** 2\n",
      "\n"
     ]
    }
   ],
   "source": [
    "Nu_CityWater = 0.36*Re_CityWater**0.55*Pr_CityWater**0.33\n",
    "print(f\"Nu_CityWater = {Nu_CityWater:.2f}\")\n",
    "\n",
    "h_shell = (k_CityWater*Nu_CityWater/d_shell_eq).to(u.W/u.m**2/u.K)\n",
    "print(f\"h_shell = {h_shell:.2f}\\n\")"
   ]
  },
  {
   "cell_type": "markdown",
   "metadata": {},
   "source": [
    "### Cálculo de  y NTU"
   ]
  },
  {
   "cell_type": "code",
   "execution_count": 30,
   "metadata": {},
   "outputs": [
    {
     "name": "stdout",
     "output_type": "stream",
     "text": [
      "UA = 170.55 watt / kelvin\n",
      "NTU = 0.002236153515557553 dimensionless\n"
     ]
    }
   ],
   "source": [
    "UA = ((1/(h_tube*A_tube_eff) + Rw + 1/(h_shell*A_shell_eff))**-1).to(u.W/u.K)\n",
    "print(f\"UA = {UA:.2f}\")\n",
    "NTU = (UA/Cmin).to(u.dimensionless)\n",
    "print(f\"NTU = {NTU}\")\n"
   ]
  },
  {
   "cell_type": "markdown",
   "metadata": {},
   "source": [
    "### 2.a"
   ]
  },
  {
   "cell_type": "code",
   "execution_count": 124,
   "metadata": {},
   "outputs": [
    {
     "name": "stdout",
     "output_type": "stream",
     "text": [
      "T_CO2_out = 13.61 degree_Celsius\n",
      "T_CityWater_out = 31.99 degree_Celsius\n",
      "\n",
      "Pot_CO2 = 1037796.4631310743 watt\n",
      "Pot_CityWater = -1037790.4884946353 watt\n",
      "DPot = 5.974636439001188 watt\n",
      "\n",
      "F = 0.98 dimensionless\n",
      "\n",
      "Q = 6805.41 watt\n",
      "Qmax = 3050772.29 watt\n",
      "\n",
      "Q/Qmax = 0.22307155741650378\n",
      "Efficiency = 0.22321873267121367\n"
     ]
    }
   ],
   "source": [
    "# Iterando\n",
    "T_CO2_out = (13.607*u.degC).to(u.K)\n",
    "T_CityWater_out = (31.99*u.degC).to(u.K)\n",
    "print(f\"T_CO2_out = {T_CO2_out.to(u.degC):.2f}\")\n",
    "print(f\"T_CityWater_out = {T_CityWater_out.to(u.degC):.2f}\\n\")\n",
    "\n",
    "Pot_CO2 = (C_CO2*(T_CO2_out-T_CO2)).to(u.W)\n",
    "Pot_CityWater = (C_CityWater*(T_CityWater_out-T_CityWater)).to(u.W)\n",
    "print(f\"Pot_CO2 = {Pot_CO2}\")\n",
    "print(f\"Pot_CityWater = {Pot_CityWater}\")\n",
    "print(f\"DPot = {Pot_CO2+Pot_CityWater}\\n\")\n",
    "\n",
    "R = C_CO2/C_CityWater\n",
    "P = (T_CO2_out-T_CO2)/(T_CityWater-T_CO2)\n",
    "F = (np.sqrt(R**2+1)*np.log((1-P)/(1-P*R)))/((R-1)*np.log((2-P*(R+1-np.sqrt(R**2+1)))/(2-P*(R+1+np.sqrt(R**2+1))))).to(u.dimensionless)\n",
    "print(f\"F = {F:.2f}\\n\")\n",
    "\n",
    "Q = UA*F*(T_CityWater-T_CityWater_out + T_CO2_out-T_CO2)/np.log((T_CO2_out-T_CO2)/(T_CityWater-T_CityWater_out))\n",
    "Qmax = (Cmin*(T_CityWater-T_CO2)).to(u.W)\n",
    "print(f\"Q = {Q:.2f}\")\n",
    "print(f\"Qmax = {Qmax:.2f}\\n\")\n",
    "print(f\"Q/Qmax = {(Q/Qmax*100).magnitude}\")\n",
    "\n",
    "e = (2*(1+Cr+np.sqrt(1+Cr**2)*(1+np.exp(-NTU*np.sqrt(1+Cr**2)))/(1-np.exp(-NTU*np.sqrt(1+Cr**2))))**-1*100).magnitude\n",
    "print(f\"Efficiency = {e}\")"
   ]
  },
  {
   "cell_type": "markdown",
   "metadata": {},
   "source": [
    "Se obtienen unas temperaturas de salida de T_CO2_out = 13.31°C y T_CityWater_out = 31.99°C\n",
    "\n",
    "Un error en diferencia de potencia de 5.97W\n",
    "\n",
    "Y un error de eficiencia de 0.0002"
   ]
  },
  {
   "cell_type": "code",
   "execution_count": 126,
   "metadata": {},
   "outputs": [
    {
     "name": "stdout",
     "output_type": "stream",
     "text": [
      "f_CO2 = 0.027110861016610137 dimensionless\n",
      "DP_CO2 = 1.7812320095329095 kilopascal\n",
      "DPm_CO2 = 2.0559403114550414 kilopascal\n",
      "DPt_CO2 = 3.8371723209879507 kilopascal\n",
      "\n",
      "f_CityWater = 0.3038773563385135 dimensionless\n",
      "DP_CityWater = 4.053857761401604 kilopascal\n",
      "\n",
      "DPt = 7.8910300823895545 kilopascal\n"
     ]
    }
   ],
   "source": [
    "# Pérdida de carga en los tubos\n",
    "e = 0.045*u.mm\n",
    "f_CO2 = fld.friction.friction_factor(Re_CO2, eD=e/di_tube).to(u.dimensionless)\n",
    "DP_CO2 = N_P*(f_CO2*l*V_CO2**2*rho_CO2/(2*di_tube)).to(u.kPa)\n",
    "DPm_CO2 = (4*N_P*V_CO2**2*rho_CO2/2).to(u.kPa)\n",
    "print(f\"f_CO2 = {f_CO2}\")\n",
    "print(f\"DP_CO2 = {DP_CO2}\")\n",
    "print(f\"DPm_CO2 = {DPm_CO2}\")\n",
    "print(f\"DPt_CO2 = {DP_CO2 + DPm_CO2}\\n\")\n",
    "\n",
    "f_CityWater = np.exp(0.576-0.19*np.log(Re_CityWater))\n",
    "DP_CityWater = (f_CityWater*(N_B+1)*d_shell/d_shell_eq*V_shell**2*rho_CityWater/2).to(u.kPa)\n",
    "print(f\"f_CityWater = {f_CityWater}\")\n",
    "print(f\"DP_CityWater = {DP_CityWater}\\n\")\n",
    "\n",
    "print(f\"DPt = {DP_CO2 + DPm_CO2 + DP_CityWater}\")"
   ]
  },
  {
   "cell_type": "markdown",
   "metadata": {},
   "source": [
    "Se obtiene una pérdida de carga total de 7.89 kilo pascales."
   ]
  },
  {
   "cell_type": "markdown",
   "metadata": {},
   "source": [
    "### b. The outlet temperatures of each fluid after the heat exchanger has been in continuous service for one year without maintenancece.\n",
    "\n",
    "Se considera el factor de ensuciamiento de la coraza y de los tubos como sigue:\n",
    "$$R^\"_{f,c} = \\frac{1}{U_d} - \\frac{1}{U}$$\n",
    "$$U_d = \\bigg(\\frac{1}{U} +R^\"_{f,c}\\bigg)^{-1}$$"
   ]
  },
  {
   "cell_type": "code",
   "execution_count": 128,
   "metadata": {},
   "outputs": [
    {
     "name": "stdout",
     "output_type": "stream",
     "text": [
      "UdA = 79.90 watt / kelvin\n",
      "NTUd = 0.0010476277582224453 dimensionless\n"
     ]
    }
   ],
   "source": [
    "UdA = (UA**-1+R_CO2/A_shell_eff+R_CityWater/A_shell_eff)**-1\n",
    "print(f\"UdA = {UdA:.2f}\")\n",
    "NTUd = (UdA/Cmin).to(u.dimensionless)\n",
    "print(f\"NTUd = {NTUd}\")"
   ]
  },
  {
   "cell_type": "code",
   "execution_count": 161,
   "metadata": {},
   "outputs": [
    {
     "name": "stdout",
     "output_type": "stream",
     "text": [
      "T_CO2_out = 6.279999999999973 degree_Celsius\n",
      "T_CityWater_out = 36.31 degree_Celsius\n",
      "\n",
      "Pot_CO2 = 478.97124924400174 kilowatt\n",
      "Pot_CityWater = -478.0832587447199 kilowatt\n",
      "DPot = 0.887990499281841 kilowatt\n",
      "\n",
      "F = 1.00 dimensionless\n",
      "\n",
      "Q = 3187.62 watt\n",
      "Qmax = 3050772.29 watt\n",
      "\n",
      "Q/Qmax = 0.10448558903440193\n",
      "Efficiency = 0.10467565520953458\n"
     ]
    }
   ],
   "source": [
    "# Iterando\n",
    "T_CO2_out_d = (6.28*u.degC).to(u.K)\n",
    "T_CityWater_out_d = (36.31*u.degC).to(u.K)\n",
    "print(f\"T_CO2_out = {T_CO2_out_d.to(u.degC)}\")\n",
    "print(f\"T_CityWater_out = {T_CityWater_out_d.to(u.degC)}\\n\")\n",
    "\n",
    "Pot_CO2 = (C_CO2*(T_CO2_out_d-T_CO2)).to(u.kW)\n",
    "Pot_CityWater = (C_CityWater*(T_CityWater_out_d-T_CityWater)).to(u.kW)\n",
    "print(f\"Pot_CO2 = {Pot_CO2}\")\n",
    "print(f\"Pot_CityWater = {Pot_CityWater}\")\n",
    "print(f\"DPot = {Pot_CO2+Pot_CityWater}\\n\")\n",
    "\n",
    "R = C_CO2/C_CityWater\n",
    "P = (T_CO2_out_d-T_CO2)/(T_CityWater-T_CO2)\n",
    "F = (np.sqrt(R**2+1)*np.log((1-P)/(1-P*R)))/((R-1)*np.log((2-P*(R+1-np.sqrt(R**2+1)))/(2-P*(R+1+np.sqrt(R**2+1))))).to(u.dimensionless)\n",
    "print(f\"F = {F:.2f}\\n\")\n",
    "\n",
    "Q = UA*F*(T_CityWater-T_CityWater_out_d + T_CO2_out_d-T_CO2)/np.log((T_CO2_out_d-T_CO2)/(T_CityWater-T_CityWater_out_d))\n",
    "Qmax = (Cmin*(T_CityWater-T_CO2)).to(u.W)\n",
    "print(f\"Q = {Q:.2f}\")\n",
    "print(f\"Qmax = {Qmax:.2f}\\n\")\n",
    "print(f\"Q/Qmax = {(Q/Qmax*100).magnitude}\")\n",
    "\n",
    "e = (2*(1+Cr+np.sqrt(1+Cr**2)*(1+np.exp(-NTUd*np.sqrt(1+Cr**2)))/(1-np.exp(-NTUd*np.sqrt(1+Cr**2))))**-1*100).magnitude\n",
    "print(f\"Efficiency = {e}\")"
   ]
  },
  {
   "cell_type": "markdown",
   "metadata": {},
   "source": [
    "c. If the outlet temperature of the carbon dioxide must be 20°C or higher, is this heat exchanger sufficient for the required duty?"
   ]
  },
  {
   "cell_type": "code",
   "execution_count": null,
   "metadata": {},
   "outputs": [],
   "source": []
  },
  {
   "cell_type": "markdown",
   "metadata": {},
   "source": [
    "# Pregunta 3\n",
    "Considere el plano hidráulico de la localidad de Hualañé y la distribución de diámetros determinada en la Tarea 2. Seleccione una bomba de uno de los dos catalogos disponibles, que permita entregar el caudal y nivel de presión requerido (6pts). Identifique el punto de operación de la bomba (6pts)"
   ]
  },
  {
   "cell_type": "code",
   "execution_count": null,
   "metadata": {},
   "outputs": [],
   "source": []
  },
  {
   "cell_type": "markdown",
   "metadata": {},
   "source": [
    "# Bibliografía\n",
    "\n",
    "[1] https://www.stainless-structurals.com/blog/comparing-the-thermal-conductivity-of-stainless-steel-to-other-metals/"
   ]
  },
  {
   "cell_type": "markdown",
   "metadata": {},
   "source": []
  }
 ],
 "metadata": {
  "kernelspec": {
   "display_name": "myenv",
   "language": "python",
   "name": "python3"
  },
  "language_info": {
   "codemirror_mode": {
    "name": "ipython",
    "version": 3
   },
   "file_extension": ".py",
   "mimetype": "text/x-python",
   "name": "python",
   "nbconvert_exporter": "python",
   "pygments_lexer": "ipython3",
   "version": "3.12.7"
  }
 },
 "nbformat": 4,
 "nbformat_minor": 2
}
