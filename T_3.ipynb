{
 "cells": [
  {
   "cell_type": "markdown",
   "metadata": {},
   "source": [
    "# Tarea 3: Piping y Bombas\n",
    "### Pablo Correa e Ian Gross"
   ]
  },
  {
   "cell_type": "markdown",
   "metadata": {},
   "source": [
    "## Librerías"
   ]
  },
  {
   "cell_type": "code",
   "execution_count": 2,
   "metadata": {},
   "outputs": [],
   "source": [
    "import CoolProp.CoolProp as cp\n",
    "import fluids as fld\n",
    "import numpy as np\n",
    "import scipy.constants as cte\n",
    "import scipy.optimize as opt\n",
    "import matplotlib.pyplot as plt\n",
    "import pandas as pd\n",
    "\n",
    "from fluids.units import *"
   ]
  },
  {
   "cell_type": "code",
   "execution_count": 3,
   "metadata": {},
   "outputs": [],
   "source": [
    "g = cte.g*u.m/u.s**2"
   ]
  },
  {
   "cell_type": "markdown",
   "metadata": {},
   "source": [
    "# Pregunta 1\n",
    "Considere el sistema de almacenamiento de energía visto en el laboratorio.\n",
    "\n",
    "A partir de los datos de operación del archivo anexo, verifique si la pérdida de carga observada se puede representar por la ecuación de Ergun.\n",
    "\n",
    "¿Cuánto es el error con respecto a la correlación? (3pts), ¿Cuanto afecta la temperatura y la variabilidad de las propiedades termofísicas del aire? (3pts).\n",
    "\n",
    "Asuma que el sistema de almacenamiento es un intercambiador de calor de flujo paralelo, donde el solido es uno de los medio de transferencia de calor. ¿Cuanto sería la efectividad del sistema (intercambiador de calor)? (3pts)"
   ]
  },
  {
   "cell_type": "code",
   "execution_count": 10,
   "metadata": {},
   "outputs": [
    {
     "data": {
      "text/html": [
       "<div>\n",
       "<style scoped>\n",
       "    .dataframe tbody tr th:only-of-type {\n",
       "        vertical-align: middle;\n",
       "    }\n",
       "\n",
       "    .dataframe tbody tr th {\n",
       "        vertical-align: top;\n",
       "    }\n",
       "\n",
       "    .dataframe thead th {\n",
       "        text-align: right;\n",
       "    }\n",
       "</style>\n",
       "<table border=\"1\" class=\"dataframe\">\n",
       "  <thead>\n",
       "    <tr style=\"text-align: right;\">\n",
       "      <th></th>\n",
       "      <th>Scan Sweep Time (Sec)</th>\n",
       "      <th>Scan Number</th>\n",
       "      <th>101 (°C)- T1</th>\n",
       "      <th>111 (m/s)- V_aire</th>\n",
       "      <th>116 (°C)- T_aire</th>\n",
       "      <th>121 (mbar)- P_diff</th>\n",
       "      <th>220 (°C)- T30</th>\n",
       "    </tr>\n",
       "  </thead>\n",
       "  <tbody>\n",
       "    <tr>\n",
       "      <th>0</th>\n",
       "      <td>2024-09-25 09:49:13.522</td>\n",
       "      <td>1</td>\n",
       "      <td>14.079405</td>\n",
       "      <td>6.472987</td>\n",
       "      <td>13.120901</td>\n",
       "      <td>0.992468</td>\n",
       "      <td>17.538146</td>\n",
       "    </tr>\n",
       "    <tr>\n",
       "      <th>1</th>\n",
       "      <td>2024-09-25 09:49:23.515</td>\n",
       "      <td>2</td>\n",
       "      <td>14.078369</td>\n",
       "      <td>6.656212</td>\n",
       "      <td>13.121559</td>\n",
       "      <td>1.165138</td>\n",
       "      <td>17.564700</td>\n",
       "    </tr>\n",
       "    <tr>\n",
       "      <th>2</th>\n",
       "      <td>2024-09-25 09:49:33.515</td>\n",
       "      <td>3</td>\n",
       "      <td>14.084538</td>\n",
       "      <td>6.437116</td>\n",
       "      <td>13.121187</td>\n",
       "      <td>1.213865</td>\n",
       "      <td>17.573132</td>\n",
       "    </tr>\n",
       "    <tr>\n",
       "      <th>3</th>\n",
       "      <td>2024-09-25 09:49:43.515</td>\n",
       "      <td>4</td>\n",
       "      <td>14.115000</td>\n",
       "      <td>6.546101</td>\n",
       "      <td>13.121459</td>\n",
       "      <td>1.051219</td>\n",
       "      <td>17.570347</td>\n",
       "    </tr>\n",
       "    <tr>\n",
       "      <th>4</th>\n",
       "      <td>2024-09-25 09:49:53.515</td>\n",
       "      <td>5</td>\n",
       "      <td>14.115085</td>\n",
       "      <td>6.437106</td>\n",
       "      <td>13.121394</td>\n",
       "      <td>1.138136</td>\n",
       "      <td>17.589255</td>\n",
       "    </tr>\n",
       "    <tr>\n",
       "      <th>...</th>\n",
       "      <td>...</td>\n",
       "      <td>...</td>\n",
       "      <td>...</td>\n",
       "      <td>...</td>\n",
       "      <td>...</td>\n",
       "      <td>...</td>\n",
       "      <td>...</td>\n",
       "    </tr>\n",
       "    <tr>\n",
       "      <th>2193</th>\n",
       "      <td>2024-09-25 15:54:43.516</td>\n",
       "      <td>2194</td>\n",
       "      <td>30.401201</td>\n",
       "      <td>6.624077</td>\n",
       "      <td>18.110073</td>\n",
       "      <td>-0.993292</td>\n",
       "      <td>19.313422</td>\n",
       "    </tr>\n",
       "    <tr>\n",
       "      <th>2194</th>\n",
       "      <td>2024-09-25 15:54:53.516</td>\n",
       "      <td>2195</td>\n",
       "      <td>30.379024</td>\n",
       "      <td>6.654350</td>\n",
       "      <td>17.866438</td>\n",
       "      <td>-0.811574</td>\n",
       "      <td>19.329506</td>\n",
       "    </tr>\n",
       "    <tr>\n",
       "      <th>2195</th>\n",
       "      <td>2024-09-25 15:55:03.516</td>\n",
       "      <td>2196</td>\n",
       "      <td>30.373109</td>\n",
       "      <td>6.654364</td>\n",
       "      <td>18.111046</td>\n",
       "      <td>-0.891405</td>\n",
       "      <td>19.376573</td>\n",
       "    </tr>\n",
       "    <tr>\n",
       "      <th>2196</th>\n",
       "      <td>2024-09-25 15:55:13.516</td>\n",
       "      <td>2197</td>\n",
       "      <td>30.396446</td>\n",
       "      <td>6.623994</td>\n",
       "      <td>18.111007</td>\n",
       "      <td>-1.021911</td>\n",
       "      <td>19.408551</td>\n",
       "    </tr>\n",
       "    <tr>\n",
       "      <th>2197</th>\n",
       "      <td>2024-09-25 15:55:23.516</td>\n",
       "      <td>2198</td>\n",
       "      <td>30.319782</td>\n",
       "      <td>6.654297</td>\n",
       "      <td>18.193865</td>\n",
       "      <td>-1.076229</td>\n",
       "      <td>19.419731</td>\n",
       "    </tr>\n",
       "  </tbody>\n",
       "</table>\n",
       "<p>2198 rows × 7 columns</p>\n",
       "</div>"
      ],
      "text/plain": [
       "       Scan Sweep Time (Sec)  Scan Number  101 (°C)- T1  111 (m/s)- V_aire  \\\n",
       "0    2024-09-25 09:49:13.522            1     14.079405           6.472987   \n",
       "1    2024-09-25 09:49:23.515            2     14.078369           6.656212   \n",
       "2    2024-09-25 09:49:33.515            3     14.084538           6.437116   \n",
       "3    2024-09-25 09:49:43.515            4     14.115000           6.546101   \n",
       "4    2024-09-25 09:49:53.515            5     14.115085           6.437106   \n",
       "...                      ...          ...           ...                ...   \n",
       "2193 2024-09-25 15:54:43.516         2194     30.401201           6.624077   \n",
       "2194 2024-09-25 15:54:53.516         2195     30.379024           6.654350   \n",
       "2195 2024-09-25 15:55:03.516         2196     30.373109           6.654364   \n",
       "2196 2024-09-25 15:55:13.516         2197     30.396446           6.623994   \n",
       "2197 2024-09-25 15:55:23.516         2198     30.319782           6.654297   \n",
       "\n",
       "      116 (°C)- T_aire  121 (mbar)- P_diff  220 (°C)- T30  \n",
       "0            13.120901            0.992468      17.538146  \n",
       "1            13.121559            1.165138      17.564700  \n",
       "2            13.121187            1.213865      17.573132  \n",
       "3            13.121459            1.051219      17.570347  \n",
       "4            13.121394            1.138136      17.589255  \n",
       "...                ...                 ...            ...  \n",
       "2193         18.110073           -0.993292      19.313422  \n",
       "2194         17.866438           -0.811574      19.329506  \n",
       "2195         18.111046           -0.891405      19.376573  \n",
       "2196         18.111007           -1.021911      19.408551  \n",
       "2197         18.193865           -1.076229      19.419731  \n",
       "\n",
       "[2198 rows x 7 columns]"
      ]
     },
     "execution_count": 10,
     "metadata": {},
     "output_type": "execute_result"
    }
   ],
   "source": [
    "data = pd.read_excel(\"Ensayo Piloto Lleno T-220°C.xlsx\", skiprows=16, usecols=\"A:G\")\n",
    "data"
   ]
  },
  {
   "cell_type": "markdown",
   "metadata": {},
   "source": [
    "# Pregunta 2\n",
    "Liquid  carbon  dioxide  enters  the  tubes  of  a  shell  and  tube  heat  exchanger  at  a  temperature of 0°C and a flow rate of 30 kg/s. The carbon dioxide is heated with a flow of city water that enters the shell side of the heat exchanger at a temperature of 40°C and a flow rate of 31 kg/s. The heat exchanger is a single shell, two-tube pass configuration with a 25 in shell. The tubes are ¾-in 10 BWG laid out on a 1-in triangular pitch. The heat exchanger is 2 m long and contains 2 baffles per meter of length. Determinea.\n",
    "\n",
    "a. The outlet temperatures and pressure drops of each fluid in the heat exchanger for the case of a brand new heat exchanger just put into serviceb.\n",
    "\n",
    "b. The outlet temperatures of each fluid after the heat exchanger has been in con-tinuous service for one year without maintenancec.\n",
    "\n",
    "c. If the outlet temperature of the carbon dioxide must be 20°C or higher, is this heat exchanger sufficient for the required duty?"
   ]
  },
  {
   "cell_type": "code",
   "execution_count": null,
   "metadata": {},
   "outputs": [],
   "source": []
  },
  {
   "cell_type": "markdown",
   "metadata": {},
   "source": [
    "# Pregunta 3\n",
    "Considere el plano hidráulico de la localidad de Hualañé y la distribución de diámetros determinada en la Tarea 2. Seleccione una bomba de uno de los dos catalogos disponibles, que permita entregar el caudal y nivel de presión requerido (6pts). Identifique el punto de operación de la bomba (6pts)"
   ]
  },
  {
   "cell_type": "code",
   "execution_count": null,
   "metadata": {},
   "outputs": [],
   "source": []
  },
  {
   "cell_type": "markdown",
   "metadata": {},
   "source": [
    "# Bibliografía"
   ]
  }
 ],
 "metadata": {
  "kernelspec": {
   "display_name": "Python 3",
   "language": "python",
   "name": "python3"
  },
  "language_info": {
   "codemirror_mode": {
    "name": "ipython",
    "version": 3
   },
   "file_extension": ".py",
   "mimetype": "text/x-python",
   "name": "python",
   "nbconvert_exporter": "python",
   "pygments_lexer": "ipython3",
   "version": "3.9.0"
  }
 },
 "nbformat": 4,
 "nbformat_minor": 2
}
